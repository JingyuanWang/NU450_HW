{
 "cells": [
  {
   "cell_type": "code",
   "execution_count": 41,
   "metadata": {},
   "outputs": [
    {
     "data": {
      "text/plain": [
       "<module 'production.firm_production' from '/Users/jingyuanwang/GitHub/NU450_HW/450-1-HW1/production/firm_production.py'>"
      ]
     },
     "execution_count": 41,
     "metadata": {},
     "output_type": "execute_result"
    }
   ],
   "source": [
    "# !conda install -c conda-forge statsmodels\n",
    "\n",
    "import numpy as np\n",
    "import pandas as pd\n",
    "import scipy.stats as stats\n",
    "import scipy.optimize as opt\n",
    "import econtools \n",
    "import econtools.metrics as mt\n",
    "import statsmodels.discrete.discrete_model as sm\n",
    "from sklearn.utils import resample\n",
    "import itertools as iter\n",
    "import matplotlib.pyplot as plt\n",
    "\n",
    "# mine\n",
    "import os,sys,inspect\n",
    "currentdir = os.path.dirname(os.path.abspath(inspect.getfile(inspect.currentframe())))\n",
    "parentdir = os.path.dirname(currentdir)\n",
    "sys.path.insert(0,parentdir) \n",
    "\n",
    "import myfunctions as mf\n",
    "\n",
    "import production.firm_production as prod\n",
    "import importlib\n",
    "importlib.reload(mf)\n",
    "importlib.reload(prod)"
   ]
  },
  {
   "cell_type": "code",
   "execution_count": 42,
   "metadata": {},
   "outputs": [],
   "source": [
    "# ------------------------------------------------------------------------\n",
    "# NOTE\n",
    "# ------------------------------------------------------------------------\n",
    "# Purpose: HW1 P2\n",
    "# \n",
    "# Inport data and stats\n",
    "# Test OP and GNR model\n",
    "#\n",
    "# ------------------------------------------------------------------------"
   ]
  },
  {
   "cell_type": "markdown",
   "metadata": {},
   "source": [
    "# 0. Initialize file path -----------------------------------------------"
   ]
  },
  {
   "cell_type": "code",
   "execution_count": 43,
   "metadata": {},
   "outputs": [],
   "source": [
    "rootpath = '/Users/jingyuanwang/Dropbox/Course/ECON/IO/NU450/NU450_HW/450-1-HW1'\n",
    "datapath = rootpath + '/' + 'data'\n",
    "resultpath = rootpath + '/' + 'results'"
   ]
  },
  {
   "cell_type": "markdown",
   "metadata": {},
   "source": [
    "# I. Import data -------------------------------------------------------"
   ]
  },
  {
   "cell_type": "code",
   "execution_count": 44,
   "metadata": {},
   "outputs": [],
   "source": [
    "# 1. get data\n",
    "filename = 'PS1_data_cleaned'\n",
    "inputname = datapath + '/' + filename + '.dta'\n",
    "df = pd.read_stata(inputname)"
   ]
  },
  {
   "cell_type": "code",
   "execution_count": 45,
   "metadata": {},
   "outputs": [
    {
     "name": "stdout",
     "output_type": "stream",
     "text": [
      "-- Table: Number of firms in each industry-year (full sample) ----\n",
      "industry_id  1   2   3   4   5   6   7   8   9   10  11  12  13  14  15  16  \\\n",
      "year                                                                          \n",
      "1990         14  36  50  61  35   9  56  26  15  15  64  16  73  13  37  39   \n",
      "1991         18  60  68 102  53  10  92  43  23  22  97  23 112  29  54  71   \n",
      "1992         23  75  86 124  58  11 108  52  27  25 127  28 133  37  70  86   \n",
      "1993         24  74  84 112  63  12  99  56  25  28 136  30 126  36  74  84   \n",
      "1994         29  85  92 119  75  11 105  59  22  35 129  25 129  35  76  85   \n",
      "1995         32  86  92 123  80   9 106  59  24  40 128  25 131  32  68  86   \n",
      "1996         34  91  88 125  84   9 100  59  25  41 126  23 132  41  69  92   \n",
      "1997         35  91  88 163  93  14 118  70  30  44 135  19 139  50  86 103   \n",
      "1998         30  88  85 160  90  12 112  67  31  39 128  18 135  46  83 101   \n",
      "1999         29  71  71 137  76   9  91  58  27  27 107  15 121  32  72  81   \n",
      "Total        50 132 141 254 145  27 192 106  53  56 210  40 218  79 139 162   \n",
      "\n",
      "industry_id  17  18  \n",
      "year                 \n",
      "1990         25  13  \n",
      "1991         46  20  \n",
      "1992         58  25  \n",
      "1993         65  25  \n",
      "1994         72  24  \n",
      "1995         77  24  \n",
      "1996         80  24  \n",
      "1997         95  29  \n",
      "1998         92  26  \n",
      "1999         84  22  \n",
      "Total       146  43  \n"
     ]
    }
   ],
   "source": [
    "# 2. fit it into a class: panel data productivity\n",
    "firm_prod = prod.firm_production(df = df, firm_id = 'firm_id', year_id = 'year', \n",
    "                                 industry_id='industry_id',\n",
    "                                resultpath = resultpath)"
   ]
  },
  {
   "cell_type": "code",
   "execution_count": 46,
   "metadata": {},
   "outputs": [
    {
     "name": "stdout",
     "output_type": "stream",
     "text": [
      "-- Table: Number of firms in each industry-year (balanced sample) ----\n",
      "industry_id  1   2   3   4   5   6   7   8   9   10  11  12  13  14  15  16  \\\n",
      "year                                                                          \n",
      "1990          5  21  14  24  13   3  26  11   6   6  26   5  32   5  10  15   \n",
      "1991          5  21  14  24  13   3  26  11   6   6  26   5  32   5  10  15   \n",
      "1992          5  21  14  24  13   3  26  11   6   6  26   5  32   5  10  15   \n",
      "1993          5  21  14  24  13   3  26  11   6   6  26   5  32   5  10  15   \n",
      "1994          5  21  14  24  13   3  26  11   6   6  26   5  32   5  10  15   \n",
      "1995          5  21  14  24  13   3  26  11   6   6  26   5  32   5  10  15   \n",
      "1996          5  21  14  24  13   3  26  11   6   6  26   5  32   5  10  15   \n",
      "1997          5  21  14  24  13   3  26  11   6   6  26   5  32   5  10  15   \n",
      "1998          5  21  14  24  13   3  26  11   6   6  26   5  32   5  10  15   \n",
      "1999          5  21  14  24  13   3  26  11   6   6  26   5  32   5  10  15   \n",
      "Total         5  21  14  24  13   3  26  11   6   6  26   5  32   5  10  15   \n",
      "\n",
      "industry_id  17  18  \n",
      "year                 \n",
      "1990         10   3  \n",
      "1991         10   3  \n",
      "1992         10   3  \n",
      "1993         10   3  \n",
      "1994         10   3  \n",
      "1995         10   3  \n",
      "1996         10   3  \n",
      "1997         10   3  \n",
      "1998         10   3  \n",
      "1999         10   3  \n",
      "Total        10   3  \n"
     ]
    }
   ],
   "source": [
    "# get a balanced panel\n",
    "firm_prod.balance_panel()"
   ]
  },
  {
   "cell_type": "markdown",
   "metadata": {},
   "source": [
    "# II. Stats ---------------------------------------------------------"
   ]
  },
  {
   "cell_type": "code",
   "execution_count": 47,
   "metadata": {},
   "outputs": [
    {
     "data": {
      "text/html": [
       "<div>\n",
       "<style scoped>\n",
       "    .dataframe tbody tr th:only-of-type {\n",
       "        vertical-align: middle;\n",
       "    }\n",
       "\n",
       "    .dataframe tbody tr th {\n",
       "        vertical-align: top;\n",
       "    }\n",
       "\n",
       "    .dataframe thead th {\n",
       "        text-align: right;\n",
       "    }\n",
       "</style>\n",
       "<table border=\"1\" class=\"dataframe\">\n",
       "  <thead>\n",
       "    <tr style=\"text-align: right;\">\n",
       "      <th></th>\n",
       "      <th>N</th>\n",
       "      <th>mean</th>\n",
       "      <th>std</th>\n",
       "      <th>min</th>\n",
       "      <th>25%</th>\n",
       "      <th>50%</th>\n",
       "      <th>75%</th>\n",
       "      <th>max</th>\n",
       "    </tr>\n",
       "  </thead>\n",
       "  <tbody>\n",
       "    <tr>\n",
       "      <th>lg(Gross Output)</th>\n",
       "      <td>2350.00</td>\n",
       "      <td>14.04</td>\n",
       "      <td>1.64</td>\n",
       "      <td>8.86</td>\n",
       "      <td>12.57</td>\n",
       "      <td>14.10</td>\n",
       "      <td>15.36</td>\n",
       "      <td>18.05</td>\n",
       "    </tr>\n",
       "    <tr>\n",
       "      <th>lg(Capital)</th>\n",
       "      <td>2350.00</td>\n",
       "      <td>12.32</td>\n",
       "      <td>1.87</td>\n",
       "      <td>8.02</td>\n",
       "      <td>10.84</td>\n",
       "      <td>12.23</td>\n",
       "      <td>13.86</td>\n",
       "      <td>17.56</td>\n",
       "    </tr>\n",
       "    <tr>\n",
       "      <th>lg(Labor)</th>\n",
       "      <td>2350.00</td>\n",
       "      <td>7.48</td>\n",
       "      <td>0.06</td>\n",
       "      <td>6.38</td>\n",
       "      <td>7.47</td>\n",
       "      <td>7.49</td>\n",
       "      <td>7.50</td>\n",
       "      <td>7.80</td>\n",
       "    </tr>\n",
       "    <tr>\n",
       "      <th>lg(Materials)</th>\n",
       "      <td>2350.00</td>\n",
       "      <td>13.49</td>\n",
       "      <td>1.76</td>\n",
       "      <td>6.84</td>\n",
       "      <td>12.06</td>\n",
       "      <td>13.59</td>\n",
       "      <td>14.87</td>\n",
       "      <td>17.78</td>\n",
       "    </tr>\n",
       "    <tr>\n",
       "      <th>lg(Investment)</th>\n",
       "      <td>2350.00</td>\n",
       "      <td>9.43</td>\n",
       "      <td>3.77</td>\n",
       "      <td>0.00</td>\n",
       "      <td>8.47</td>\n",
       "      <td>10.27</td>\n",
       "      <td>11.90</td>\n",
       "      <td>15.96</td>\n",
       "    </tr>\n",
       "  </tbody>\n",
       "</table>\n",
       "</div>"
      ],
      "text/plain": [
       "                       N  mean  std  min   25%   50%   75%   max\n",
       "lg(Gross Output) 2350.00 14.04 1.64 8.86 12.57 14.10 15.36 18.05\n",
       "lg(Capital)      2350.00 12.32 1.87 8.02 10.84 12.23 13.86 17.56\n",
       "lg(Labor)        2350.00  7.48 0.06 6.38  7.47  7.49  7.50  7.80\n",
       "lg(Materials)    2350.00 13.49 1.76 6.84 12.06 13.59 14.87 17.78\n",
       "lg(Investment)   2350.00  9.43 3.77 0.00  8.47 10.27 11.90 15.96"
      ]
     },
     "execution_count": 47,
     "metadata": {},
     "output_type": "execute_result"
    }
   ],
   "source": [
    "# --------------------------------------\n",
    "# Table 1 statistics on variables\n",
    "# --------------------------------------\n",
    "def sum_stats(df, tablename=None):\n",
    "    list_var = ['ly','lc','lh','lm','linv']\n",
    "    dict_var = {'ly':'lg(Gross Output)',\n",
    "            'lc':'lg(Capital)',\n",
    "            'lh':'lg(Labor)',\n",
    "            'lm':'lg(Materials)',\n",
    "            'linv':'lg(Investment)',}\n",
    "    pd.options.display.float_format = '{:.2f}'.format\n",
    "\n",
    "    table  = (df[list_var].describe().T\n",
    "             .reindex(list_var)\n",
    "             .rename(columns={'count':'N'}, index=dict_var)\n",
    "             )\n",
    "    \n",
    "    if tablename != None:\n",
    "        outputname = resultpath + '/' + tablename + '.tex'\n",
    "        table.to_latex(outputname)\n",
    "    return table\n",
    "    \n",
    "sum_stats(firm_prod.full_sample, 'Table1_fullsample')\n",
    "sum_stats(firm_prod.balanced_sample, 'Table1_balancedsample')"
   ]
  },
  {
   "cell_type": "code",
   "execution_count": 48,
   "metadata": {},
   "outputs": [],
   "source": [
    "# --------------------------------------\n",
    "# Table 2: number of firms per industry \n",
    "#          number of firms with invest/labor/material ==0\n",
    "# --------------------------------------\n",
    "def table2(df, tablename=None):\n",
    "    pd.options.display.float_format = '{:,.0f}'.format\n",
    "    table2 = (df.pivot_table(values=['firm_id','lh','linv','lm'], \n",
    "                    index=['industry_id', 'year'], \n",
    "                    aggfunc={'firm_id':np.count_nonzero, \n",
    "                             'lh':np.count_nonzero,\n",
    "                             'linv': np.count_nonzero,\n",
    "                             'lm':np.count_nonzero}  )\n",
    "          .rename(columns = {'firm_id': 'Number of firms',\n",
    "                             'lh' : 'Labor input = 0',\n",
    "                             'linv' : 'Investment = 0',\n",
    "                             'lm' : 'Materials input = 0'} )\n",
    "         )\n",
    "    for columnName in table2.columns[1:]:\n",
    "        table2[columnName] = table2['Number of firms'] - table2[columnName] \n",
    "        \n",
    "    table2_N = table2.reset_index().pivot(index='year', columns='industry_id', values='Number of firms')\n",
    "    table2_inv = table2.reset_index().pivot(index='year', columns='industry_id', values='Investment = 0')\n",
    "    table2_l = table2.reset_index().pivot(index='year', columns='industry_id', values='Labor input = 0')\n",
    "    table2_m = table2.reset_index().pivot(index='year', columns='industry_id', values='Materials input = 0')\n",
    "    \n",
    "    if tablename != None:\n",
    "        outputname = resultpath + '/' + tablename + '_numoffirm' + '.tex'\n",
    "        table2_N.to_latex(outputname)\n",
    "        outputname = resultpath + '/' + tablename + '_invest' + '.tex'\n",
    "        table2_inv.to_latex(outputname)\n",
    "        outputname = resultpath + '/' + tablename + '_material' + '.tex'\n",
    "        table2_l.to_latex(outputname)\n",
    "        outputname = resultpath + '/' + tablename + '_labor' + '.tex'\n",
    "        table2_m.to_latex(outputname)\n",
    "    \n",
    "    return table2_N, table2_inv, table2_l, table2_m\n",
    "\n",
    "(table2_N, table2_inv, table2_l, table2_m)=table2(firm_prod.balanced_sample, 'Table2_balancedsample')\n",
    "(table2_N, table2_inv, table2_l, table2_m)=table2(firm_prod.full_sample, 'Table2_fullsample')"
   ]
  },
  {
   "cell_type": "markdown",
   "metadata": {},
   "source": [
    "# III. regression ---------------------------------------------------------"
   ]
  },
  {
   "cell_type": "markdown",
   "metadata": {},
   "source": [
    "## OP"
   ]
  },
  {
   "cell_type": "code",
   "execution_count": 180,
   "metadata": {},
   "outputs": [],
   "source": [
    "# specify variable names, in ln\n",
    "yvar = 'ly_va'\n",
    "statevar = 'lc'\n",
    "labor = 'll'\n",
    "investment = 'linv'\n",
    "exit = 'exit'\n",
    "ids = ['industry_id', 'firm_id', 'year']"
   ]
  },
  {
   "cell_type": "code",
   "execution_count": 181,
   "metadata": {},
   "outputs": [],
   "source": [
    "# what goes into the OP model\n",
    "industry = 1\n",
    "variables = [yvar, statevar, labor,investment, exit]"
   ]
  },
  {
   "cell_type": "code",
   "execution_count": 182,
   "metadata": {},
   "outputs": [
    {
     "name": "stdout",
     "output_type": "stream",
     "text": [
      "-- generate: poly_linv_lc_0_0 --\n",
      "-- generate: poly_linv_lc_1_0 --\n",
      "-- generate: poly_linv_lc_2_0 --\n",
      "-- generate: poly_linv_lc_3_0 --\n",
      "-- generate: poly_linv_lc_0_1 --\n",
      "-- generate: poly_linv_lc_0_2 --\n",
      "-- generate: poly_linv_lc_0_3 --\n",
      "-- ['linv', 'lc']\n",
      "-- generate: poly_linv_lc_1_1 --\n",
      "-- ['linv', 'lc']\n",
      "-- generate: poly_linv_lc_1_2 --\n",
      "-- generate: poly_linv_lc_2_1 --\n",
      "# --- Finish generating polynomials ---\n"
     ]
    }
   ],
   "source": [
    "# STEP 0 : get data, generate non-par polynomials\n",
    "df = firm_prod.full_sample.loc[firm_prod.full_sample['industry_id']==industry, ids + variables]\n",
    "[df, poly] = mf.gen_poly(df,['linv','lc'],3)"
   ]
  },
  {
   "cell_type": "code",
   "execution_count": 183,
   "metadata": {},
   "outputs": [],
   "source": [
    "# step 1: single out flexible var and state var \n",
    "# get a function of all state vars Phi --> able to express unknown state var (productivity) by known state vars\n",
    "\n",
    "# (1) OLS\n",
    "xvar = poly + [labor]\n",
    "stage1 = mt.reg(df_stage1, yvar, xvar)"
   ]
  },
  {
   "cell_type": "code",
   "execution_count": 184,
   "metadata": {},
   "outputs": [],
   "source": [
    "# (2) get labor coeff\n",
    "beta_l = stage1.beta[labor]\n",
    "# save yhat and phi, where yhat = betal * l + phi\n",
    "df['yhat'] = stage1.yhat\n",
    "df['phi'] = stage1.yhat - beta_l*df_stage1[labor]"
   ]
  },
  {
   "cell_type": "code",
   "execution_count": 185,
   "metadata": {},
   "outputs": [
    {
     "name": "stdout",
     "output_type": "stream",
     "text": [
      "Warning: Maximum number of iterations has been exceeded.\n",
      "         Current function value: 0.153419\n",
      "         Iterations: 35\n"
     ]
    },
    {
     "name": "stderr",
     "output_type": "stream",
     "text": [
      "/Users/jingyuanwang/anaconda3/lib/python3.7/site-packages/statsmodels/base/model.py:512: ConvergenceWarning: Maximum Likelihood optimization failed to converge. Check mle_retvals\n",
      "  \"Check mle_retvals\", ConvergenceWarning)\n"
     ]
    }
   ],
   "source": [
    "# step 2: estimate an \"correlated\" exit rate --> how exit rate depends on known state variables\n",
    "# logit\n",
    "# (1) regression\n",
    "model = sm.Probit(df[exit].values, df.groupby('firm_id')[poly].shift(periods = 1).values,missing='drop')\n",
    "results = model.fit()"
   ]
  },
  {
   "cell_type": "code",
   "execution_count": 186,
   "metadata": {},
   "outputs": [
    {
     "name": "stderr",
     "output_type": "stream",
     "text": [
      "/Users/jingyuanwang/anaconda3/lib/python3.7/site-packages/ipykernel_launcher.py:6: SettingWithCopyWarning: \n",
      "A value is trying to be set on a copy of a slice from a DataFrame.\n",
      "Try using .loc[row_indexer,col_indexer] = value instead\n",
      "\n",
      "See the caveats in the documentation: http://pandas.pydata.org/pandas-docs/stable/indexing.html#indexing-view-versus-copy\n",
      "  \n"
     ]
    }
   ],
   "source": [
    "# (2) save p_hat\n",
    "p_hat = model.cdf(results.fittedvalues)\n",
    "\n",
    "# merge\n",
    "df2 = df[ids]\n",
    "df2['p_hat'] = df.groupby('firm_id')['poly_linv_lc_0_0'].shift(periods = 1)\n",
    "df2 = df2[~np.isnan(df2['p_hat'])]\n",
    "df2['p_hat'] = p_hat\n",
    "\n",
    "df = pd.merge(df, df2, how = 'left',\n",
    "        left_on = ids, right_on = ids)"
   ]
  },
  {
   "cell_type": "code",
   "execution_count": 188,
   "metadata": {},
   "outputs": [],
   "source": [
    "# step 3: regress the function of state vars Phi on certain format of state var --> to identify coeffs\n",
    "# for the unknown statevar, replace with a control function got from step 1\n",
    "\n",
    "df['L_lncapital'] = df.groupby('firm_id')['lc'].shift(periods = 1)\n",
    "df['L_phi'] = df.groupby('firm_id')['phi'].shift(periods = 1)\n",
    "\n",
    "# clean df\n",
    "# drop a row if any element == nan\n",
    "df.dropna(inplace = True)\n"
   ]
  },
  {
   "cell_type": "code",
   "execution_count": 192,
   "metadata": {},
   "outputs": [],
   "source": [
    "poly_max = 3\n",
    "# Optimize\n",
    "def g(beta0, beta_k, df):\n",
    "    L_omega = (df['L_phi'] - beta0 - beta_k * df['L_lncapital']).values\n",
    "    p_hat = df['p_hat'].values\n",
    "    A= np.zeros(len(p_hat))\n",
    "    for i in range(0,poly_max+1):\n",
    "        for j in range(0,poly_max+1-i):\n",
    "            A= A+L_omega**i + p_hat**j\n",
    "    \n",
    "    # alternative\n",
    "    s = sum([L_omega**i + p_hat**j for i in range(0,poly_max+1) for j in range(0,poly_max+1-i)])\n",
    "    return s\n",
    "#(abs(A-s) <= 1e-5).all()\n",
    "\n",
    "def OP_stage2_obj(beta, df, statevar):\n",
    "    ''' the LHS is phi'''\n",
    "    beta0 = beta[0]\n",
    "    beta_k = beta[1]\n",
    "    LHS = df['phi']\n",
    "    RHS = beta0+beta_k*df[statevar].values+g(beta0, beta_k, df)\n",
    "    return sum((LHS-RHS)**2)\n",
    "    \n",
    "\n",
    "beta_initial = np.ones(2)\n",
    "results = opt.minimize(OP_stage2_obj,\n",
    "                       beta_initial,\n",
    "                       args = (df,statevar) )"
   ]
  },
  {
   "cell_type": "code",
   "execution_count": 193,
   "metadata": {},
   "outputs": [
    {
     "data": {
      "text/plain": [
       "{'alpha_k': -1.0048837899070535, 'alpha_l': 0.7737483337730282}"
      ]
     },
     "execution_count": 193,
     "metadata": {},
     "output_type": "execute_result"
    }
   ],
   "source": [
    "alphas_OP = {'alpha_k':results.x[1], \n",
    "             'alpha_l':beta_l}"
   ]
  },
  {
   "cell_type": "markdown",
   "metadata": {},
   "source": [
    "## GNR"
   ]
  },
  {
   "cell_type": "code",
   "execution_count": 195,
   "metadata": {},
   "outputs": [],
   "source": [
    "# specify variable names, in ln\n",
    "yvar = 'ly'\n",
    "statevar = ['lc','ll']\n",
    "flexiblevar = 'lm'\n",
    "price_m = 'lwm'\n",
    "price_y = 'lp'\n",
    "prices = [price_m, price_y]\n",
    "ids = ['industry_id', 'firm_id', 'year']"
   ]
  },
  {
   "cell_type": "code",
   "execution_count": 210,
   "metadata": {},
   "outputs": [
    {
     "name": "stdout",
     "output_type": "stream",
     "text": [
      "--GNR:\n",
      "--for industry 13 ----------------------\n",
      "-- generate: poly_lc_ll_lm_0_0_0 --\n",
      "-- generate: poly_lc_ll_lm_1_0_0 --\n",
      "-- generate: poly_lc_ll_lm_0_1_0 --\n",
      "-- generate: poly_lc_ll_lm_0_0_1 --\n",
      "# --- Finish generating polynomials ---\n",
      "--GNR: stage 1 optimization completed\n"
     ]
    },
    {
     "data": {
      "image/png": "[encoded data removed]",
      "text/plain": [
       "<Figure size 432x288 with 1 Axes>"
      ]
     },
     "metadata": {
      "needs_background": "light"
     },
     "output_type": "display_data"
    },
    {
     "name": "stdout",
     "output_type": "stream",
     "text": [
      "['poly_lc_ll_lm_0_0_0', 'poly_lc_ll_lm_1_0_0', 'poly_lc_ll_lm_0_1_0', 'poly_lc_ll_lm_0_0_1']\n",
      "--GNR: stage 1 completed --------------------- \n",
      "-- generate: poly_ll_lc_0_0 --\n",
      "-- generate: poly_ll_lc_1_0 --\n",
      "-- generate: poly_ll_lc_0_1 --\n",
      "# --- Finish generating polynomials ---\n",
      "--GNR: stage 2 optimization completed\n"
     ]
    },
    {
     "data": {
      "image/png": "[encoded data removed]",
      "text/plain": [
       "<Figure size 432x288 with 1 Axes>"
      ]
     },
     "metadata": {
      "needs_background": "light"
     },
     "output_type": "display_data"
    },
    {
     "name": "stdout",
     "output_type": "stream",
     "text": [
      "['poly_ll_lc_0_0', 'poly_ll_lc_1_0', 'poly_ll_lc_0_1']\n",
      "--GNR: stage 2 completed ---------------------\n",
      "\n",
      "--GNR: fitted ln(gross output) (single out productivities)\n"
     ]
    },
    {
     "data": {
      "image/png": "[encoded data removed]",
      "text/plain": [
       "<Figure size 432x288 with 1 Axes>"
      ]
     },
     "metadata": {
      "needs_background": "light"
     },
     "output_type": "display_data"
    },
    {
     "name": "stdout",
     "output_type": "stream",
     "text": [
      "# --- ~ o(*￣▽￣*)o ~\n",
      "# --- Complete GNR !!!  ~ o(*￣▽￣*)o ~\n"
     ]
    }
   ],
   "source": [
    "sample = firm_prod.full_sample\n",
    "[alphas_final,df_stage1,df_stage2, parameters] = firm_prod.GNR(sample, yvar, statevar, flexiblevar,price_m, price_y, \n",
    "                                                               industry=13, \n",
    "                                                               stage1_polymax=1,\n",
    "                                                               stage2_polymax=1)"
   ]
  },
  {
   "cell_type": "code",
   "execution_count": 214,
   "metadata": {},
   "outputs": [
    {
     "data": {
      "text/plain": [
       "{'alpha_k': 0.1459728226918059,\n",
       " 'alpha_l': 0.3600491270219449,\n",
       " 'alpha_m': 0.5390507975468766}"
      ]
     },
     "execution_count": 214,
     "metadata": {},
     "output_type": "execute_result"
    }
   ],
   "source": [
    "alphas_final"
   ]
  },
  {
   "cell_type": "markdown",
   "metadata": {},
   "source": [
    "# Bootstrap-GNR SE"
   ]
  },
  {
   "cell_type": "code",
   "execution_count": 211,
   "metadata": {},
   "outputs": [],
   "source": [
    "def bootstrap(df, groupid, estimation ,total_times = 10):\n",
    "    beta_all = []\n",
    "    \n",
    "    # draw from firm index pool\n",
    "    index = df[groupid].unique()\n",
    "    # num of firms\n",
    "    subsample_num_of_firms = np.ceil(len(index)*0.8).astype(int)\n",
    "    \n",
    "    for n in range(0,total_times):\n",
    "        # resample\n",
    "        sample_firms = resample(index, replace = True, n_samples=subsample_num_of_firms)\n",
    "        subsample = df[df[groupid].isin(sample_firms)]\n",
    "        # estimation\n",
    "        results = estimation(subsample)\n",
    "        betas = results[0]\n",
    "        betas = np.fromiter(betas.values(), dtype=float)\n",
    "        # save beta\n",
    "        if np.isnan(betas).any()==False:\n",
    "            beta_all.append(betas)\n",
    "        # print progress every 10 optimizations\n",
    "        if n%20 == 0:\n",
    "            print('--{}------'.format(n))\n",
    "            print('beta: {}'.format(betas))\n",
    "            \n",
    "    # get variance of beta\n",
    "    b = np.column_stack(beta_all)\n",
    "    var_cov = np.cov(b)\n",
    "    std_err = np.sqrt(np.diag(var_cov))\n",
    "    return [std_err, var_cov]"
   ]
  },
  {
   "cell_type": "code",
   "execution_count": 213,
   "metadata": {},
   "outputs": [
    {
     "name": "stdout",
     "output_type": "stream",
     "text": [
      "--0------\n",
      "beta: [0.12462123 0.44444912 0.54284782]\n",
      "--20------\n",
      "beta: [0.17459345 0.34185752 0.52179217]\n",
      "--40------\n",
      "beta: [ 0.12001906 -0.00247997  0.54494393]\n"
     ]
    }
   ],
   "source": [
    "sample = firm_prod.full_sample[firm_prod.full_sample['industry_id'] == 13]\n",
    "estimation = lambda x: firm_prod.GNR(x, yvar, statevar, \n",
    "                                     flexiblevar,price_m, price_y, \n",
    "                                    stage2_polymax=1,\n",
    "                                    print_output = False)\n",
    "[std_err, var_cov] = bootstrap(sample,'firm_id', estimation, total_times=50)"
   ]
  },
  {
   "cell_type": "code",
   "execution_count": 215,
   "metadata": {},
   "outputs": [
    {
     "data": {
      "text/plain": [
       "array([0.05240786, 0.21160365, 0.01385292])"
      ]
     },
     "execution_count": 215,
     "metadata": {},
     "output_type": "execute_result"
    }
   ],
   "source": [
    "std_err"
   ]
  },
  {
   "cell_type": "code",
   "execution_count": null,
   "metadata": {},
   "outputs": [],
   "source": []
  }
 ],
 "metadata": {
  "kernelspec": {
   "display_name": "Python 3",
   "language": "python",
   "name": "python3"
  },
  "language_info": {
   "codemirror_mode": {
    "name": "ipython",
    "version": 3
   },
   "file_extension": ".py",
   "mimetype": "text/x-python",
   "name": "python",
   "nbconvert_exporter": "python",
   "pygments_lexer": "ipython3",
   "version": "3.7.3"
  }
 },
 "nbformat": 4,
 "nbformat_minor": 2
}
