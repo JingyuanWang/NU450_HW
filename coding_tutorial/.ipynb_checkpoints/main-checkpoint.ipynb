{
 "cells": [
  {
   "cell_type": "code",
   "execution_count": 435,
   "metadata": {},
   "outputs": [
    {
     "data": {
      "text/plain": [
       "<module 'logit_demand.gen_randomsample' from '/Users/jingyuanwang/GitHub/NU450_HW/coding_tutorial/logit_demand/gen_randomsample.py'>"
      ]
     },
     "execution_count": 435,
     "metadata": {},
     "output_type": "execute_result"
    }
   ],
   "source": [
    "import numpy as np\n",
    "import pandas as pd\n",
    "import scipy.stats as stats\n",
    "import scipy.optimize as opt\n",
    "import matplotlib as mpl\n",
    "import matplotlib.pyplot as plt\n",
    "\n",
    "import logit_demand.LogitDemand as ld\n",
    "import logit_demand.gen_randomsample as rs\n",
    "import importlib\n",
    "importlib.reload(ld)\n",
    "importlib.reload(rs)"
   ]
  },
  {
   "cell_type": "code",
   "execution_count": 437,
   "metadata": {},
   "outputs": [],
   "source": [
    "#help(ld)"
   ]
  },
  {
   "cell_type": "code",
   "execution_count": 438,
   "metadata": {},
   "outputs": [],
   "source": [
    "# ------------------------------------------------------------------------\n",
    "# NOTE\n",
    "# ------------------------------------------------------------------------\n",
    "# Purpose: Section 5, MLE on given data\n",
    "# \n",
    "#\n",
    "# Input: \n",
    "#     1. data_merged.h5 , key: cases_choices, \n",
    "#         each row = one case-choices\n",
    "# ------------------------------------------------------------------------"
   ]
  },
  {
   "cell_type": "code",
   "execution_count": 439,
   "metadata": {},
   "outputs": [],
   "source": [
    "# 0. Initialize file path -----------------------------------------------\n",
    "rootpath = '/Users/jingyuanwang/Dropbox/Course/ECON/IO/NU450/NU450_HW/coding_tutorial'\n",
    "datapath = rootpath + '/' + 'data'\n",
    "resultpath = rootpath + '/' + 'results'"
   ]
  },
  {
   "cell_type": "code",
   "execution_count": 440,
   "metadata": {},
   "outputs": [],
   "source": [
    "# I. Input data ---------------------------------------------------------\n",
    "# 1. get data\n",
    "filename = 'data_merged'\n",
    "filekey = 'cases_choices'\n",
    "inputname = datapath + '/' + filename + '.h5'\n",
    "df = pd.read_hdf(inputname, key=filekey)"
   ]
  },
  {
   "cell_type": "code",
   "execution_count": 441,
   "metadata": {},
   "outputs": [
    {
     "name": "stdout",
     "output_type": "stream",
     "text": [
      "SAMPLE:\n",
      "    female only: False; under 65 only: True\n",
      "number of observations: 304815\n",
      "       number of cases: 33968\n",
      "            choice set: [13, 6, 7, 8, 2, 9, 5, 4, 3]\n"
     ]
    }
   ],
   "source": [
    "# II. set in as a class: LogitDemand --------------------------------------\n",
    "# 1. get the dataframe and set unique ids\n",
    "case_id = 'case_id'\n",
    "case_groupid = ['consumer_id','year','insurer_id']\n",
    "choice_id = 'providers_available'\n",
    "\n",
    "sample = ld.LogitDemand(df = df, case_id = case_id, choice_id = choice_id, case_groupid = case_groupid)\n"
   ]
  },
  {
   "cell_type": "code",
   "execution_count": 442,
   "metadata": {},
   "outputs": [],
   "source": [
    "# 2 set variable names\n",
    "# independent vars:\n",
    "consumer_varnames = ['age','female','num_dependents']\n",
    "\n",
    "prod_varnames = ['public','price_provider_ave', 'ave_age_providerlastyr']\n",
    "consumer_prod_varnames = ['price', 'age_largerthanmed']\n",
    "\n",
    "sample.set_attributes(prod_varnames,consumer_varnames,consumer_prod_varnames)"
   ]
  },
  {
   "cell_type": "code",
   "execution_count": 443,
   "metadata": {},
   "outputs": [],
   "source": [
    "# Y\n",
    "Y_name = 'provider_id'\n",
    "sample.set_Y(Y_name)"
   ]
  },
  {
   "cell_type": "code",
   "execution_count": null,
   "metadata": {},
   "outputs": [],
   "source": []
  },
  {
   "cell_type": "code",
   "execution_count": 444,
   "metadata": {},
   "outputs": [
    {
     "name": "stdout",
     "output_type": "stream",
     "text": [
      "['price', 'age_largerthanmed', 'public', 'price_provider_ave', 'ave_age_providerlastyr']\n"
     ]
    }
   ],
   "source": [
    "# II. MLE- get beta_hat -----------------------------------\n",
    "# # 1. set regressor\n",
    "list_of_regressor = consumer_prod_varnames + prod_varnames\n",
    "sample.set_regressor(list_of_regressor)\n",
    "print(sample.regressor)"
   ]
  },
  {
   "cell_type": "code",
   "execution_count": 445,
   "metadata": {},
   "outputs": [],
   "source": [
    "# 2. guess a beta\n",
    "# beta: size m-by-1\n",
    "m = len(sample.regressor)\n",
    "# first coeff: on price, must be negative\n",
    "beta0 = np.random.uniform(low = -100, high = 0, size = 1)\n",
    "# the other m-1 coeff on prod_var1-prod_var_{m-1}\n",
    "beta = np.random.uniform(low = -50, high = 50, size = m-1).reshape(m-1,1)\n",
    "beta = np.vstack((beta0,beta))\n",
    "# mannually input beta\n",
    "beta_true = np.array([-1, -.2, 1.4, 0, 1]).reshape((m,1))"
   ]
  },
  {
   "cell_type": "code",
   "execution_count": 446,
   "metadata": {},
   "outputs": [
    {
     "name": "stdout",
     "output_type": "stream",
     "text": [
      "110935.78044303173\n",
      "['price', 'age_largerthanmed', 'public', 'price_provider_ave', 'ave_age_providerlastyr']\n"
     ]
    }
   ],
   "source": [
    "# 3. calculate the likelihood\n",
    "# (1) likelihood\n",
    "print(sample.loglikelihood(beta_true))\n",
    "print(sample.regressor)"
   ]
  },
  {
   "cell_type": "code",
   "execution_count": 447,
   "metadata": {},
   "outputs": [
    {
     "data": {
      "image/png": "[encoded data removed]",
      "text/plain": [
       "<Figure size 432x288 with 1 Axes>"
      ]
     },
     "metadata": {
      "needs_background": "light"
     },
     "output_type": "display_data"
    }
   ],
   "source": [
    "# (2) plot\n",
    "histpath = resultpath + '/' + 'mle' \n",
    "sample.plot_fit(beta_true,histpath)"
   ]
  },
  {
   "cell_type": "code",
   "execution_count": null,
   "metadata": {},
   "outputs": [],
   "source": []
  },
  {
   "cell_type": "code",
   "execution_count": null,
   "metadata": {},
   "outputs": [],
   "source": [
    "# 4. optimize the obj function"
   ]
  },
  {
   "cell_type": "code",
   "execution_count": 357,
   "metadata": {},
   "outputs": [],
   "source": [
    "#opt.minimize(sample.loglikelihood, beta_true)\n",
    "# never ends"
   ]
  },
  {
   "cell_type": "code",
   "execution_count": 351,
   "metadata": {},
   "outputs": [],
   "source": [
    "x = np.array([-0.81496332, -0.03466733,  1.70092645,  0.95142027, -0.09108327])"
   ]
  },
  {
   "cell_type": "code",
   "execution_count": 360,
   "metadata": {},
   "outputs": [],
   "source": []
  },
  {
   "cell_type": "code",
   "execution_count": 404,
   "metadata": {},
   "outputs": [],
   "source": [
    "# try just 2 elements\n",
    "def obj(beta):\n",
    "    beta_array = np.append(beta, beta_true[2:])\n",
    "    return sample.loglikelihood(beta_array)"
   ]
  },
  {
   "cell_type": "code",
   "execution_count": 405,
   "metadata": {},
   "outputs": [
    {
     "data": {
      "text/plain": [
       "array([-0.95154435,  3.95139113])"
      ]
     },
     "execution_count": 405,
     "metadata": {},
     "output_type": "execute_result"
    }
   ],
   "source": [
    "rranges = (slice(-2, -0.5, 0.25), slice(3.9, 5, 0.5))\n",
    "result = opt.brute(obj, rranges, finish=opt.fmin, full_output=True)"
   ]
  },
  {
   "cell_type": "code",
   "execution_count": 396,
   "metadata": {},
   "outputs": [
    {
     "data": {
      "text/plain": [
       "array([-1. , -0.2,  1.4,  0. ,  1. ])"
      ]
     },
     "execution_count": 396,
     "metadata": {},
     "output_type": "execute_result"
    }
   ],
   "source": []
  },
  {
   "cell_type": "code",
   "execution_count": 397,
   "metadata": {},
   "outputs": [
    {
     "data": {
      "text/plain": [
       "array([[-1. ],\n",
       "       [-0.2],\n",
       "       [ 1.4],\n",
       "       [ 0. ],\n",
       "       [ 1. ]])"
      ]
     },
     "execution_count": 397,
     "metadata": {},
     "output_type": "execute_result"
    }
   ],
   "source": [
    "beta_true"
   ]
  },
  {
   "cell_type": "code",
   "execution_count": 379,
   "metadata": {},
   "outputs": [],
   "source": [
    "beta = -1"
   ]
  },
  {
   "cell_type": "code",
   "execution_count": 380,
   "metadata": {},
   "outputs": [
    {
     "data": {
      "text/plain": [
       "110935.78044303173"
      ]
     },
     "execution_count": 380,
     "metadata": {},
     "output_type": "execute_result"
    }
   ],
   "source": [
    "obj(beta)"
   ]
  },
  {
   "cell_type": "code",
   "execution_count": 399,
   "metadata": {},
   "outputs": [
    {
     "data": {
      "text/plain": [
       "110935.78044303173"
      ]
     },
     "execution_count": 399,
     "metadata": {},
     "output_type": "execute_result"
    }
   ],
   "source": [
    "sample.loglikelihood(beta_array)"
   ]
  },
  {
   "cell_type": "code",
   "execution_count": null,
   "metadata": {},
   "outputs": [],
   "source": []
  },
  {
   "cell_type": "code",
   "execution_count": null,
   "metadata": {},
   "outputs": [],
   "source": [
    "\n",
    "\n"
   ]
  },
  {
   "cell_type": "code",
   "execution_count": 341,
   "metadata": {},
   "outputs": [
    {
     "data": {
      "text/html": [
       "<div>\n",
       "<style scoped>\n",
       "    .dataframe tbody tr th:only-of-type {\n",
       "        vertical-align: middle;\n",
       "    }\n",
       "\n",
       "    .dataframe tbody tr th {\n",
       "        vertical-align: top;\n",
       "    }\n",
       "\n",
       "    .dataframe thead th {\n",
       "        text-align: right;\n",
       "    }\n",
       "</style>\n",
       "<table border=\"1\" class=\"dataframe\">\n",
       "  <thead>\n",
       "    <tr style=\"text-align: right;\">\n",
       "      <th></th>\n",
       "      <th>case_id</th>\n",
       "      <th>consumer_id</th>\n",
       "      <th>year</th>\n",
       "      <th>insurer_id</th>\n",
       "      <th>provider_id</th>\n",
       "      <th>age</th>\n",
       "      <th>female</th>\n",
       "      <th>num_dependents</th>\n",
       "      <th>price</th>\n",
       "      <th>providers_available</th>\n",
       "      <th>public</th>\n",
       "      <th>price_provider_ave</th>\n",
       "      <th>ave_age_providerlastyr</th>\n",
       "      <th>age_largerthanmed</th>\n",
       "      <th>price_scale</th>\n",
       "      <th>provider_id_new</th>\n",
       "    </tr>\n",
       "    <tr>\n",
       "      <th>case_choice_id</th>\n",
       "      <th></th>\n",
       "      <th></th>\n",
       "      <th></th>\n",
       "      <th></th>\n",
       "      <th></th>\n",
       "      <th></th>\n",
       "      <th></th>\n",
       "      <th></th>\n",
       "      <th></th>\n",
       "      <th></th>\n",
       "      <th></th>\n",
       "      <th></th>\n",
       "      <th></th>\n",
       "      <th></th>\n",
       "      <th></th>\n",
       "      <th></th>\n",
       "    </tr>\n",
       "  </thead>\n",
       "  <tbody>\n",
       "    <tr>\n",
       "      <th>0</th>\n",
       "      <td>0</td>\n",
       "      <td>0</td>\n",
       "      <td>2015</td>\n",
       "      <td>78</td>\n",
       "      <td>13</td>\n",
       "      <td>43</td>\n",
       "      <td>1</td>\n",
       "      <td>1</td>\n",
       "      <td>0.851986</td>\n",
       "      <td>2</td>\n",
       "      <td>0</td>\n",
       "      <td>0.802930</td>\n",
       "      <td>42.528302</td>\n",
       "      <td>1</td>\n",
       "      <td>1.061097</td>\n",
       "      <td>0</td>\n",
       "    </tr>\n",
       "    <tr>\n",
       "      <th>1</th>\n",
       "      <td>0</td>\n",
       "      <td>0</td>\n",
       "      <td>2015</td>\n",
       "      <td>78</td>\n",
       "      <td>13</td>\n",
       "      <td>43</td>\n",
       "      <td>1</td>\n",
       "      <td>1</td>\n",
       "      <td>1.532731</td>\n",
       "      <td>3</td>\n",
       "      <td>0</td>\n",
       "      <td>0.963161</td>\n",
       "      <td>36.120370</td>\n",
       "      <td>1</td>\n",
       "      <td>1.591354</td>\n",
       "      <td>0</td>\n",
       "    </tr>\n",
       "    <tr>\n",
       "      <th>2</th>\n",
       "      <td>0</td>\n",
       "      <td>0</td>\n",
       "      <td>2015</td>\n",
       "      <td>78</td>\n",
       "      <td>13</td>\n",
       "      <td>43</td>\n",
       "      <td>1</td>\n",
       "      <td>1</td>\n",
       "      <td>1.558725</td>\n",
       "      <td>4</td>\n",
       "      <td>0</td>\n",
       "      <td>0.942301</td>\n",
       "      <td>40.500559</td>\n",
       "      <td>1</td>\n",
       "      <td>1.654169</td>\n",
       "      <td>0</td>\n",
       "    </tr>\n",
       "    <tr>\n",
       "      <th>3</th>\n",
       "      <td>0</td>\n",
       "      <td>0</td>\n",
       "      <td>2015</td>\n",
       "      <td>78</td>\n",
       "      <td>13</td>\n",
       "      <td>43</td>\n",
       "      <td>1</td>\n",
       "      <td>1</td>\n",
       "      <td>1.132888</td>\n",
       "      <td>5</td>\n",
       "      <td>0</td>\n",
       "      <td>1.134914</td>\n",
       "      <td>38.166172</td>\n",
       "      <td>1</td>\n",
       "      <td>0.998215</td>\n",
       "      <td>0</td>\n",
       "    </tr>\n",
       "    <tr>\n",
       "      <th>4</th>\n",
       "      <td>0</td>\n",
       "      <td>0</td>\n",
       "      <td>2015</td>\n",
       "      <td>78</td>\n",
       "      <td>13</td>\n",
       "      <td>43</td>\n",
       "      <td>1</td>\n",
       "      <td>1</td>\n",
       "      <td>1.467880</td>\n",
       "      <td>6</td>\n",
       "      <td>0</td>\n",
       "      <td>1.377766</td>\n",
       "      <td>42.006418</td>\n",
       "      <td>1</td>\n",
       "      <td>1.065406</td>\n",
       "      <td>0</td>\n",
       "    </tr>\n",
       "    <tr>\n",
       "      <th>5</th>\n",
       "      <td>0</td>\n",
       "      <td>0</td>\n",
       "      <td>2015</td>\n",
       "      <td>78</td>\n",
       "      <td>13</td>\n",
       "      <td>43</td>\n",
       "      <td>1</td>\n",
       "      <td>1</td>\n",
       "      <td>0.971884</td>\n",
       "      <td>7</td>\n",
       "      <td>0</td>\n",
       "      <td>1.175127</td>\n",
       "      <td>42.075630</td>\n",
       "      <td>1</td>\n",
       "      <td>0.827045</td>\n",
       "      <td>0</td>\n",
       "    </tr>\n",
       "    <tr>\n",
       "      <th>6</th>\n",
       "      <td>0</td>\n",
       "      <td>0</td>\n",
       "      <td>2015</td>\n",
       "      <td>78</td>\n",
       "      <td>13</td>\n",
       "      <td>43</td>\n",
       "      <td>1</td>\n",
       "      <td>1</td>\n",
       "      <td>1.110956</td>\n",
       "      <td>8</td>\n",
       "      <td>0</td>\n",
       "      <td>1.196602</td>\n",
       "      <td>45.047904</td>\n",
       "      <td>0</td>\n",
       "      <td>0.928426</td>\n",
       "      <td>0</td>\n",
       "    </tr>\n",
       "    <tr>\n",
       "      <th>7</th>\n",
       "      <td>0</td>\n",
       "      <td>0</td>\n",
       "      <td>2015</td>\n",
       "      <td>78</td>\n",
       "      <td>13</td>\n",
       "      <td>43</td>\n",
       "      <td>1</td>\n",
       "      <td>1</td>\n",
       "      <td>0.924882</td>\n",
       "      <td>9</td>\n",
       "      <td>1</td>\n",
       "      <td>1.108957</td>\n",
       "      <td>43.917476</td>\n",
       "      <td>0</td>\n",
       "      <td>0.834011</td>\n",
       "      <td>0</td>\n",
       "    </tr>\n",
       "    <tr>\n",
       "      <th>8</th>\n",
       "      <td>0</td>\n",
       "      <td>0</td>\n",
       "      <td>2015</td>\n",
       "      <td>78</td>\n",
       "      <td>13</td>\n",
       "      <td>43</td>\n",
       "      <td>1</td>\n",
       "      <td>1</td>\n",
       "      <td>0.888089</td>\n",
       "      <td>13</td>\n",
       "      <td>1</td>\n",
       "      <td>0.965927</td>\n",
       "      <td>42.987092</td>\n",
       "      <td>1</td>\n",
       "      <td>0.919416</td>\n",
       "      <td>1</td>\n",
       "    </tr>\n",
       "    <tr>\n",
       "      <th>9</th>\n",
       "      <td>1</td>\n",
       "      <td>1</td>\n",
       "      <td>2015</td>\n",
       "      <td>78</td>\n",
       "      <td>13</td>\n",
       "      <td>54</td>\n",
       "      <td>1</td>\n",
       "      <td>3</td>\n",
       "      <td>0.851986</td>\n",
       "      <td>2</td>\n",
       "      <td>0</td>\n",
       "      <td>0.802930</td>\n",
       "      <td>42.528302</td>\n",
       "      <td>1</td>\n",
       "      <td>1.061097</td>\n",
       "      <td>0</td>\n",
       "    </tr>\n",
       "  </tbody>\n",
       "</table>\n",
       "</div>"
      ],
      "text/plain": [
       "                case_id  consumer_id  year  insurer_id  provider_id  age  \\\n",
       "case_choice_id                                                             \n",
       "0                     0            0  2015          78           13   43   \n",
       "1                     0            0  2015          78           13   43   \n",
       "2                     0            0  2015          78           13   43   \n",
       "3                     0            0  2015          78           13   43   \n",
       "4                     0            0  2015          78           13   43   \n",
       "5                     0            0  2015          78           13   43   \n",
       "6                     0            0  2015          78           13   43   \n",
       "7                     0            0  2015          78           13   43   \n",
       "8                     0            0  2015          78           13   43   \n",
       "9                     1            1  2015          78           13   54   \n",
       "\n",
       "                female  num_dependents     price  providers_available  public  \\\n",
       "case_choice_id                                                                  \n",
       "0                    1               1  0.851986                    2       0   \n",
       "1                    1               1  1.532731                    3       0   \n",
       "2                    1               1  1.558725                    4       0   \n",
       "3                    1               1  1.132888                    5       0   \n",
       "4                    1               1  1.467880                    6       0   \n",
       "5                    1               1  0.971884                    7       0   \n",
       "6                    1               1  1.110956                    8       0   \n",
       "7                    1               1  0.924882                    9       1   \n",
       "8                    1               1  0.888089                   13       1   \n",
       "9                    1               3  0.851986                    2       0   \n",
       "\n",
       "                price_provider_ave  ave_age_providerlastyr  age_largerthanmed  \\\n",
       "case_choice_id                                                                  \n",
       "0                         0.802930               42.528302                  1   \n",
       "1                         0.963161               36.120370                  1   \n",
       "2                         0.942301               40.500559                  1   \n",
       "3                         1.134914               38.166172                  1   \n",
       "4                         1.377766               42.006418                  1   \n",
       "5                         1.175127               42.075630                  1   \n",
       "6                         1.196602               45.047904                  0   \n",
       "7                         1.108957               43.917476                  0   \n",
       "8                         0.965927               42.987092                  1   \n",
       "9                         0.802930               42.528302                  1   \n",
       "\n",
       "                price_scale  provider_id_new  \n",
       "case_choice_id                                \n",
       "0                  1.061097                0  \n",
       "1                  1.591354                0  \n",
       "2                  1.654169                0  \n",
       "3                  0.998215                0  \n",
       "4                  1.065406                0  \n",
       "5                  0.827045                0  \n",
       "6                  0.928426                0  \n",
       "7                  0.834011                0  \n",
       "8                  0.919416                1  \n",
       "9                  1.061097                0  "
      ]
     },
     "execution_count": 341,
     "metadata": {},
     "output_type": "execute_result"
    }
   ],
   "source": [
    "sample.main.head(10)"
   ]
  },
  {
   "cell_type": "code",
   "execution_count": null,
   "metadata": {},
   "outputs": [],
   "source": []
  },
  {
   "cell_type": "code",
   "execution_count": 400,
   "metadata": {},
   "outputs": [],
   "source": [
    "## check sample -----------------------------------------------\n",
    "    # Y: binary-vector of choices, n*c-by-1\n",
    "    # I: vector of consumer index, n*c-by-1\n",
    "    # X: matrix of consumer choice attributes, n*c-by-m, index = consumer_id\n",
    "    # beta: coefficients, m-by-1\n",
    "\n",
    "# from sample data\n",
    "# (1). X: size n*c-by-m\n",
    "X = sample.main[sample.regressor]"
   ]
  },
  {
   "cell_type": "code",
   "execution_count": 16,
   "metadata": {},
   "outputs": [],
   "source": [
    "# (2). I\n",
    "I = sample.main[sample.case_id]\n",
    "# (3). Y\n",
    "Y = sample.main[sample.Y_name]"
   ]
  },
  {
   "cell_type": "code",
   "execution_count": null,
   "metadata": {},
   "outputs": [],
   "source": [
    "# prob = sample.choice_probability(beta_true)"
   ]
  },
  {
   "cell_type": "code",
   "execution_count": null,
   "metadata": {},
   "outputs": [],
   "source": []
  },
  {
   "cell_type": "code",
   "execution_count": null,
   "metadata": {},
   "outputs": [],
   "source": []
  },
  {
   "cell_type": "code",
   "execution_count": null,
   "metadata": {},
   "outputs": [],
   "source": []
  },
  {
   "cell_type": "code",
   "execution_count": null,
   "metadata": {},
   "outputs": [],
   "source": []
  },
  {
   "cell_type": "code",
   "execution_count": null,
   "metadata": {},
   "outputs": [],
   "source": []
  },
  {
   "cell_type": "code",
   "execution_count": 319,
   "metadata": {},
   "outputs": [],
   "source": []
  },
  {
   "cell_type": "code",
   "execution_count": null,
   "metadata": {},
   "outputs": [],
   "source": []
  },
  {
   "cell_type": "code",
   "execution_count": null,
   "metadata": {},
   "outputs": [],
   "source": []
  },
  {
   "cell_type": "code",
   "execution_count": null,
   "metadata": {},
   "outputs": [],
   "source": []
  },
  {
   "cell_type": "code",
   "execution_count": null,
   "metadata": {},
   "outputs": [],
   "source": []
  },
  {
   "cell_type": "code",
   "execution_count": null,
   "metadata": {},
   "outputs": [],
   "source": []
  },
  {
   "cell_type": "code",
   "execution_count": null,
   "metadata": {},
   "outputs": [],
   "source": []
  },
  {
   "cell_type": "code",
   "execution_count": 159,
   "metadata": {},
   "outputs": [],
   "source": [
    "#"
   ]
  },
  {
   "cell_type": "code",
   "execution_count": null,
   "metadata": {},
   "outputs": [],
   "source": []
  },
  {
   "cell_type": "code",
   "execution_count": null,
   "metadata": {},
   "outputs": [],
   "source": []
  },
  {
   "cell_type": "code",
   "execution_count": null,
   "metadata": {},
   "outputs": [],
   "source": []
  },
  {
   "cell_type": "code",
   "execution_count": null,
   "metadata": {},
   "outputs": [],
   "source": [
    "\n"
   ]
  },
  {
   "cell_type": "code",
   "execution_count": null,
   "metadata": {},
   "outputs": [],
   "source": []
  },
  {
   "cell_type": "code",
   "execution_count": null,
   "metadata": {},
   "outputs": [],
   "source": []
  },
  {
   "cell_type": "code",
   "execution_count": null,
   "metadata": {},
   "outputs": [],
   "source": []
  },
  {
   "cell_type": "code",
   "execution_count": null,
   "metadata": {},
   "outputs": [],
   "source": []
  },
  {
   "cell_type": "code",
   "execution_count": null,
   "metadata": {},
   "outputs": [],
   "source": []
  },
  {
   "cell_type": "code",
   "execution_count": null,
   "metadata": {},
   "outputs": [],
   "source": []
  }
 ],
 "metadata": {
  "kernelspec": {
   "display_name": "Python 3",
   "language": "python",
   "name": "python3"
  },
  "language_info": {
   "codemirror_mode": {
    "name": "ipython",
    "version": 3
   },
   "file_extension": ".py",
   "mimetype": "text/x-python",
   "name": "python",
   "nbconvert_exporter": "python",
   "pygments_lexer": "ipython3",
   "version": "3.7.3"
  }
 },
 "nbformat": 4,
 "nbformat_minor": 2
}
