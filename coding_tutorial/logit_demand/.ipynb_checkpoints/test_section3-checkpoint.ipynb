{
 "cells": [
  {
   "cell_type": "code",
   "execution_count": 70,
   "metadata": {},
   "outputs": [
    {
     "data": {
      "text/plain": [
       "<module 'gen_randomsample' from '/Users/jingyuanwang/GitHub/NU450_HW/coding_tutorial/Logit_demand/gen_randomsample.py'>"
      ]
     },
     "execution_count": 70,
     "metadata": {},
     "output_type": "execute_result"
    }
   ],
   "source": [
    "import numpy as np\n",
    "import pandas as pd\n",
    "import scipy.stats as stats\n",
    "\n",
    "import LogitDemand as ld\n",
    "import gen_randomsample as rs\n",
    "import importlib\n",
    "importlib.reload(ld)\n",
    "importlib.reload(rs)"
   ]
  },
  {
   "cell_type": "code",
   "execution_count": null,
   "metadata": {},
   "outputs": [],
   "source": [
    "# ------------------------------------------------------------------------\n",
    "# NOTE\n",
    "# ------------------------------------------------------------------------\n",
    "# Purpose: Section 3 \n",
    "# \n",
    "#\n",
    "# Definition of several variables in this file:\n",
    "# n: number of individual\n",
    "# c: number of products\n",
    "#    outside option normalized to 0 and not included among the choices\n",
    "# m: length of beta, number of variables\n",
    "# ------------------------------------------------------------------------"
   ]
  },
  {
   "cell_type": "code",
   "execution_count": 64,
   "metadata": {},
   "outputs": [],
   "source": [
    "# 0. Initialize parameters -----------------------------------------------\n",
    "\n",
    "# number of consumers\n",
    "n = 1000\n",
    "# range of choices\n",
    "c_min, c_max = (3,6)\n",
    "# total number of products\n",
    "tc = 100\n",
    "# number of attributes, like: income, age, price\n",
    "m = 6\n",
    "m2 = int(np.floor( (m-1)/2 ))\n",
    "m1 = m - 1- m2"
   ]
  },
  {
   "cell_type": "code",
   "execution_count": 65,
   "metadata": {},
   "outputs": [],
   "source": [
    "choice = (c_min,c_max,tc)\n",
    "num_of_attributes = (m,m1,m2)\n",
    "random_seed = 13344"
   ]
  },
  {
   "cell_type": "code",
   "execution_count": 66,
   "metadata": {},
   "outputs": [],
   "source": [
    "df = rs.gen_randomsample(n, choice, num_of_attributes, random_seed)"
   ]
  },
  {
   "cell_type": "code",
   "execution_count": null,
   "metadata": {},
   "outputs": [],
   "source": []
  },
  {
   "cell_type": "code",
   "execution_count": 67,
   "metadata": {},
   "outputs": [],
   "source": [
    "# I. Initialize sample -----------------------------------------------\n",
    "    # Y: binary-vector of choices, n*c-by-1\n",
    "    # I: vector of consumer index, n*c-by-1\n",
    "    # X: matrix of consumer choice attributes, n*c-by-m, index = consumer_id\n",
    "    # beta: coefficients, m-by-1\n",
    "\n",
    "# 1. X: size n*c-by-m\n",
    "X = df[['consumer_id', 'price']+prod_varnames]\n",
    "X = X.set_index('consumer_id')\n",
    "\n",
    "# 2. beta: size m-by-1\n",
    "# first coeff: on price, must be negative\n",
    "beta0 = np.random.uniform(low = -1, high = 0, size = 1)\n",
    "# the other m-1 coeff on prod_var1-prod_var_{m-1}\n",
    "beta = np.random.uniform(low = -50, high = 50, size = m-1).reshape(m-1,1)\n",
    "beta = np.vstack((beta0,beta))\n",
    "# mannually input beta\n",
    "beta_true = np.array([-.05, -3, -14, .75, -2.5, 1]).reshape((m,1))"
   ]
  },
  {
   "cell_type": "code",
   "execution_count": 68,
   "metadata": {},
   "outputs": [
    {
     "data": {
      "text/plain": [
       "0"
      ]
     },
     "execution_count": 68,
     "metadata": {},
     "output_type": "execute_result"
    }
   ],
   "source": [
    "# 3. Y:\n",
    "# (1) calculate a probability of chosing each product for each consumer, based on the score\n",
    "I = df['consumer_id']\n",
    "df['prob']= ld.choice_probability(I,X,beta_true)\n",
    "\n",
    "# (2)chose Y, binary\n",
    "choice_index = (df.groupby('consumer_id')\n",
    "                  .agg({'prob': lambda series: series.idxmax()})\n",
    "                  .rename(columns={'prob':'choice'}))\n",
    "df['Y'] = df.index.isin(choice_index['choice']).astype(int)\n",
    "\n",
    "# check whether each person buy 1 and only 1 product\n",
    "total_selection = df.groupby('consumer_id').agg({'Y': np.sum})\n",
    "tol = 10**(-10)\n",
    "len(total_selection.loc[abs(total_selection['Y'] -1) > tol])\n"
   ]
  },
  {
   "cell_type": "code",
   "execution_count": 71,
   "metadata": {},
   "outputs": [
    {
     "data": {
      "text/plain": [
       "78323.54151916243"
      ]
     },
     "execution_count": 71,
     "metadata": {},
     "output_type": "execute_result"
    }
   ],
   "source": [
    "# III. MLE- get beta_hat -----------------------------------\n",
    "Y=df['Y']\n",
    "ld.loglikelihood(Y,I,X,beta)"
   ]
  },
  {
   "cell_type": "code",
   "execution_count": null,
   "metadata": {},
   "outputs": [],
   "source": []
  },
  {
   "cell_type": "code",
   "execution_count": null,
   "metadata": {},
   "outputs": [],
   "source": []
  }
 ],
 "metadata": {
  "kernelspec": {
   "display_name": "Python 3",
   "language": "python",
   "name": "python3"
  },
  "language_info": {
   "codemirror_mode": {
    "name": "ipython",
    "version": 3
   },
   "file_extension": ".py",
   "mimetype": "text/x-python",
   "name": "python",
   "nbconvert_exporter": "python",
   "pygments_lexer": "ipython3",
   "version": "3.7.3"
  }
 },
 "nbformat": 4,
 "nbformat_minor": 2
}
