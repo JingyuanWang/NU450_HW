{
 "cells": [
  {
   "cell_type": "code",
   "execution_count": 9,
   "metadata": {},
   "outputs": [
    {
     "data": {
      "text/plain": [
       "<module 'logit_demand' from '/Users/jingyuanwang/GitHub/NU450_HW/coding_tutorial/Logit_demand/logit_demand.py'>"
      ]
     },
     "execution_count": 9,
     "metadata": {},
     "output_type": "execute_result"
    }
   ],
   "source": [
    "import numpy as np\n",
    "import pandas as pd\n",
    "import scipy.stats as stats\n",
    "\n",
    "import logit_demand_archive as ld\n",
    "import importlib\n",
    "importlib.reload(ld)"
   ]
  },
  {
   "cell_type": "code",
   "execution_count": null,
   "metadata": {},
   "outputs": [],
   "source": [
    "# ------------------------------------------------------------------------\n",
    "# NOTE\n",
    "# ------------------------------------------------------------------------\n",
    "# Purpose: Test function loglikelihood in logit_demand_archive.py\n",
    "# archive, because notation different from the requirements\n",
    "#\n",
    "# Definition of several variables in this file:\n",
    "# n: number of consumers\n",
    "# m: number of products\n",
    "#    outside option normalized to 0 and not included among the choices\n",
    "# k: length of beta, number of variables\n",
    "# ------------------------------------------------------------------------"
   ]
  },
  {
   "cell_type": "code",
   "execution_count": 2,
   "metadata": {},
   "outputs": [],
   "source": [
    "# initialize\n",
    "# number of consumers\n",
    "n = 100\n",
    "# number of choices\n",
    "m = 8\n",
    "# variables: income, age, price\n",
    "k = 3"
   ]
  },
  {
   "cell_type": "code",
   "execution_count": 18,
   "metadata": {},
   "outputs": [],
   "source": [
    "# I. initialize sample ---------------------------------------------------\n",
    "    # Y: binary-vector of choices, n*m-by-1\n",
    "    # I: vector of consumer index, n*m-by-1\n",
    "    # X: matrix of consumer choice attributes, n*m-by-k\n",
    "    # beta: coefficients, k-by-1\n",
    "    \n",
    "\n",
    "# 1. variables: income, age, price \n",
    "# (1) set up variables\n",
    "# income: normal(60,30) $000, minimum income $5000\n",
    "income = np.random.normal(60,30,size=n)\n",
    "income[income <= 5] = 5\n",
    "# age: uniform 10-50\n",
    "age = np.floor(np.random.uniform(low =1, high=5,size=n)*10).astype(int)\n",
    "# price of each good\n",
    "price = np.random.uniform(low=0, high=1, size=m)*100\n",
    "\n",
    "# (2) stack to n*m-by-k\n",
    "df_consumers = pd.DataFrame(np.vstack([income,age]).T, columns=['income','age'])\n",
    "df_consumers = pd.concat([df_consumers]*m, \n",
    "                         keys=list(range(0,m)), \n",
    "                         names=['choices', 'consumer ID']).swaplevel(i=0, j=1, axis=0)\n",
    "df_choices = pd.DataFrame(price, columns=['price'])\n",
    "df_choices = pd.concat([df_choices]*n,\n",
    "                        keys=list(range(0,n)),\n",
    "                        names=['consumer ID','choices'])\n",
    "\n",
    "df = pd.merge(df_consumers,df_choices,left_index = True, right_index = True).sort_index(0)"
   ]
  },
  {
   "cell_type": "code",
   "execution_count": 4,
   "metadata": {},
   "outputs": [],
   "source": [
    "# 2. Choice, dependent variable\n",
    "# data generating process: Y = I{beta*X + epsilon > 100} (need to re-define)\n",
    "beta_true = np.array([[5,-1,-4]]).T\n",
    "eps = np.random.normal(0,30,size=len(df))\n",
    "df['eps'] = eps\n",
    "df['utility'] = df[['income','age','price']].values.dot(beta_true) \n",
    "df['utility'] = df['utility'] + df['eps']\n",
    "df['Y'] = (df['utility'] > 0).astype(int)\n",
    "\n",
    "# 3. index\n",
    "df = df.reset_index(level = [0,1])\n",
    "df.index.name = 'I'"
   ]
  },
  {
   "cell_type": "code",
   "execution_count": 5,
   "metadata": {},
   "outputs": [
    {
     "data": {
      "text/html": [
       "<div>\n",
       "<style scoped>\n",
       "    .dataframe tbody tr th:only-of-type {\n",
       "        vertical-align: middle;\n",
       "    }\n",
       "\n",
       "    .dataframe tbody tr th {\n",
       "        vertical-align: top;\n",
       "    }\n",
       "\n",
       "    .dataframe thead th {\n",
       "        text-align: right;\n",
       "    }\n",
       "</style>\n",
       "<table border=\"1\" class=\"dataframe\">\n",
       "  <thead>\n",
       "    <tr style=\"text-align: right;\">\n",
       "      <th></th>\n",
       "      <th>consumer ID</th>\n",
       "      <th>choices</th>\n",
       "      <th>income</th>\n",
       "      <th>age</th>\n",
       "      <th>price</th>\n",
       "      <th>eps</th>\n",
       "      <th>utility</th>\n",
       "      <th>Y</th>\n",
       "    </tr>\n",
       "    <tr>\n",
       "      <th>I</th>\n",
       "      <th></th>\n",
       "      <th></th>\n",
       "      <th></th>\n",
       "      <th></th>\n",
       "      <th></th>\n",
       "      <th></th>\n",
       "      <th></th>\n",
       "      <th></th>\n",
       "    </tr>\n",
       "  </thead>\n",
       "  <tbody>\n",
       "    <tr>\n",
       "      <th>0</th>\n",
       "      <td>0</td>\n",
       "      <td>0</td>\n",
       "      <td>71.471846</td>\n",
       "      <td>29.0</td>\n",
       "      <td>98.923030</td>\n",
       "      <td>63.572338</td>\n",
       "      <td>-3.760551</td>\n",
       "      <td>0</td>\n",
       "    </tr>\n",
       "    <tr>\n",
       "      <th>1</th>\n",
       "      <td>0</td>\n",
       "      <td>1</td>\n",
       "      <td>71.471846</td>\n",
       "      <td>29.0</td>\n",
       "      <td>38.611498</td>\n",
       "      <td>-0.092675</td>\n",
       "      <td>173.820562</td>\n",
       "      <td>1</td>\n",
       "    </tr>\n",
       "    <tr>\n",
       "      <th>2</th>\n",
       "      <td>0</td>\n",
       "      <td>2</td>\n",
       "      <td>71.471846</td>\n",
       "      <td>29.0</td>\n",
       "      <td>88.593111</td>\n",
       "      <td>9.857482</td>\n",
       "      <td>-16.155734</td>\n",
       "      <td>0</td>\n",
       "    </tr>\n",
       "    <tr>\n",
       "      <th>3</th>\n",
       "      <td>0</td>\n",
       "      <td>3</td>\n",
       "      <td>71.471846</td>\n",
       "      <td>29.0</td>\n",
       "      <td>76.727049</td>\n",
       "      <td>11.863026</td>\n",
       "      <td>33.314060</td>\n",
       "      <td>1</td>\n",
       "    </tr>\n",
       "    <tr>\n",
       "      <th>4</th>\n",
       "      <td>0</td>\n",
       "      <td>4</td>\n",
       "      <td>71.471846</td>\n",
       "      <td>29.0</td>\n",
       "      <td>72.202780</td>\n",
       "      <td>14.688416</td>\n",
       "      <td>54.236525</td>\n",
       "      <td>1</td>\n",
       "    </tr>\n",
       "  </tbody>\n",
       "</table>\n",
       "</div>"
      ],
      "text/plain": [
       "   consumer ID  choices     income   age      price        eps     utility  Y\n",
       "I                                                                            \n",
       "0            0        0  71.471846  29.0  98.923030  63.572338   -3.760551  0\n",
       "1            0        1  71.471846  29.0  38.611498  -0.092675  173.820562  1\n",
       "2            0        2  71.471846  29.0  88.593111   9.857482  -16.155734  0\n",
       "3            0        3  71.471846  29.0  76.727049  11.863026   33.314060  1\n",
       "4            0        4  71.471846  29.0  72.202780  14.688416   54.236525  1"
      ]
     },
     "execution_count": 5,
     "metadata": {},
     "output_type": "execute_result"
    }
   ],
   "source": [
    "df.head()"
   ]
  },
  {
   "cell_type": "code",
   "execution_count": 12,
   "metadata": {},
   "outputs": [
    {
     "data": {
      "text/plain": [
       "88.68366658455813"
      ]
     },
     "execution_count": 12,
     "metadata": {},
     "output_type": "execute_result"
    }
   ],
   "source": [
    "# II. try functions ---------------------------------------------------\n",
    "beta = np.array([[5,-1,-4]]).T\n",
    "\n",
    "precision = 10**-100\n",
    "\n",
    "likelihood_y_1=pd.Series(map(lambda x: (1-stats.norm.cdf(x, loc=0, scale=30)), \n",
    "              df[['income','age','price']].values.dot(beta)*(-1) ))\n",
    "likelihood_y_1[likelihood_y_1==0] = min(precision, likelihood_y_1[likelihood_y_1!=0].min()) \n",
    "\n",
    "likelihood_y_0=pd.Series(map(lambda x: stats.norm.cdf(x, loc=0, scale=30), \n",
    "              df[['income','age','price']].values.dot(beta)*(-1) ))\n",
    "likelihood_y_0[likelihood_y_0==0] = min(precision, likelihood_y_0[likelihood_y_0!=0].min()) \n",
    "\n",
    "# 避免只要凑出一个obs == 0. log(~) = -inf, 就没法儿比大小了\n",
    "\n",
    "loglikelihood = -np.sum(list(map(lambda y, p1, p0: y*np.log(p1) + (1-y)*np.log(p0),\n",
    "                                df['Y'],likelihood_y_1, likelihood_y_0)))\n",
    "loglikelihood"
   ]
  },
  {
   "cell_type": "code",
   "execution_count": 13,
   "metadata": {},
   "outputs": [
    {
     "data": {
      "text/plain": [
       "88.68366658455813"
      ]
     },
     "execution_count": 13,
     "metadata": {},
     "output_type": "execute_result"
    }
   ],
   "source": [
    "ld.loglikelihood(df['Y'],df.index,df[['income','age','price']],beta)"
   ]
  },
  {
   "cell_type": "code",
   "execution_count": null,
   "metadata": {},
   "outputs": [],
   "source": []
  },
  {
   "cell_type": "code",
   "execution_count": null,
   "metadata": {},
   "outputs": [],
   "source": []
  },
  {
   "cell_type": "code",
   "execution_count": null,
   "metadata": {},
   "outputs": [],
   "source": []
  },
  {
   "cell_type": "code",
   "execution_count": null,
   "metadata": {},
   "outputs": [],
   "source": []
  },
  {
   "cell_type": "code",
   "execution_count": null,
   "metadata": {},
   "outputs": [],
   "source": []
  },
  {
   "cell_type": "code",
   "execution_count": null,
   "metadata": {},
   "outputs": [],
   "source": []
  }
 ],
 "metadata": {
  "kernelspec": {
   "display_name": "Python 3",
   "language": "python",
   "name": "python3"
  },
  "language_info": {
   "codemirror_mode": {
    "name": "ipython",
    "version": 3
   },
   "file_extension": ".py",
   "mimetype": "text/x-python",
   "name": "python",
   "nbconvert_exporter": "python",
   "pygments_lexer": "ipython3",
   "version": "3.7.3"
  }
 },
 "nbformat": 4,
 "nbformat_minor": 2
}
