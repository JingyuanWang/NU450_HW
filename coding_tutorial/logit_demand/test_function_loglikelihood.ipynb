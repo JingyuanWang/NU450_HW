{
 "cells": [
  {
   "cell_type": "code",
   "execution_count": 733,
   "metadata": {},
   "outputs": [
    {
     "data": {
      "text/plain": [
       "<module 'logit_demand' from '/Users/jingyuanwang/GitHub/NU450_HW/coding_tutorial/Logit_demand/logit_demand.py'>"
      ]
     },
     "execution_count": 733,
     "metadata": {},
     "output_type": "execute_result"
    }
   ],
   "source": [
    "import numpy as np\n",
    "import pandas as pd\n",
    "import scipy.stats as stats\n",
    "import math\n",
    "\n",
    "import logit_demand as ld\n",
    "import importlib\n",
    "importlib.reload(ld)"
   ]
  },
  {
   "cell_type": "code",
   "execution_count": 734,
   "metadata": {},
   "outputs": [],
   "source": [
    "# ------------------------------------------------------------------------\n",
    "# NOTE\n",
    "# ------------------------------------------------------------------------\n",
    "# Purpose: Test function loglikelihood in logit_demand_archive.py\n",
    "# \n",
    "#\n",
    "# Definition of several variables in this file:\n",
    "# n: number of individual\n",
    "# c: number of products\n",
    "#    outside option normalized to 0 and not included among the choices\n",
    "# m: length of beta, number of variables\n",
    "# ------------------------------------------------------------------------"
   ]
  },
  {
   "cell_type": "code",
   "execution_count": 735,
   "metadata": {},
   "outputs": [],
   "source": [
    "# 0. Initialize parameters -----------------------------------------------\n",
    "\n",
    "# number of consumers\n",
    "n = 1000\n",
    "# range of choices\n",
    "c_min, c_max = (3,6)\n",
    "# total number of products\n",
    "tc = 100\n",
    "# number of attributes, like: income, age, price\n",
    "m = 6\n",
    "m2 = int(np.floor( (m-1)/2 ))\n",
    "m1 = m - 1- m2"
   ]
  },
  {
   "cell_type": "code",
   "execution_count": 736,
   "metadata": {},
   "outputs": [],
   "source": [
    "# I. initialize sample ---------------------------------------------------\n",
    "# 0. random seed\n",
    "np.random.seed(seed=13344)\n",
    "\n",
    "# 1. id\n",
    "consumer_id = list(range(0,n))\n",
    "product_id = list(range(0,tc))\n",
    "\n",
    "\n",
    "# 2. generate attributes and TC (total product) sample\n",
    "prod_varnames = ['prod_var1','prod_var2','prod_var3','prod_var4','prod_var5']\n",
    "\n",
    "# (1) set up mean and std of each attributes:\n",
    "locs = np.random.uniform(low =-50, high=50,size=m-1)\n",
    "stds = np.random.lognormal(mean = 0, sigma=5, size=m-1)\n",
    "\n",
    "# (2) get the value of each attributes\n",
    "p_attrs = np.random.multivariate_normal(mean = locs, cov = np.diag(stds), size = tc)\n",
    "price = np.random.lognormal(mean = 5, sigma=3, size=tc)\n",
    "\n",
    "\n",
    "# 3. consumer attributes\n",
    "consumer_varnames = ['consumer_var1', 'consumer_var2']\n",
    "c_attrs = np.random.randint(2, size=(n, m2))\n",
    "# each consumer: number of products offered\n",
    "num_prod_offered = np.random.randint(low =c_min, high=c_max+1,size=n) # c_max+1 to make the interval closed\n",
    "# each consumer: which products are offered \n",
    "prod_offered = list(map(lambda c: np.random.choice(product_id, size=c, replace=False),\n",
    "                   num_prod_offered))"
   ]
  },
  {
   "cell_type": "code",
   "execution_count": 737,
   "metadata": {},
   "outputs": [],
   "source": [
    "# 4. merge all attributes into a dataframe, each row is one consumer-product(offered). \n",
    "# so the length != n*tc. the length is \\sum c_{i}\n",
    "# (1) dataframe of consumers\n",
    "df_consumer = pd.DataFrame(num_prod_offered, \n",
    "                  columns = ['num_prod_offered'], \n",
    "                  index = consumer_id)\n",
    "df_consumer['prod_offered'] = prod_offered\n",
    "df_consumer.index.name = 'consumer_id'"
   ]
  },
  {
   "cell_type": "code",
   "execution_count": 738,
   "metadata": {},
   "outputs": [],
   "source": [
    "# (2) reshape to consumer-product(offered)\n",
    "df_consumer = df_consumer.loc[np.repeat(df_consumer.index.values, df_consumer['num_prod_offered'])]"
   ]
  },
  {
   "cell_type": "code",
   "execution_count": 739,
   "metadata": {},
   "outputs": [],
   "source": [
    "for consumer, frame in df_consumer.groupby(level = 0):\n",
    "    prod_offered_to_thisperson = list(frame['prod_offered'])[0]\n",
    "    df_consumer.loc[df_consumer.index == consumer, 'product_id'] = prod_offered_to_thisperson"
   ]
  },
  {
   "cell_type": "code",
   "execution_count": 740,
   "metadata": {
    "scrolled": true
   },
   "outputs": [],
   "source": [
    "# (3) product dataframe\n",
    "df_prod = pd.DataFrame(p_attrs, \n",
    "                       index = product_id,\n",
    "                       columns=prod_varnames)\n",
    "df_prod['price'] = price\n",
    "df_prod.index.name = 'product_id'\n",
    "\n",
    "# (4) merge\n",
    "# merge consumer id with the products assigned to each consumer\n",
    "df = pd.merge(df_consumer,\n",
    "              df_prod,\n",
    "              left_index = False, left_on = 'product_id', \n",
    "              right_index = True).sort_index(0)\n",
    "df = df.astype({'product_id': 'int'})\n",
    "\n",
    "# merge in consumer attributes\n",
    "df = pd.merge(df,\n",
    "              pd.DataFrame(c_attrs, columns = consumer_varnames),\n",
    "              left_index = True, \n",
    "              right_index = True).sort_index(0)\n",
    "df.index.name = 'consumer_id'\n",
    "for i in range(-m2,0):\n",
    "    df[prod_varnames[i]] = df[prod_varnames[i]]*df[consumer_varnames[i]]"
   ]
  },
  {
   "cell_type": "code",
   "execution_count": 741,
   "metadata": {},
   "outputs": [
    {
     "data": {
      "text/html": [
       "<div>\n",
       "<style scoped>\n",
       "    .dataframe tbody tr th:only-of-type {\n",
       "        vertical-align: middle;\n",
       "    }\n",
       "\n",
       "    .dataframe tbody tr th {\n",
       "        vertical-align: top;\n",
       "    }\n",
       "\n",
       "    .dataframe thead th {\n",
       "        text-align: right;\n",
       "    }\n",
       "</style>\n",
       "<table border=\"1\" class=\"dataframe\">\n",
       "  <thead>\n",
       "    <tr style=\"text-align: right;\">\n",
       "      <th></th>\n",
       "      <th>consumer_id</th>\n",
       "      <th>num_prod_offered</th>\n",
       "      <th>prod_offered</th>\n",
       "      <th>product_id</th>\n",
       "      <th>prod_var1</th>\n",
       "      <th>prod_var2</th>\n",
       "      <th>prod_var3</th>\n",
       "      <th>prod_var4</th>\n",
       "      <th>prod_var5</th>\n",
       "      <th>price</th>\n",
       "      <th>consumer_var1</th>\n",
       "      <th>consumer_var2</th>\n",
       "    </tr>\n",
       "  </thead>\n",
       "  <tbody>\n",
       "    <tr>\n",
       "      <th>0</th>\n",
       "      <td>0</td>\n",
       "      <td>4</td>\n",
       "      <td>[74, 5, 53, 71]</td>\n",
       "      <td>74</td>\n",
       "      <td>68.556374</td>\n",
       "      <td>-11.732472</td>\n",
       "      <td>14.876758</td>\n",
       "      <td>-25.337136</td>\n",
       "      <td>-36.372924</td>\n",
       "      <td>2306.971301</td>\n",
       "      <td>1</td>\n",
       "      <td>1</td>\n",
       "    </tr>\n",
       "    <tr>\n",
       "      <th>1</th>\n",
       "      <td>0</td>\n",
       "      <td>4</td>\n",
       "      <td>[74, 5, 53, 71]</td>\n",
       "      <td>5</td>\n",
       "      <td>25.017165</td>\n",
       "      <td>-11.812267</td>\n",
       "      <td>14.860598</td>\n",
       "      <td>-41.075519</td>\n",
       "      <td>-33.568343</td>\n",
       "      <td>7341.728804</td>\n",
       "      <td>1</td>\n",
       "      <td>1</td>\n",
       "    </tr>\n",
       "    <tr>\n",
       "      <th>2</th>\n",
       "      <td>0</td>\n",
       "      <td>4</td>\n",
       "      <td>[74, 5, 53, 71]</td>\n",
       "      <td>53</td>\n",
       "      <td>22.429600</td>\n",
       "      <td>-11.631830</td>\n",
       "      <td>14.816871</td>\n",
       "      <td>-40.848841</td>\n",
       "      <td>-34.687707</td>\n",
       "      <td>29.645139</td>\n",
       "      <td>1</td>\n",
       "      <td>1</td>\n",
       "    </tr>\n",
       "    <tr>\n",
       "      <th>3</th>\n",
       "      <td>0</td>\n",
       "      <td>4</td>\n",
       "      <td>[74, 5, 53, 71]</td>\n",
       "      <td>71</td>\n",
       "      <td>11.044104</td>\n",
       "      <td>-11.587997</td>\n",
       "      <td>14.939064</td>\n",
       "      <td>-36.650324</td>\n",
       "      <td>-36.813140</td>\n",
       "      <td>644.192645</td>\n",
       "      <td>1</td>\n",
       "      <td>1</td>\n",
       "    </tr>\n",
       "    <tr>\n",
       "      <th>4</th>\n",
       "      <td>1</td>\n",
       "      <td>3</td>\n",
       "      <td>[18, 25, 39]</td>\n",
       "      <td>18</td>\n",
       "      <td>9.262230</td>\n",
       "      <td>-11.700992</td>\n",
       "      <td>14.709389</td>\n",
       "      <td>-30.130758</td>\n",
       "      <td>-0.000000</td>\n",
       "      <td>13.069154</td>\n",
       "      <td>1</td>\n",
       "      <td>0</td>\n",
       "    </tr>\n",
       "  </tbody>\n",
       "</table>\n",
       "</div>"
      ],
      "text/plain": [
       "   consumer_id  num_prod_offered     prod_offered  product_id  prod_var1  \\\n",
       "0            0                 4  [74, 5, 53, 71]          74  68.556374   \n",
       "1            0                 4  [74, 5, 53, 71]           5  25.017165   \n",
       "2            0                 4  [74, 5, 53, 71]          53  22.429600   \n",
       "3            0                 4  [74, 5, 53, 71]          71  11.044104   \n",
       "4            1                 3     [18, 25, 39]          18   9.262230   \n",
       "\n",
       "   prod_var2  prod_var3  prod_var4  prod_var5        price  consumer_var1  \\\n",
       "0 -11.732472  14.876758 -25.337136 -36.372924  2306.971301              1   \n",
       "1 -11.812267  14.860598 -41.075519 -33.568343  7341.728804              1   \n",
       "2 -11.631830  14.816871 -40.848841 -34.687707    29.645139              1   \n",
       "3 -11.587997  14.939064 -36.650324 -36.813140   644.192645              1   \n",
       "4 -11.700992  14.709389 -30.130758  -0.000000    13.069154              1   \n",
       "\n",
       "   consumer_var2  \n",
       "0              1  \n",
       "1              1  \n",
       "2              1  \n",
       "3              1  \n",
       "4              0  "
      ]
     },
     "execution_count": 741,
     "metadata": {},
     "output_type": "execute_result"
    }
   ],
   "source": [
    "# (5) clean the datafram\n",
    "df.reset_index(inplace = True)\n",
    "#df = df.set_index(['consumer_id', 'product_id'])\n",
    "df.head()"
   ]
  },
  {
   "cell_type": "code",
   "execution_count": null,
   "metadata": {},
   "outputs": [],
   "source": []
  },
  {
   "cell_type": "code",
   "execution_count": 742,
   "metadata": {},
   "outputs": [],
   "source": [
    "# II. generate analysis data with true beta and Y -----------------------------\n",
    "    # Y: binary-vector of choices, n*c-by-1\n",
    "    # I: vector of consumer index, n*c-by-1\n",
    "    # X: matrix of consumer choice attributes, n*c-by-m, index = consumer_id\n",
    "    # beta: coefficients, m-by-1\n",
    "\n",
    "# 1. X: size n*c-by-m\n",
    "X = df[['consumer_id', 'price']+prod_varnames]\n",
    "X = X.set_index('consumer_id')\n",
    "\n",
    "# 2. beta: size m-by-1\n",
    "# first coeff: on price, must be negative\n",
    "beta0 = np.random.uniform(low = -1, high = 0, size = 1)\n",
    "# the other m-1 coeff on prod_var1-prod_var_{m-1}\n",
    "beta = np.random.uniform(low = -50, high = 50, size = m-1).reshape(m-1,1)\n",
    "beta = np.vstack((beta0,beta))\n",
    "# mannually input beta\n",
    "beta_true = np.array([-.05, -3, -14, .75, -2.5, 1]).reshape((m,1))"
   ]
  },
  {
   "cell_type": "code",
   "execution_count": 743,
   "metadata": {},
   "outputs": [
    {
     "data": {
      "text/plain": [
       "0"
      ]
     },
     "execution_count": 743,
     "metadata": {},
     "output_type": "execute_result"
    }
   ],
   "source": [
    "# 3. Y:\n",
    "# (1) give a score to each choice for each consumer\n",
    "df['score'] = X.values.dot(beta_true)\n",
    "# (2) calculate a probability of chosing each product for each consumer, based on the score\n",
    "for consumer, frame in df.groupby('consumer_id'):\n",
    "    total_expscore_thisperson = np.sum(np.exp(frame['score']))\n",
    "    df.loc[df['consumer_id'] == consumer,'prob'] = frame.apply(lambda row: np.exp(row['score'])/total_expscore_thisperson, \n",
    "                                                               axis = 1)\n",
    "# check whether prob for each person sum up to 1\n",
    "total_prob = df.groupby('consumer_id').agg({'prob': np.sum})\n",
    "tol = 10**(-10)\n",
    "len(total_prob.loc[abs(total_prob['prob'] -1) > tol])"
   ]
  },
  {
   "cell_type": "code",
   "execution_count": 744,
   "metadata": {},
   "outputs": [
    {
     "data": {
      "text/plain": [
       "0"
      ]
     },
     "execution_count": 744,
     "metadata": {},
     "output_type": "execute_result"
    }
   ],
   "source": [
    "# use function choice_probability to calculate the above 2 steps\n",
    "I = df['consumer_id']\n",
    "df['prob1']= ld.choice_probability(I,X,beta_true)\n",
    "(abs(df['prob'] - df['prob1'])>tol).sum()"
   ]
  },
  {
   "cell_type": "code",
   "execution_count": 745,
   "metadata": {},
   "outputs": [
    {
     "data": {
      "text/plain": [
       "0"
      ]
     },
     "execution_count": 745,
     "metadata": {},
     "output_type": "execute_result"
    }
   ],
   "source": [
    "# (3)chose Y, binary\n",
    "choice_index = (df.groupby('consumer_id')\n",
    "                  .agg({'prob': lambda series: series.idxmax()})\n",
    "                  .rename(columns={'prob':'choice'}))\n",
    "df['Y'] = df.index.isin(choice_index['choice']).astype(int)\n",
    "\n",
    "# check whether each person buy 1 and only 1 product\n",
    "total_selection = df.groupby('consumer_id').agg({'Y': np.sum})\n",
    "tol = 10**(-10)\n",
    "len(total_selection.loc[abs(total_selection['Y'] -1) > tol])"
   ]
  },
  {
   "cell_type": "code",
   "execution_count": 749,
   "metadata": {},
   "outputs": [
    {
     "data": {
      "text/html": [
       "<div>\n",
       "<style scoped>\n",
       "    .dataframe tbody tr th:only-of-type {\n",
       "        vertical-align: middle;\n",
       "    }\n",
       "\n",
       "    .dataframe tbody tr th {\n",
       "        vertical-align: top;\n",
       "    }\n",
       "\n",
       "    .dataframe thead th {\n",
       "        text-align: right;\n",
       "    }\n",
       "</style>\n",
       "<table border=\"1\" class=\"dataframe\">\n",
       "  <thead>\n",
       "    <tr style=\"text-align: right;\">\n",
       "      <th></th>\n",
       "      <th>consumer_id</th>\n",
       "      <th>num_prod_offered</th>\n",
       "      <th>prod_offered</th>\n",
       "      <th>product_id</th>\n",
       "      <th>prod_var1</th>\n",
       "      <th>prod_var2</th>\n",
       "      <th>prod_var3</th>\n",
       "      <th>prod_var4</th>\n",
       "      <th>prod_var5</th>\n",
       "      <th>price</th>\n",
       "      <th>consumer_var1</th>\n",
       "      <th>consumer_var2</th>\n",
       "      <th>score</th>\n",
       "      <th>prob</th>\n",
       "      <th>prob1</th>\n",
       "      <th>Y</th>\n",
       "    </tr>\n",
       "  </thead>\n",
       "  <tbody>\n",
       "    <tr>\n",
       "      <th>0</th>\n",
       "      <td>0</td>\n",
       "      <td>4</td>\n",
       "      <td>[74, 5, 53, 71]</td>\n",
       "      <td>74</td>\n",
       "      <td>68.556374</td>\n",
       "      <td>-11.732472</td>\n",
       "      <td>14.876758</td>\n",
       "      <td>-25.337136</td>\n",
       "      <td>-36.372924</td>\n",
       "      <td>2306.971301</td>\n",
       "      <td>1</td>\n",
       "      <td>1</td>\n",
       "      <td>-118.635595</td>\n",
       "      <td>3.225342e-127</td>\n",
       "      <td>3.225342e-127</td>\n",
       "      <td>0</td>\n",
       "    </tr>\n",
       "    <tr>\n",
       "      <th>1</th>\n",
       "      <td>0</td>\n",
       "      <td>4</td>\n",
       "      <td>[74, 5, 53, 71]</td>\n",
       "      <td>5</td>\n",
       "      <td>25.017165</td>\n",
       "      <td>-11.812267</td>\n",
       "      <td>14.860598</td>\n",
       "      <td>-41.075519</td>\n",
       "      <td>-33.568343</td>\n",
       "      <td>7341.728804</td>\n",
       "      <td>1</td>\n",
       "      <td>1</td>\n",
       "      <td>-196.500290</td>\n",
       "      <td>4.924572e-161</td>\n",
       "      <td>4.924572e-161</td>\n",
       "      <td>0</td>\n",
       "    </tr>\n",
       "    <tr>\n",
       "      <th>2</th>\n",
       "      <td>0</td>\n",
       "      <td>4</td>\n",
       "      <td>[74, 5, 53, 71]</td>\n",
       "      <td>53</td>\n",
       "      <td>22.429600</td>\n",
       "      <td>-11.631830</td>\n",
       "      <td>14.816871</td>\n",
       "      <td>-40.848841</td>\n",
       "      <td>-34.687707</td>\n",
       "      <td>29.645139</td>\n",
       "      <td>1</td>\n",
       "      <td>1</td>\n",
       "      <td>172.621612</td>\n",
       "      <td>9.999396e-01</td>\n",
       "      <td>9.999396e-01</td>\n",
       "      <td>1</td>\n",
       "    </tr>\n",
       "    <tr>\n",
       "      <th>3</th>\n",
       "      <td>0</td>\n",
       "      <td>4</td>\n",
       "      <td>[74, 5, 53, 71]</td>\n",
       "      <td>71</td>\n",
       "      <td>11.044104</td>\n",
       "      <td>-11.587997</td>\n",
       "      <td>14.939064</td>\n",
       "      <td>-36.650324</td>\n",
       "      <td>-36.813140</td>\n",
       "      <td>644.192645</td>\n",
       "      <td>1</td>\n",
       "      <td>1</td>\n",
       "      <td>162.906978</td>\n",
       "      <td>6.038953e-05</td>\n",
       "      <td>6.038953e-05</td>\n",
       "      <td>0</td>\n",
       "    </tr>\n",
       "    <tr>\n",
       "      <th>4</th>\n",
       "      <td>1</td>\n",
       "      <td>3</td>\n",
       "      <td>[18, 25, 39]</td>\n",
       "      <td>18</td>\n",
       "      <td>9.262230</td>\n",
       "      <td>-11.700992</td>\n",
       "      <td>14.709389</td>\n",
       "      <td>-30.130758</td>\n",
       "      <td>-0.000000</td>\n",
       "      <td>13.069154</td>\n",
       "      <td>1</td>\n",
       "      <td>0</td>\n",
       "      <td>221.732681</td>\n",
       "      <td>1.091747e-07</td>\n",
       "      <td>1.091747e-07</td>\n",
       "      <td>0</td>\n",
       "    </tr>\n",
       "  </tbody>\n",
       "</table>\n",
       "</div>"
      ],
      "text/plain": [
       "   consumer_id  num_prod_offered     prod_offered  product_id  prod_var1  \\\n",
       "0            0                 4  [74, 5, 53, 71]          74  68.556374   \n",
       "1            0                 4  [74, 5, 53, 71]           5  25.017165   \n",
       "2            0                 4  [74, 5, 53, 71]          53  22.429600   \n",
       "3            0                 4  [74, 5, 53, 71]          71  11.044104   \n",
       "4            1                 3     [18, 25, 39]          18   9.262230   \n",
       "\n",
       "   prod_var2  prod_var3  prod_var4  prod_var5        price  consumer_var1  \\\n",
       "0 -11.732472  14.876758 -25.337136 -36.372924  2306.971301              1   \n",
       "1 -11.812267  14.860598 -41.075519 -33.568343  7341.728804              1   \n",
       "2 -11.631830  14.816871 -40.848841 -34.687707    29.645139              1   \n",
       "3 -11.587997  14.939064 -36.650324 -36.813140   644.192645              1   \n",
       "4 -11.700992  14.709389 -30.130758  -0.000000    13.069154              1   \n",
       "\n",
       "   consumer_var2       score           prob          prob1  Y  \n",
       "0              1 -118.635595  3.225342e-127  3.225342e-127  0  \n",
       "1              1 -196.500290  4.924572e-161  4.924572e-161  0  \n",
       "2              1  172.621612   9.999396e-01   9.999396e-01  1  \n",
       "3              1  162.906978   6.038953e-05   6.038953e-05  0  \n",
       "4              0  221.732681   1.091747e-07   1.091747e-07  0  "
      ]
     },
     "execution_count": 749,
     "metadata": {},
     "output_type": "execute_result"
    }
   ],
   "source": [
    "df.head()"
   ]
  },
  {
   "cell_type": "code",
   "execution_count": 750,
   "metadata": {},
   "outputs": [
    {
     "data": {
      "text/plain": [
       "True"
      ]
     },
     "execution_count": 750,
     "metadata": {},
     "output_type": "execute_result"
    }
   ],
   "source": [
    "(df['prob'] >= 0).sum() == len(df)"
   ]
  },
  {
   "cell_type": "code",
   "execution_count": 751,
   "metadata": {},
   "outputs": [
    {
     "data": {
      "text/plain": [
       "True"
      ]
     },
     "execution_count": 751,
     "metadata": {},
     "output_type": "execute_result"
    }
   ],
   "source": [
    "(df['prob'] <= 1).sum() == len(df)"
   ]
  },
  {
   "cell_type": "code",
   "execution_count": null,
   "metadata": {},
   "outputs": [],
   "source": []
  },
  {
   "cell_type": "code",
   "execution_count": null,
   "metadata": {},
   "outputs": [],
   "source": []
  },
  {
   "cell_type": "code",
   "execution_count": 828,
   "metadata": {},
   "outputs": [
    {
     "data": {
      "text/plain": [
       "<module 'logit_demand' from '/Users/jingyuanwang/GitHub/NU450_HW/coding_tutorial/Logit_demand/logit_demand.py'>"
      ]
     },
     "execution_count": 828,
     "metadata": {},
     "output_type": "execute_result"
    }
   ],
   "source": [
    "# III. MLE- get beta_hat -----------------------------------\n",
    "import logit_demand as ld\n",
    "import importlib\n",
    "importlib.reload(ld)"
   ]
  },
  {
   "cell_type": "code",
   "execution_count": 814,
   "metadata": {},
   "outputs": [],
   "source": [
    "Y=df['Y']"
   ]
  },
  {
   "cell_type": "code",
   "execution_count": 830,
   "metadata": {},
   "outputs": [
    {
     "data": {
      "text/plain": [
       "8.99635076412298"
      ]
     },
     "execution_count": 830,
     "metadata": {},
     "output_type": "execute_result"
    }
   ],
   "source": [
    "ld.loglikelihood(Y,I,X,beta_true)"
   ]
  },
  {
   "cell_type": "code",
   "execution_count": 792,
   "metadata": {},
   "outputs": [],
   "source": []
  },
  {
   "cell_type": "code",
   "execution_count": null,
   "metadata": {},
   "outputs": [],
   "source": []
  },
  {
   "cell_type": "code",
   "execution_count": null,
   "metadata": {},
   "outputs": [],
   "source": []
  },
  {
   "cell_type": "code",
   "execution_count": null,
   "metadata": {},
   "outputs": [],
   "source": []
  },
  {
   "cell_type": "code",
   "execution_count": null,
   "metadata": {},
   "outputs": [],
   "source": []
  },
  {
   "cell_type": "code",
   "execution_count": null,
   "metadata": {},
   "outputs": [],
   "source": []
  },
  {
   "cell_type": "code",
   "execution_count": null,
   "metadata": {},
   "outputs": [],
   "source": []
  },
  {
   "cell_type": "code",
   "execution_count": null,
   "metadata": {},
   "outputs": [],
   "source": []
  },
  {
   "cell_type": "code",
   "execution_count": null,
   "metadata": {},
   "outputs": [],
   "source": []
  },
  {
   "cell_type": "code",
   "execution_count": null,
   "metadata": {},
   "outputs": [],
   "source": []
  },
  {
   "cell_type": "code",
   "execution_count": null,
   "metadata": {},
   "outputs": [],
   "source": []
  },
  {
   "cell_type": "code",
   "execution_count": null,
   "metadata": {},
   "outputs": [],
   "source": []
  }
 ],
 "metadata": {
  "kernelspec": {
   "display_name": "Python 3",
   "language": "python",
   "name": "python3"
  },
  "language_info": {
   "codemirror_mode": {
    "name": "ipython",
    "version": 3
   },
   "file_extension": ".py",
   "mimetype": "text/x-python",
   "name": "python",
   "nbconvert_exporter": "python",
   "pygments_lexer": "ipython3",
   "version": "3.7.3"
  }
 },
 "nbformat": 4,
 "nbformat_minor": 2
}
