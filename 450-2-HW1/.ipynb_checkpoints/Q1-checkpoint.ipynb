{
 "cells": [
  {
   "cell_type": "code",
   "execution_count": 1,
   "metadata": {},
   "outputs": [
    {
     "data": {
      "text/plain": [
       "<module 'entry.entry_likelihood' from '/Users/jingyuanwang/GitHub/NU450_HW/450-2-HW1/entry/entry_likelihood.py'>"
      ]
     },
     "execution_count": 1,
     "metadata": {},
     "output_type": "execute_result"
    }
   ],
   "source": [
    "import numpy as np\n",
    "import pandas as pd\n",
    "import os,sys,inspect\n",
    "import scipy.stats as stats\n",
    "import scipy.optimize as opt\n",
    "from scipy.stats import norm\n",
    "import scipy.integrate as integrate\n",
    "from scipy.io import loadmat\n",
    "import econtools \n",
    "import econtools.metrics as mt\n",
    "import statsmodels.discrete.discrete_model as sm\n",
    "import matplotlib.pyplot as plt\n",
    "import itertools as it\n",
    "import copy\n",
    "import importlib\n",
    "import warnings\n",
    "warnings.filterwarnings('ignore')\n",
    "\n",
    "\n",
    "\n",
    "# my functions\n",
    "currentdir = os.path.dirname(os.path.abspath(inspect.getfile(inspect.currentframe())))\n",
    "#targetdir = os.path.dirname(currentdir)\n",
    "targetdir = currentdir\n",
    "\n",
    "if targetdir not in sys.path:\n",
    "    sys.path.insert(0,targetdir)\n",
    "    \n",
    "from entry import entry_likelihood\n",
    "\n",
    "importlib.reload(entry_likelihood)"
   ]
  },
  {
   "cell_type": "code",
   "execution_count": 2,
   "metadata": {},
   "outputs": [],
   "source": [
    "# ------------------------------------------------------------------------\n",
    "# NOTE\n",
    "# ------------------------------------------------------------------------\n",
    "# Purpose: HW1 Q1 \n",
    "# \n",
    "# ------------------------------------------------------------------------"
   ]
  },
  {
   "cell_type": "markdown",
   "metadata": {},
   "source": [
    "# path"
   ]
  },
  {
   "cell_type": "code",
   "execution_count": 3,
   "metadata": {},
   "outputs": [],
   "source": [
    "# 0. Initialize file path -----------------------------------------------\n",
    "rootpath = '/Users/jingyuanwang/Dropbox/Course/ECON/IO/NU450/NU450_HW/450-2-HW1'\n",
    "datapath = rootpath + '/' + 'data'\n",
    "resultpath = rootpath + '/' + 'results'"
   ]
  },
  {
   "cell_type": "markdown",
   "metadata": {},
   "source": [
    "# read data"
   ]
  },
  {
   "cell_type": "code",
   "execution_count": 4,
   "metadata": {},
   "outputs": [],
   "source": [
    "# Q1\n",
    "filename = 'entry.mat'\n",
    "file = datapath + '/'+ filename\n",
    "data = loadmat(file)"
   ]
  },
  {
   "cell_type": "code",
   "execution_count": 5,
   "metadata": {},
   "outputs": [],
   "source": [
    "df = (pd.DataFrame(np.concatenate( \n",
    "                              (data['mrkts'],\n",
    "                               data['costs'],\n",
    "                               data['firms'], \n",
    "                               data['entry']), axis = 1 ))\n",
    "              .rename(columns = {0:'X_m',1:'N_m',2:'pi_1m',3:'pi_2m', 4:'pi_3m', \n",
    "                                 5:'phi_1m', 6:'phi_2m', 7:'phi_3m',\n",
    "                                 8:'Z_1m', 9:'Z_2m', 10:'Z_3m',\n",
    "                                 11:'entry_1m', 12:'entry_2m', 13:'entry_3m'}) )"
   ]
  },
  {
   "cell_type": "code",
   "execution_count": 6,
   "metadata": {},
   "outputs": [],
   "source": [
    "# Q2\n",
    "filename = 'entry2.mat'\n",
    "file = datapath + '/'+ filename\n",
    "data = loadmat(file)"
   ]
  },
  {
   "cell_type": "code",
   "execution_count": 7,
   "metadata": {},
   "outputs": [],
   "source": [
    "df_2 = (pd.DataFrame(np.concatenate( \n",
    "                              (data['mrkts'],\n",
    "                               data['costs'],\n",
    "                               data['firms'], \n",
    "                               data['entry']), axis = 1 ))\n",
    "              .rename(columns = {0:'X_m',1:'N_m',2:'N_potential_m', 3:'xi_m',\n",
    "                                 4:'pi_1m',5:'pi_2m', 6:'pi_3m', 7:'pi_4m', 8:'pi_5m', 9:'pi_6m', 10:'pi_7m',\n",
    "                                 11:'phi_1m', 12:'phi_2m', 13:'phi_3m', 14:'phi_4m', 15:'phi_5m', 16:'phi_6m', 17:'phi_7m',\n",
    "                                 18:'Z_1m', 19:'Z_2m', 20:'Z_3m', 21:'Z_4m', 12:'Z_5m', 23:'Z_6m', 24:'Z_7m',\n",
    "                                 25:'entry_1m', 26:'entry_2m', 27:'entry_3m',\n",
    "                                 28:'entry_4m', 29:'entry_5m', 30:'entry_6m', 31:'entry_7m'}) \n",
    "     )"
   ]
  },
  {
   "cell_type": "markdown",
   "metadata": {},
   "source": [
    "# Q1"
   ]
  },
  {
   "cell_type": "code",
   "execution_count": 186,
   "metadata": {},
   "outputs": [
    {
     "data": {
      "text/plain": [
       "<module 'entry.entry_likelihood' from '/Users/jingyuanwang/GitHub/NU450_HW/450-2-HW1/entry/entry_likelihood.py'>"
      ]
     },
     "execution_count": 186,
     "metadata": {},
     "output_type": "execute_result"
    }
   ],
   "source": [
    "importlib.reload(entry_likelihood)"
   ]
  },
  {
   "cell_type": "code",
   "execution_count": 187,
   "metadata": {},
   "outputs": [],
   "source": [
    "markets = entry_likelihood.entry_likelihood(M=100, F=3, df=df, n_sample=8000 )"
   ]
  },
  {
   "cell_type": "code",
   "execution_count": 188,
   "metadata": {},
   "outputs": [],
   "source": [
    "def obj(parameter, order=None):\n",
    "    \n",
    "    mu = parameter[0]\n",
    "    sigma = parameter[1]\n",
    "    likelihood = markets.get_likelihood(alpha=1, beta=1, delta=1, mu=mu, sigma=sigma, order = order)\n",
    "    \n",
    "    return -likelihood"
   ]
  },
  {
   "cell_type": "code",
   "execution_count": 189,
   "metadata": {},
   "outputs": [
    {
     "name": "stdout",
     "output_type": "stream",
     "text": [
      "272.0115342856334\n",
      "274.32620230297454\n"
     ]
    }
   ],
   "source": [
    "initial = np.array([1,2])\n",
    "print(obj(initial))\n",
    "print(obj(initial,order = 'lowestfirst'))"
   ]
  },
  {
   "cell_type": "code",
   "execution_count": 190,
   "metadata": {},
   "outputs": [],
   "source": [
    "initial = np.array([2,1])\n",
    "results0 = opt.minimize(obj, initial, args = None, method = 'Nelder-Mead')\n",
    "results1 = opt.minimize(obj, initial, args = 'lowestfirst', method = 'Nelder-Mead')"
   ]
  },
  {
   "cell_type": "code",
   "execution_count": 192,
   "metadata": {},
   "outputs": [
    {
     "data": {
      "text/plain": [
       " final_simplex: (array([[3.45892728, 1.85059432],\n",
       "       [3.45893264, 1.85059825],\n",
       "       [3.45892996, 1.85058239]]), array([158.64356207, 158.64357202, 158.64365922]))\n",
       "           fun: 158.64356206778672\n",
       "       message: 'Optimization terminated successfully.'\n",
       "          nfev: 107\n",
       "           nit: 50\n",
       "        status: 0\n",
       "       success: True\n",
       "             x: array([3.45892728, 1.85059432])"
      ]
     },
     "execution_count": 192,
     "metadata": {},
     "output_type": "execute_result"
    }
   ],
   "source": [
    "results0"
   ]
  },
  {
   "cell_type": "code",
   "execution_count": 191,
   "metadata": {},
   "outputs": [
    {
     "data": {
      "text/plain": [
       " final_simplex: (array([[3.45444201, 1.89487006],\n",
       "       [3.45440867, 1.89490126],\n",
       "       [3.4543882 , 1.89490255]]), array([158.64170297, 158.64174103, 158.64174103]))\n",
       "           fun: 158.64170297107194\n",
       "       message: 'Optimization terminated successfully.'\n",
       "          nfev: 87\n",
       "           nit: 42\n",
       "        status: 0\n",
       "       success: True\n",
       "             x: array([3.45444201, 1.89487006])"
      ]
     },
     "execution_count": 191,
     "metadata": {},
     "output_type": "execute_result"
    }
   ],
   "source": [
    "results1"
   ]
  },
  {
   "cell_type": "code",
   "execution_count": null,
   "metadata": {},
   "outputs": [],
   "source": []
  },
  {
   "cell_type": "code",
   "execution_count": null,
   "metadata": {},
   "outputs": [],
   "source": []
  },
  {
   "cell_type": "markdown",
   "metadata": {},
   "source": [
    "# Appendix & draft"
   ]
  },
  {
   "cell_type": "code",
   "execution_count": 14,
   "metadata": {},
   "outputs": [],
   "source": [
    "entry, phi_fm = markets._simul_entry_order_lowestfirst(alpha=1,  mu=2, sigma=1)"
   ]
  },
  {
   "cell_type": "code",
   "execution_count": 19,
   "metadata": {},
   "outputs": [
    {
     "data": {
      "text/plain": [
       "array([[ 1.45244468,  1.93572603,  0.97129735, ...,  1.9823687 ,\n",
       "        -0.26262194,  2.06851951],\n",
       "       [ 0.32683075,  1.63056338,  0.80215822, ...,  2.36570837,\n",
       "         2.85263776,  0.97864968],\n",
       "       [ 0.        ,  0.        ,  0.        , ...,  0.        ,\n",
       "         0.        ,  0.        ],\n",
       "       ...,\n",
       "       [ 1.33171813,  1.81499949,  0.8505708 , ...,  1.86164215,\n",
       "        -0.38334849,  1.94779296],\n",
       "       [ 1.91020084,  3.21393347,  2.38552831, ...,  3.94907846,\n",
       "         4.43600785,  2.56201977],\n",
       "       [ 3.10259413,  3.34710527,  2.19360224, ...,  3.12697384,\n",
       "         1.78593717,  1.90124121]])"
      ]
     },
     "execution_count": 19,
     "metadata": {},
     "output_type": "execute_result"
    }
   ],
   "source": [
    "# the first firm that enters\n",
    "entry * phi_fm "
   ]
  },
  {
   "cell_type": "code",
   "execution_count": 89,
   "metadata": {},
   "outputs": [],
   "source": [
    "simul_enter, simul_notenter, simul_order, entry = markets.get_likelihood(alpha=1, \n",
    "                                                                         beta=1, \n",
    "                                                                         delta=1, \n",
    "                                                                         mu=2, \n",
    "                                                                         sigma=1,\n",
    "                                                                        order = 'lowestfirst')"
   ]
  },
  {
   "cell_type": "code",
   "execution_count": 93,
   "metadata": {},
   "outputs": [
    {
     "data": {
      "text/plain": [
       "(300, 10000)"
      ]
     },
     "execution_count": 93,
     "metadata": {},
     "output_type": "execute_result"
    }
   ],
   "source": [
    "simul_notenter.shape"
   ]
  },
  {
   "cell_type": "code",
   "execution_count": 128,
   "metadata": {},
   "outputs": [
    {
     "data": {
      "text/plain": [
       "-310.46904612284715"
      ]
     },
     "execution_count": 128,
     "metadata": {},
     "output_type": "execute_result"
    }
   ],
   "source": [
    "prob = np.sum((entry*simul_enter) + (1-entry)*simul_notenter , axis = 1)/10000\n",
    "likelihood = np.sum( np.log(prob) )\n",
    "likelihood"
   ]
  },
  {
   "cell_type": "code",
   "execution_count": 142,
   "metadata": {},
   "outputs": [],
   "source": []
  },
  {
   "cell_type": "code",
   "execution_count": 143,
   "metadata": {},
   "outputs": [
    {
     "data": {
      "text/plain": [
       "-308.93091414696534"
      ]
     },
     "execution_count": 143,
     "metadata": {},
     "output_type": "execute_result"
    }
   ],
   "source": []
  },
  {
   "cell_type": "code",
   "execution_count": 144,
   "metadata": {},
   "outputs": [
    {
     "data": {
      "text/plain": [
       "0.06337464"
      ]
     },
     "execution_count": 144,
     "metadata": {},
     "output_type": "execute_result"
    }
   ],
   "source": [
    "np.product(prob[0:3])"
   ]
  },
  {
   "cell_type": "code",
   "execution_count": 140,
   "metadata": {},
   "outputs": [
    {
     "data": {
      "text/plain": [
       "array([6.340e-02, 8.000e-04, 4.810e-02, 7.890e-01, 2.000e-03, 6.790e-02,\n",
       "       1.000e-03, 2.929e-01, 8.850e-02, 3.805e-01, 3.340e-02, 1.600e-03,\n",
       "       1.601e-01, 6.830e-02, 1.800e-03, 4.459e-01, 9.996e-01, 6.380e-02,\n",
       "       5.110e-02, 1.729e-01, 7.894e-01, 1.200e-02, 7.333e-01, 6.176e-01,\n",
       "       9.973e-01, 1.010e-02, 5.860e-02, 1.436e-01, 1.778e-01, 9.857e-01,\n",
       "       2.385e-01, 1.600e-03, 5.110e-02, 1.200e-03, 1.940e-02, 1.840e-02,\n",
       "       9.370e-02, 1.620e-02, 9.979e-01, 1.420e-01, 4.400e-03, 1.885e-01,\n",
       "       8.000e-03, 2.476e-01, 1.953e-01, 4.200e-03, 5.100e-03, 1.100e-02,\n",
       "       3.000e-03, 6.500e-03, 1.320e-02, 1.900e-02, 1.500e-03, 4.080e-02,\n",
       "       4.270e-02, 5.400e-03, 2.430e-02, 3.200e-03, 1.464e-01, 1.036e-01,\n",
       "       2.680e-02, 5.500e-03, 1.670e-02, 9.660e-02, 2.400e-01, 9.983e-01,\n",
       "       6.000e-03, 5.180e-02, 1.066e-01, 1.510e-02, 3.000e-03, 2.150e-02,\n",
       "       1.000e-04, 7.190e-02, 3.882e-01, 6.940e-01, 1.346e-01, 1.359e-01,\n",
       "       9.759e-01, 3.290e-02, 2.700e-03, 1.909e-01, 9.997e-01, 9.991e-01,\n",
       "       9.995e-01, 1.577e-01, 2.031e-01, 1.060e-02, 5.000e-04, 1.360e-02,\n",
       "       1.100e-03, 5.903e-01, 1.680e-02, 7.330e-02, 6.050e-02, 1.169e-01,\n",
       "       9.923e-01, 9.970e-01, 1.200e-03, 8.502e-01])"
      ]
     },
     "execution_count": 140,
     "metadata": {},
     "output_type": "execute_result"
    }
   ],
   "source": [
    "prob2"
   ]
  },
  {
   "cell_type": "code",
   "execution_count": 309,
   "metadata": {},
   "outputs": [],
   "source": [
    "(simul_enter, simul_notenter) = markets._simul_entry_outcome( alpha=1, beta=1, delta=1, mu=2, sigma=1)"
   ]
  },
  {
   "cell_type": "code",
   "execution_count": 310,
   "metadata": {},
   "outputs": [
    {
     "data": {
      "text/plain": [
       "array([[ True,  True,  True, ...,  True,  True,  True],\n",
       "       [ True,  True,  True, ...,  True,  True,  True],\n",
       "       [ True, False,  True, ..., False,  True,  True],\n",
       "       ...,\n",
       "       [ True,  True,  True, ...,  True,  True,  True],\n",
       "       [ True,  True,  True, ...,  True, False,  True],\n",
       "       [ True, False,  True, ...,  True,  True,  True]])"
      ]
     },
     "execution_count": 310,
     "metadata": {},
     "output_type": "execute_result"
    }
   ],
   "source": [
    "simul_enter"
   ]
  },
  {
   "cell_type": "code",
   "execution_count": 311,
   "metadata": {},
   "outputs": [
    {
     "data": {
      "text/plain": [
       "array([[False, False, False, ..., False, False, False],\n",
       "       [False, False, False, ..., False, False, False],\n",
       "       [False,  True, False, ..., False, False, False],\n",
       "       ...,\n",
       "       [False, False, False, ..., False, False, False],\n",
       "       [False, False, False, ..., False,  True, False],\n",
       "       [False, False, False, ..., False, False, False]])"
      ]
     },
     "execution_count": 311,
     "metadata": {},
     "output_type": "execute_result"
    }
   ],
   "source": [
    "simul_notenter"
   ]
  },
  {
   "cell_type": "code",
   "execution_count": 341,
   "metadata": {},
   "outputs": [],
   "source": [
    "prob = np.sum((entry*simul_enter) + (1-entry)*simul_notenter , axis = 1)/10000"
   ]
  },
  {
   "cell_type": "code",
   "execution_count": 343,
   "metadata": {},
   "outputs": [
    {
     "data": {
      "text/plain": [
       "-310.31318557158556"
      ]
     },
     "execution_count": 343,
     "metadata": {},
     "output_type": "execute_result"
    }
   ],
   "source": [
    "prob[prob<=precision] = precision\n",
    "np.sum( np.log(prob) )"
   ]
  },
  {
   "cell_type": "code",
   "execution_count": 357,
   "metadata": {},
   "outputs": [
    {
     "data": {
      "text/plain": [
       "(300,)"
      ]
     },
     "execution_count": 357,
     "metadata": {},
     "output_type": "execute_result"
    }
   ],
   "source": [
    "prob.shape"
   ]
  },
  {
   "cell_type": "code",
   "execution_count": null,
   "metadata": {},
   "outputs": [],
   "source": []
  }
 ],
 "metadata": {
  "kernelspec": {
   "display_name": "Python 3",
   "language": "python",
   "name": "python3"
  },
  "language_info": {
   "codemirror_mode": {
    "name": "ipython",
    "version": 3
   },
   "file_extension": ".py",
   "mimetype": "text/x-python",
   "name": "python",
   "nbconvert_exporter": "python",
   "pygments_lexer": "ipython3",
   "version": "3.7.3"
  }
 },
 "nbformat": 4,
 "nbformat_minor": 2
}
