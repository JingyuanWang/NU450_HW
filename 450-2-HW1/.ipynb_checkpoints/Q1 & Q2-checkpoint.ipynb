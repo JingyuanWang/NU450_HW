{
 "cells": [
  {
   "cell_type": "code",
   "execution_count": 1,
   "metadata": {},
   "outputs": [
    {
     "data": {
      "text/plain": [
       "<module 'entry.entry_Q2' from '/Users/jingyuanwang/GitHub/NU450_HW/450-2-HW1/entry/entry_Q2.py'>"
      ]
     },
     "execution_count": 1,
     "metadata": {},
     "output_type": "execute_result"
    }
   ],
   "source": [
    "import numpy as np\n",
    "import pandas as pd\n",
    "import os,sys,inspect\n",
    "import scipy.stats as stats\n",
    "import scipy.optimize as opt\n",
    "from scipy.stats import norm\n",
    "import scipy.integrate as integrate\n",
    "from scipy.io import loadmat\n",
    "import econtools \n",
    "import econtools.metrics as mt\n",
    "import statsmodels.discrete.discrete_model as sm\n",
    "import matplotlib.pyplot as plt\n",
    "import itertools as it\n",
    "import copy\n",
    "import importlib\n",
    "import warnings\n",
    "warnings.filterwarnings('ignore')\n",
    "\n",
    "\n",
    "\n",
    "# my functions\n",
    "currentdir = os.path.dirname(os.path.abspath(inspect.getfile(inspect.currentframe())))\n",
    "#targetdir = os.path.dirname(currentdir)\n",
    "targetdir = currentdir\n",
    "\n",
    "if targetdir not in sys.path:\n",
    "    sys.path.insert(0,targetdir)\n",
    "    \n",
    "from entry import entry_Q1\n",
    "from entry import entry_Q2\n",
    "\n",
    "importlib.reload(entry_Q1)\n",
    "importlib.reload(entry_Q2)"
   ]
  },
  {
   "cell_type": "code",
   "execution_count": 2,
   "metadata": {},
   "outputs": [],
   "source": [
    "# ------------------------------------------------------------------------\n",
    "# NOTE\n",
    "# ------------------------------------------------------------------------\n",
    "# Purpose: HW1 Q1 \n",
    "# \n",
    "# ------------------------------------------------------------------------"
   ]
  },
  {
   "cell_type": "markdown",
   "metadata": {},
   "source": [
    "# path"
   ]
  },
  {
   "cell_type": "code",
   "execution_count": 3,
   "metadata": {},
   "outputs": [],
   "source": [
    "# 0. Initialize file path -----------------------------------------------\n",
    "rootpath = '/Users/jingyuanwang/Dropbox/Course/ECON/IO/NU450/NU450_HW/450-2-HW1'\n",
    "datapath = rootpath + '/' + 'data'\n",
    "resultpath = rootpath + '/' + 'results'"
   ]
  },
  {
   "cell_type": "markdown",
   "metadata": {},
   "source": [
    "# read data"
   ]
  },
  {
   "cell_type": "code",
   "execution_count": 4,
   "metadata": {},
   "outputs": [],
   "source": [
    "# Q1\n",
    "filename = 'entry.mat'\n",
    "file = datapath + '/'+ filename\n",
    "data = loadmat(file)"
   ]
  },
  {
   "cell_type": "code",
   "execution_count": 5,
   "metadata": {},
   "outputs": [],
   "source": [
    "df_1 = (pd.DataFrame(np.concatenate( \n",
    "                              (data['mrkts'],\n",
    "                               data['costs'],\n",
    "                               data['firms'], \n",
    "                               data['entry']), axis = 1 ))\n",
    "              .rename(columns = {0:'X_m',1:'N_m',2:'pi_1m',3:'pi_2m', 4:'pi_3m', \n",
    "                                 5:'phi_1m', 6:'phi_2m', 7:'phi_3m',\n",
    "                                 8:'Z_1m', 9:'Z_2m', 10:'Z_3m',\n",
    "                                 11:'entry_1m', 12:'entry_2m', 13:'entry_3m'}) )"
   ]
  },
  {
   "cell_type": "code",
   "execution_count": 6,
   "metadata": {},
   "outputs": [],
   "source": [
    "# Q2\n",
    "filename = 'entry2.mat'\n",
    "file = datapath + '/'+ filename\n",
    "data = loadmat(file)"
   ]
  },
  {
   "cell_type": "code",
   "execution_count": 7,
   "metadata": {},
   "outputs": [],
   "source": [
    "df_2 = (pd.DataFrame(np.concatenate( \n",
    "                              (data['mrkts'],\n",
    "                               data['costs'],\n",
    "                               data['firms'], \n",
    "                               data['entry']), axis = 1 ))\n",
    "              .rename(columns = {0:'X_m',1:'N_m',2:'N_potential_m', 3:'xi_m',\n",
    "                                 4:'pi_1m',5:'pi_2m', 6:'pi_3m', 7:'pi_4m', 8:'pi_5m', 9:'pi_6m', 10:'pi_7m',\n",
    "                                 11:'phi_1m', 12:'phi_2m', 13:'phi_3m', 14:'phi_4m', 15:'phi_5m', 16:'phi_6m', 17:'phi_7m',\n",
    "                                 18:'Z_1m', 19:'Z_2m', 20:'Z_3m', 21:'Z_4m', 22:'Z_5m', 23:'Z_6m', 24:'Z_7m',\n",
    "                                 25:'entry_1m', 26:'entry_2m', 27:'entry_3m',\n",
    "                                 28:'entry_4m', 29:'entry_5m', 30:'entry_6m', 31:'entry_7m'}) \n",
    "     )"
   ]
  },
  {
   "cell_type": "markdown",
   "metadata": {},
   "source": [
    "# Q1"
   ]
  },
  {
   "cell_type": "code",
   "execution_count": 8,
   "metadata": {},
   "outputs": [],
   "source": [
    "markets = entry_Q1.entry_likelihood(M=100, F=3, df=df_1, n_sample=10000 )"
   ]
  },
  {
   "cell_type": "code",
   "execution_count": 9,
   "metadata": {},
   "outputs": [],
   "source": [
    "def obj(parameter, order=None):\n",
    "    \n",
    "    mu = parameter[0]\n",
    "    sigma = parameter[1]\n",
    "    likelihood = markets.get_likelihood(alpha=1, beta=1, delta=1, mu=mu, sigma=sigma, order = order)\n",
    "    \n",
    "    return -likelihood"
   ]
  },
  {
   "cell_type": "code",
   "execution_count": 10,
   "metadata": {},
   "outputs": [
    {
     "name": "stdout",
     "output_type": "stream",
     "text": [
      "117.45373417745441\n",
      "122.46631737549201\n",
      "15199.985503594102\n"
     ]
    }
   ],
   "source": [
    "# test the true value:\n",
    "true_value = np.array([2,1])\n",
    "print(obj(true_value))\n",
    "print(obj(true_value,order = 'lowestfirst'))\n",
    "print(obj(true_value,order = 'highestfirst'))"
   ]
  },
  {
   "cell_type": "code",
   "execution_count": 11,
   "metadata": {},
   "outputs": [],
   "source": [
    "initial = np.array([1,2])\n",
    "results0 = opt.minimize(obj, initial, args = None, method = 'Nelder-Mead')\n",
    "results1 = opt.minimize(obj, initial, args = 'lowestfirst', method = 'Nelder-Mead')\n",
    "results2 = opt.minimize(obj, initial, args = 'highestfirst', method = 'Nelder-Mead')"
   ]
  },
  {
   "cell_type": "code",
   "execution_count": 12,
   "metadata": {},
   "outputs": [
    {
     "name": "stdout",
     "output_type": "stream",
     "text": [
      "not constrained:        estimated mu, sigma = [2.15389418 0.98328417], obj fun = 115.88971627809093 \n",
      "low cost enter first:   estimated mu, sigma = [2.19991463 0.96592481], obj fun = 120.75881677915382 \n",
      "hight cost enter first: estimated mu, sigma = [1.18123516 1.84269955], obj fun = 12345.110277956932 \n"
     ]
    }
   ],
   "source": [
    "print('not constrained:        estimated mu, sigma = {}, obj fun = {} '.format(results0.x, results0.fun))\n",
    "print('low cost enter first:   estimated mu, sigma = {}, obj fun = {} '.format(results1.x, results1.fun))\n",
    "print('hight cost enter first: estimated mu, sigma = {}, obj fun = {} '.format(results2.x, results2.fun))"
   ]
  },
  {
   "cell_type": "markdown",
   "metadata": {},
   "source": [
    "# Q2"
   ]
  },
  {
   "cell_type": "code",
   "execution_count": 13,
   "metadata": {},
   "outputs": [
    {
     "data": {
      "text/plain": [
       "<module 'entry.entry_Q2' from '/Users/jingyuanwang/GitHub/NU450_HW/450-2-HW1/entry/entry_Q2.py'>"
      ]
     },
     "execution_count": 13,
     "metadata": {},
     "output_type": "execute_result"
    }
   ],
   "source": [
    "importlib.reload(entry_Q2)"
   ]
  },
  {
   "cell_type": "code",
   "execution_count": 14,
   "metadata": {},
   "outputs": [],
   "source": [
    "markets = entry_Q2.entry_likelihood(M=100, F=7, df=df_2, n_sample=1000 )"
   ]
  },
  {
   "cell_type": "code",
   "execution_count": 15,
   "metadata": {},
   "outputs": [],
   "source": [
    "df = markets._get_data_long()"
   ]
  },
  {
   "cell_type": "markdown",
   "metadata": {},
   "source": [
    "## (a)"
   ]
  },
  {
   "cell_type": "code",
   "execution_count": 16,
   "metadata": {},
   "outputs": [
    {
     "data": {
      "text/plain": [
       "=======================================================\n",
       "Dependent variable:\tpi\n",
       "N:\t\t\t372\n",
       "R-squared:\t\t0.1084\n",
       "Estimation method:\tOLS\n",
       "VCE method:\t\tStandard (Homosk.)\n",
       "=======================================================\n",
       "   coeff    se      t   p>t CI_low CI_high\n",
       "X  0.706 0.150  4.701 0.000  0.411   1.002\n",
       "N  0.148 0.115  1.285 0.200 -0.079   0.375\n",
       "Z -0.606 0.182 -3.335 0.001 -0.963  -0.249\n",
       "======================================================="
      ]
     },
     "execution_count": 16,
     "metadata": {},
     "output_type": "execute_result"
    }
   ],
   "source": [
    "mt.reg( df[df['entry'] == 1], 'pi', ['X','N','Z'])"
   ]
  },
  {
   "cell_type": "markdown",
   "metadata": {},
   "source": [
    "## (b)"
   ]
  },
  {
   "cell_type": "code",
   "execution_count": 18,
   "metadata": {},
   "outputs": [
    {
     "data": {
      "text/plain": [
       "=======================================================\n",
       "Dependent variable:\tpi\n",
       "N:\t\t\t372\n",
       "R-squared:\t\tnan\n",
       "Estimation method:\t2SLS\n",
       "VCE method:\t\tStandard (Homosk.)\n",
       "=======================================================\n",
       "   coeff    se      t   p>t CI_low CI_high\n",
       "N -0.426 0.165 -2.574 0.010 -0.751  -0.101\n",
       "X  1.411 0.209  6.735 0.000  0.999   1.823\n",
       "Z -0.662 0.188 -3.523 0.000 -1.032  -0.293\n",
       "======================================================="
      ]
     },
     "execution_count": 18,
     "metadata": {},
     "output_type": "execute_result"
    }
   ],
   "source": [
    "mt.ivreg( df[df['entry'] == 1], 'pi', 'N', 'N_potential', ['X','Z'])"
   ]
  },
  {
   "cell_type": "markdown",
   "metadata": {},
   "source": [
    "## cheating: the regression without omitted variable problem:"
   ]
  },
  {
   "cell_type": "code",
   "execution_count": 19,
   "metadata": {},
   "outputs": [
    {
     "data": {
      "text/plain": [
       "=======================================================\n",
       "Dependent variable:\tpi\n",
       "N:\t\t\t372\n",
       "R-squared:\t\t0.9269\n",
       "Estimation method:\tOLS\n",
       "VCE method:\t\tStandard (Homosk.)\n",
       "=======================================================\n",
       "    coeff    se       t   p>t CI_low CI_high\n",
       "X   0.679 0.043  15.771 0.000  0.595   0.764\n",
       "N  -0.415 0.034 -12.126 0.000 -0.483  -0.348\n",
       "Z  -0.769 0.052 -14.761 0.000 -0.872  -0.667\n",
       "xi  0.958 0.015  64.208 0.000  0.929   0.988\n",
       "======================================================="
      ]
     },
     "execution_count": 19,
     "metadata": {},
     "output_type": "execute_result"
    }
   ],
   "source": [
    "mt.reg( df[df['entry'] == 1], 'pi', ['X','N','Z', 'xi'])"
   ]
  },
  {
   "cell_type": "markdown",
   "metadata": {},
   "source": [
    "# Appendix & draft"
   ]
  },
  {
   "cell_type": "code",
   "execution_count": null,
   "metadata": {},
   "outputs": [],
   "source": []
  },
  {
   "cell_type": "code",
   "execution_count": null,
   "metadata": {},
   "outputs": [],
   "source": []
  },
  {
   "cell_type": "code",
   "execution_count": null,
   "metadata": {},
   "outputs": [],
   "source": []
  },
  {
   "cell_type": "code",
   "execution_count": null,
   "metadata": {},
   "outputs": [],
   "source": []
  }
 ],
 "metadata": {
  "kernelspec": {
   "display_name": "Python 3",
   "language": "python",
   "name": "python3"
  },
  "language_info": {
   "codemirror_mode": {
    "name": "ipython",
    "version": 3
   },
   "file_extension": ".py",
   "mimetype": "text/x-python",
   "name": "python",
   "nbconvert_exporter": "python",
   "pygments_lexer": "ipython3",
   "version": "3.7.3"
  }
 },
 "nbformat": 4,
 "nbformat_minor": 2
}
