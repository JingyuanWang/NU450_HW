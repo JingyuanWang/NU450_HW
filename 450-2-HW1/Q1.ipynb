{
 "cells": [
  {
   "cell_type": "code",
   "execution_count": 1,
   "metadata": {},
   "outputs": [
    {
     "data": {
      "text/plain": [
       "<module 'entry.entry_likelihood' from '/Users/jingyuanwang/GitHub/NU450_HW/450-2-HW1/entry/entry_likelihood.py'>"
      ]
     },
     "execution_count": 1,
     "metadata": {},
     "output_type": "execute_result"
    }
   ],
   "source": [
    "import numpy as np\n",
    "import pandas as pd\n",
    "import os,sys,inspect\n",
    "import scipy.stats as stats\n",
    "import scipy.optimize as opt\n",
    "from scipy.stats import norm\n",
    "import scipy.integrate as integrate\n",
    "from scipy.io import loadmat\n",
    "import econtools \n",
    "import econtools.metrics as mt\n",
    "import statsmodels.discrete.discrete_model as sm\n",
    "import matplotlib.pyplot as plt\n",
    "import itertools as it\n",
    "import copy\n",
    "import importlib\n",
    "import warnings\n",
    "warnings.filterwarnings('ignore')\n",
    "\n",
    "\n",
    "\n",
    "# my functions\n",
    "currentdir = os.path.dirname(os.path.abspath(inspect.getfile(inspect.currentframe())))\n",
    "#targetdir = os.path.dirname(currentdir)\n",
    "targetdir = currentdir\n",
    "\n",
    "if targetdir not in sys.path:\n",
    "    sys.path.insert(0,targetdir)\n",
    "    \n",
    "from entry import entry_likelihood\n",
    "\n",
    "importlib.reload(entry_likelihood)"
   ]
  },
  {
   "cell_type": "code",
   "execution_count": 2,
   "metadata": {},
   "outputs": [],
   "source": [
    "# ------------------------------------------------------------------------\n",
    "# NOTE\n",
    "# ------------------------------------------------------------------------\n",
    "# Purpose: HW1 Q1 \n",
    "# \n",
    "# ------------------------------------------------------------------------"
   ]
  },
  {
   "cell_type": "markdown",
   "metadata": {},
   "source": [
    "# path"
   ]
  },
  {
   "cell_type": "code",
   "execution_count": 3,
   "metadata": {},
   "outputs": [],
   "source": [
    "# 0. Initialize file path -----------------------------------------------\n",
    "rootpath = '/Users/jingyuanwang/Dropbox/Course/ECON/IO/NU450/NU450_HW/450-2-HW1'\n",
    "datapath = rootpath + '/' + 'data'\n",
    "resultpath = rootpath + '/' + 'results'"
   ]
  },
  {
   "cell_type": "markdown",
   "metadata": {},
   "source": [
    "# read data"
   ]
  },
  {
   "cell_type": "code",
   "execution_count": 4,
   "metadata": {},
   "outputs": [],
   "source": [
    "# Q1\n",
    "filename = 'entry.mat'\n",
    "file = datapath + '/'+ filename\n",
    "data = loadmat(file)"
   ]
  },
  {
   "cell_type": "code",
   "execution_count": 5,
   "metadata": {},
   "outputs": [],
   "source": [
    "df = (pd.DataFrame(np.concatenate( \n",
    "                              (data['mrkts'],\n",
    "                               data['costs'],\n",
    "                               data['firms'], \n",
    "                               data['entry']), axis = 1 ))\n",
    "              .rename(columns = {0:'X_m',1:'N_m',2:'pi_1m',3:'pi_2m', 4:'pi_3m', \n",
    "                                 5:'phi_1m', 6:'phi_2m', 7:'phi_3m',\n",
    "                                 8:'Z_1m', 9:'Z_2m', 10:'Z_3m',\n",
    "                                 11:'entry_1m', 12:'entry_2m', 13:'entry_3m'}) )"
   ]
  },
  {
   "cell_type": "code",
   "execution_count": 6,
   "metadata": {},
   "outputs": [],
   "source": [
    "# Q2\n",
    "filename = 'entry2.mat'\n",
    "file = datapath + '/'+ filename\n",
    "data = loadmat(file)"
   ]
  },
  {
   "cell_type": "code",
   "execution_count": 7,
   "metadata": {},
   "outputs": [],
   "source": [
    "df_2 = (pd.DataFrame(np.concatenate( \n",
    "                              (data['mrkts'],\n",
    "                               data['costs'],\n",
    "                               data['firms'], \n",
    "                               data['entry']), axis = 1 ))\n",
    "              .rename(columns = {0:'X_m',1:'N_m',2:'N_potential_m', 3:'xi_m',\n",
    "                                 4:'pi_1m',5:'pi_2m', 6:'pi_3m', 7:'pi_4m', 8:'pi_5m', 9:'pi_6m', 10:'pi_7m',\n",
    "                                 11:'phi_1m', 12:'phi_2m', 13:'phi_3m', 14:'phi_4m', 15:'phi_5m', 16:'phi_6m', 17:'phi_7m',\n",
    "                                 18:'Z_1m', 19:'Z_2m', 20:'Z_3m', 21:'Z_4m', 12:'Z_5m', 23:'Z_6m', 24:'Z_7m',\n",
    "                                 25:'entry_1m', 26:'entry_2m', 27:'entry_3m',\n",
    "                                 28:'entry_4m', 29:'entry_5m', 30:'entry_6m', 31:'entry_7m'}) \n",
    "     )"
   ]
  },
  {
   "cell_type": "markdown",
   "metadata": {},
   "source": [
    "# Q1"
   ]
  },
  {
   "cell_type": "code",
   "execution_count": 8,
   "metadata": {},
   "outputs": [
    {
     "data": {
      "text/plain": [
       "<module 'entry.entry_likelihood' from '/Users/jingyuanwang/GitHub/NU450_HW/450-2-HW1/entry/entry_likelihood.py'>"
      ]
     },
     "execution_count": 8,
     "metadata": {},
     "output_type": "execute_result"
    }
   ],
   "source": [
    "importlib.reload(entry_likelihood)"
   ]
  },
  {
   "cell_type": "code",
   "execution_count": 9,
   "metadata": {},
   "outputs": [],
   "source": [
    "markets = entry_likelihood.entry_likelihood(M=100, F=3, df=df, n_sample=10000 )"
   ]
  },
  {
   "cell_type": "code",
   "execution_count": 10,
   "metadata": {},
   "outputs": [],
   "source": [
    "def obj(parameter, order=None):\n",
    "    \n",
    "    mu = parameter[0]\n",
    "    sigma = parameter[1]\n",
    "    likelihood = markets.get_likelihood(alpha=1, beta=1, delta=1, mu=mu, sigma=sigma, order = order)\n",
    "    \n",
    "    return -likelihood"
   ]
  },
  {
   "cell_type": "code",
   "execution_count": 11,
   "metadata": {},
   "outputs": [
    {
     "name": "stdout",
     "output_type": "stream",
     "text": [
      "117.42332341576864\n",
      "122.42196056030261\n",
      "11556.192235097686\n"
     ]
    }
   ],
   "source": [
    "initial = np.array([2,1])\n",
    "print(obj(initial))\n",
    "print(obj(initial,order = 'lowestfirst'))\n",
    "print(obj(initial,order = 'highestfirst'))"
   ]
  },
  {
   "cell_type": "code",
   "execution_count": 31,
   "metadata": {},
   "outputs": [],
   "source": [
    "initial = np.array([1,2])\n",
    "results0 = opt.minimize(obj, initial, args = None, method = 'Nelder-Mead')\n",
    "results1 = opt.minimize(obj, initial, args = 'lowestfirst', method = 'Nelder-Mead')\n",
    "results2 = opt.minimize(obj, initial, args = 'highestfirst', method = 'Nelder-Mead')"
   ]
  },
  {
   "cell_type": "code",
   "execution_count": 32,
   "metadata": {},
   "outputs": [
    {
     "data": {
      "text/plain": [
       " final_simplex: (array([[2.18029756, 0.96010509],\n",
       "       [2.18030272, 0.96009521],\n",
       "       [2.18030336, 0.96009759]]), array([115.62540193, 115.62547984, 115.62547984]))\n",
       "           fun: 115.62540192988874\n",
       "       message: 'Optimization terminated successfully.'\n",
       "          nfev: 98\n",
       "           nit: 46\n",
       "        status: 0\n",
       "       success: True\n",
       "             x: array([2.18029756, 0.96010509])"
      ]
     },
     "execution_count": 32,
     "metadata": {},
     "output_type": "execute_result"
    }
   ],
   "source": [
    "results0"
   ]
  },
  {
   "cell_type": "code",
   "execution_count": 33,
   "metadata": {},
   "outputs": [
    {
     "data": {
      "text/plain": [
       " final_simplex: (array([[2.14440378, 1.06047752],\n",
       "       [2.14440351, 1.06047884],\n",
       "       [2.14440641, 1.06048197]]), array([120.72331504, 120.72331504, 120.72331504]))\n",
       "           fun: 120.723315041002\n",
       "       message: 'Optimization terminated successfully.'\n",
       "          nfev: 108\n",
       "           nit: 53\n",
       "        status: 0\n",
       "       success: True\n",
       "             x: array([2.14440378, 1.06047752])"
      ]
     },
     "execution_count": 33,
     "metadata": {},
     "output_type": "execute_result"
    }
   ],
   "source": [
    "results1"
   ]
  },
  {
   "cell_type": "code",
   "execution_count": 34,
   "metadata": {},
   "outputs": [
    {
     "data": {
      "text/plain": [
       " final_simplex: (array([[1.14319475, 1.76663428],\n",
       "       [1.14318807, 1.76663732],\n",
       "       [1.14318604, 1.76664939]]), array([13068.4468692, 13068.4468692, 13068.4468692]))\n",
       "           fun: 13068.4468692048\n",
       "       message: 'Optimization terminated successfully.'\n",
       "          nfev: 75\n",
       "           nit: 35\n",
       "        status: 0\n",
       "       success: True\n",
       "             x: array([1.14319475, 1.76663428])"
      ]
     },
     "execution_count": 34,
     "metadata": {},
     "output_type": "execute_result"
    }
   ],
   "source": [
    "results2"
   ]
  },
  {
   "cell_type": "code",
   "execution_count": null,
   "metadata": {},
   "outputs": [],
   "source": []
  },
  {
   "cell_type": "markdown",
   "metadata": {},
   "source": [
    "# Appendix & draft"
   ]
  },
  {
   "cell_type": "code",
   "execution_count": null,
   "metadata": {},
   "outputs": [],
   "source": []
  },
  {
   "cell_type": "code",
   "execution_count": null,
   "metadata": {},
   "outputs": [],
   "source": []
  },
  {
   "cell_type": "code",
   "execution_count": null,
   "metadata": {},
   "outputs": [],
   "source": []
  },
  {
   "cell_type": "code",
   "execution_count": null,
   "metadata": {},
   "outputs": [],
   "source": []
  }
 ],
 "metadata": {
  "kernelspec": {
   "display_name": "Python 3",
   "language": "python",
   "name": "python3"
  },
  "language_info": {
   "codemirror_mode": {
    "name": "ipython",
    "version": 3
   },
   "file_extension": ".py",
   "mimetype": "text/x-python",
   "name": "python",
   "nbconvert_exporter": "python",
   "pygments_lexer": "ipython3",
   "version": "3.7.3"
  }
 },
 "nbformat": 4,
 "nbformat_minor": 2
}
