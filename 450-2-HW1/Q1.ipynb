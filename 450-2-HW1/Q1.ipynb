{
 "cells": [
  {
   "cell_type": "code",
   "execution_count": 44,
   "metadata": {},
   "outputs": [
    {
     "data": {
      "text/plain": [
       "<module 'entry.entry_Q2' from '/Users/jingyuanwang/GitHub/NU450_HW/450-2-HW1/entry/entry_Q2.py'>"
      ]
     },
     "execution_count": 44,
     "metadata": {},
     "output_type": "execute_result"
    }
   ],
   "source": [
    "import numpy as np\n",
    "import pandas as pd\n",
    "import os,sys,inspect\n",
    "import scipy.stats as stats\n",
    "import scipy.optimize as opt\n",
    "from scipy.stats import norm\n",
    "import scipy.integrate as integrate\n",
    "from scipy.io import loadmat\n",
    "import econtools \n",
    "import econtools.metrics as mt\n",
    "import statsmodels.discrete.discrete_model as sm\n",
    "import matplotlib.pyplot as plt\n",
    "import itertools as it\n",
    "import copy\n",
    "import importlib\n",
    "import warnings\n",
    "warnings.filterwarnings('ignore')\n",
    "\n",
    "\n",
    "\n",
    "# my functions\n",
    "currentdir = os.path.dirname(os.path.abspath(inspect.getfile(inspect.currentframe())))\n",
    "#targetdir = os.path.dirname(currentdir)\n",
    "targetdir = currentdir\n",
    "\n",
    "if targetdir not in sys.path:\n",
    "    sys.path.insert(0,targetdir)\n",
    "    \n",
    "from entry import entry_Q1\n",
    "from entry import entry_Q2\n",
    "\n",
    "importlib.reload(entry_Q1)\n",
    "importlib.reload(entry_Q2)"
   ]
  },
  {
   "cell_type": "code",
   "execution_count": 2,
   "metadata": {},
   "outputs": [],
   "source": [
    "# ------------------------------------------------------------------------\n",
    "# NOTE\n",
    "# ------------------------------------------------------------------------\n",
    "# Purpose: HW1 Q1 \n",
    "# \n",
    "# ------------------------------------------------------------------------"
   ]
  },
  {
   "cell_type": "markdown",
   "metadata": {},
   "source": [
    "# path"
   ]
  },
  {
   "cell_type": "code",
   "execution_count": 3,
   "metadata": {},
   "outputs": [],
   "source": [
    "# 0. Initialize file path -----------------------------------------------\n",
    "rootpath = '/Users/jingyuanwang/Dropbox/Course/ECON/IO/NU450/NU450_HW/450-2-HW1'\n",
    "datapath = rootpath + '/' + 'data'\n",
    "resultpath = rootpath + '/' + 'results'"
   ]
  },
  {
   "cell_type": "markdown",
   "metadata": {},
   "source": [
    "# read data"
   ]
  },
  {
   "cell_type": "code",
   "execution_count": 4,
   "metadata": {},
   "outputs": [],
   "source": [
    "# Q1\n",
    "filename = 'entry.mat'\n",
    "file = datapath + '/'+ filename\n",
    "data = loadmat(file)"
   ]
  },
  {
   "cell_type": "code",
   "execution_count": 5,
   "metadata": {},
   "outputs": [],
   "source": [
    "df = (pd.DataFrame(np.concatenate( \n",
    "                              (data['mrkts'],\n",
    "                               data['costs'],\n",
    "                               data['firms'], \n",
    "                               data['entry']), axis = 1 ))\n",
    "              .rename(columns = {0:'X_m',1:'N_m',2:'pi_1m',3:'pi_2m', 4:'pi_3m', \n",
    "                                 5:'phi_1m', 6:'phi_2m', 7:'phi_3m',\n",
    "                                 8:'Z_1m', 9:'Z_2m', 10:'Z_3m',\n",
    "                                 11:'entry_1m', 12:'entry_2m', 13:'entry_3m'}) )"
   ]
  },
  {
   "cell_type": "code",
   "execution_count": 6,
   "metadata": {},
   "outputs": [],
   "source": [
    "# Q2\n",
    "filename = 'entry2.mat'\n",
    "file = datapath + '/'+ filename\n",
    "data = loadmat(file)"
   ]
  },
  {
   "cell_type": "code",
   "execution_count": 50,
   "metadata": {},
   "outputs": [],
   "source": [
    "df_2 = (pd.DataFrame(np.concatenate( \n",
    "                              (data['mrkts'],\n",
    "                               data['costs'],\n",
    "                               data['firms'], \n",
    "                               data['entry']), axis = 1 ))\n",
    "              .rename(columns = {0:'X_m',1:'N_m',2:'N_potential_m', 3:'xi_m',\n",
    "                                 4:'pi_1m',5:'pi_2m', 6:'pi_3m', 7:'pi_4m', 8:'pi_5m', 9:'pi_6m', 10:'pi_7m',\n",
    "                                 11:'phi_1m', 12:'phi_2m', 13:'phi_3m', 14:'phi_4m', 15:'phi_5m', 16:'phi_6m', 17:'phi_7m',\n",
    "                                 18:'Z_1m', 19:'Z_2m', 20:'Z_3m', 21:'Z_4m', 22:'Z_5m', 23:'Z_6m', 24:'Z_7m',\n",
    "                                 25:'entry_1m', 26:'entry_2m', 27:'entry_3m',\n",
    "                                 28:'entry_4m', 29:'entry_5m', 30:'entry_6m', 31:'entry_7m'}) \n",
    "     )"
   ]
  },
  {
   "cell_type": "markdown",
   "metadata": {},
   "source": [
    "# Q1"
   ]
  },
  {
   "cell_type": "code",
   "execution_count": 43,
   "metadata": {},
   "outputs": [],
   "source": [
    "markets = entry_Q1.entry_likelihood(M=100, F=3, df=df, n_sample=10000 )"
   ]
  },
  {
   "cell_type": "code",
   "execution_count": 10,
   "metadata": {},
   "outputs": [],
   "source": [
    "def obj(parameter, order=None):\n",
    "    \n",
    "    mu = parameter[0]\n",
    "    sigma = parameter[1]\n",
    "    likelihood = markets.get_likelihood(alpha=1, beta=1, delta=1, mu=mu, sigma=sigma, order = order)\n",
    "    \n",
    "    return -likelihood"
   ]
  },
  {
   "cell_type": "code",
   "execution_count": 37,
   "metadata": {},
   "outputs": [
    {
     "name": "stdout",
     "output_type": "stream",
     "text": [
      "117.42332341576864\n",
      "122.42196056030261\n",
      "11556.192235097686\n"
     ]
    }
   ],
   "source": [
    "# test the true value:\n",
    "true_value = np.array([2,1])\n",
    "print(obj(true_value))\n",
    "print(obj(true_value,order = 'lowestfirst'))\n",
    "print(obj(true_value,order = 'highestfirst'))"
   ]
  },
  {
   "cell_type": "code",
   "execution_count": 31,
   "metadata": {},
   "outputs": [],
   "source": [
    "initial = np.array([1,2])\n",
    "results0 = opt.minimize(obj, initial, args = None, method = 'Nelder-Mead')\n",
    "results1 = opt.minimize(obj, initial, args = 'lowestfirst', method = 'Nelder-Mead')\n",
    "results2 = opt.minimize(obj, initial, args = 'highestfirst', method = 'Nelder-Mead')"
   ]
  },
  {
   "cell_type": "code",
   "execution_count": 41,
   "metadata": {},
   "outputs": [
    {
     "name": "stdout",
     "output_type": "stream",
     "text": [
      "not constrained:        estimated mu, sigma = [2.18029756 0.96010509], obj fun = 115.62540192988874 \n",
      "low cost enter first:   estimated mu, sigma = [2.14440378 1.06047752], obj fun = 120.723315041002 \n",
      "hight cost enter first: estimated mu, sigma = [1.14319475 1.76663428], obj fun = 13068.4468692048 \n"
     ]
    }
   ],
   "source": [
    "print('not constrained:        estimated mu, sigma = {}, obj fun = {} '.format(results0.x, results0.fun))\n",
    "print('low cost enter first:   estimated mu, sigma = {}, obj fun = {} '.format(results1.x, results1.fun))\n",
    "print('hight cost enter first: estimated mu, sigma = {}, obj fun = {} '.format(results2.x, results2.fun))"
   ]
  },
  {
   "cell_type": "markdown",
   "metadata": {},
   "source": [
    "# Q2"
   ]
  },
  {
   "cell_type": "code",
   "execution_count": 54,
   "metadata": {},
   "outputs": [
    {
     "data": {
      "text/plain": [
       "<module 'entry.entry_Q2' from '/Users/jingyuanwang/GitHub/NU450_HW/450-2-HW1/entry/entry_Q2.py'>"
      ]
     },
     "execution_count": 54,
     "metadata": {},
     "output_type": "execute_result"
    }
   ],
   "source": [
    "importlib.reload(entry_Q2)"
   ]
  },
  {
   "cell_type": "code",
   "execution_count": 55,
   "metadata": {},
   "outputs": [],
   "source": [
    "markets = entry_Q2.entry_likelihood(M=100, F=11, df=df_2, n_sample=1000 )"
   ]
  },
  {
   "cell_type": "code",
   "execution_count": 53,
   "metadata": {},
   "outputs": [
    {
     "data": {
      "text/html": [
       "<div>\n",
       "<style scoped>\n",
       "    .dataframe tbody tr th:only-of-type {\n",
       "        vertical-align: middle;\n",
       "    }\n",
       "\n",
       "    .dataframe tbody tr th {\n",
       "        vertical-align: top;\n",
       "    }\n",
       "\n",
       "    .dataframe thead th {\n",
       "        text-align: right;\n",
       "    }\n",
       "</style>\n",
       "<table border=\"1\" class=\"dataframe\">\n",
       "  <thead>\n",
       "    <tr style=\"text-align: right;\">\n",
       "      <th></th>\n",
       "      <th>X_m</th>\n",
       "      <th>N_m</th>\n",
       "      <th>N_potential_m</th>\n",
       "      <th>xi_m</th>\n",
       "      <th>pi_1m</th>\n",
       "      <th>pi_2m</th>\n",
       "      <th>pi_3m</th>\n",
       "      <th>pi_4m</th>\n",
       "      <th>pi_5m</th>\n",
       "      <th>pi_6m</th>\n",
       "      <th>...</th>\n",
       "      <th>Z_5m</th>\n",
       "      <th>Z_6m</th>\n",
       "      <th>Z_7m</th>\n",
       "      <th>entry_1m</th>\n",
       "      <th>entry_2m</th>\n",
       "      <th>entry_3m</th>\n",
       "      <th>entry_4m</th>\n",
       "      <th>entry_5m</th>\n",
       "      <th>entry_6m</th>\n",
       "      <th>entry_7m</th>\n",
       "    </tr>\n",
       "  </thead>\n",
       "  <tbody>\n",
       "    <tr>\n",
       "      <th>0</th>\n",
       "      <td>4.388989</td>\n",
       "      <td>4.0</td>\n",
       "      <td>4.0</td>\n",
       "      <td>8.139496</td>\n",
       "      <td>11.654469</td>\n",
       "      <td>10.482474</td>\n",
       "      <td>9.805210</td>\n",
       "      <td>6.970965</td>\n",
       "      <td>0.000000</td>\n",
       "      <td>0.0</td>\n",
       "      <td>...</td>\n",
       "      <td>0.000000</td>\n",
       "      <td>0.000000</td>\n",
       "      <td>0.000000</td>\n",
       "      <td>1.0</td>\n",
       "      <td>1.0</td>\n",
       "      <td>1.0</td>\n",
       "      <td>1.0</td>\n",
       "      <td>0.0</td>\n",
       "      <td>0.0</td>\n",
       "      <td>0.0</td>\n",
       "    </tr>\n",
       "    <tr>\n",
       "      <th>1</th>\n",
       "      <td>2.145807</td>\n",
       "      <td>2.0</td>\n",
       "      <td>6.0</td>\n",
       "      <td>1.365974</td>\n",
       "      <td>1.061698</td>\n",
       "      <td>0.764171</td>\n",
       "      <td>0.000000</td>\n",
       "      <td>0.000000</td>\n",
       "      <td>0.000000</td>\n",
       "      <td>0.0</td>\n",
       "      <td>...</td>\n",
       "      <td>0.514764</td>\n",
       "      <td>0.343570</td>\n",
       "      <td>0.000000</td>\n",
       "      <td>1.0</td>\n",
       "      <td>1.0</td>\n",
       "      <td>0.0</td>\n",
       "      <td>0.0</td>\n",
       "      <td>0.0</td>\n",
       "      <td>0.0</td>\n",
       "      <td>0.0</td>\n",
       "    </tr>\n",
       "    <tr>\n",
       "      <th>2</th>\n",
       "      <td>2.134941</td>\n",
       "      <td>2.0</td>\n",
       "      <td>7.0</td>\n",
       "      <td>0.560701</td>\n",
       "      <td>3.100604</td>\n",
       "      <td>0.484267</td>\n",
       "      <td>0.000000</td>\n",
       "      <td>0.000000</td>\n",
       "      <td>0.000000</td>\n",
       "      <td>0.0</td>\n",
       "      <td>...</td>\n",
       "      <td>1.296344</td>\n",
       "      <td>-0.394147</td>\n",
       "      <td>1.620373</td>\n",
       "      <td>1.0</td>\n",
       "      <td>1.0</td>\n",
       "      <td>0.0</td>\n",
       "      <td>0.0</td>\n",
       "      <td>0.0</td>\n",
       "      <td>0.0</td>\n",
       "      <td>0.0</td>\n",
       "    </tr>\n",
       "    <tr>\n",
       "      <th>3</th>\n",
       "      <td>3.596548</td>\n",
       "      <td>3.0</td>\n",
       "      <td>5.0</td>\n",
       "      <td>0.520023</td>\n",
       "      <td>2.482523</td>\n",
       "      <td>0.994207</td>\n",
       "      <td>0.586661</td>\n",
       "      <td>0.000000</td>\n",
       "      <td>0.000000</td>\n",
       "      <td>0.0</td>\n",
       "      <td>...</td>\n",
       "      <td>1.033741</td>\n",
       "      <td>0.000000</td>\n",
       "      <td>0.000000</td>\n",
       "      <td>1.0</td>\n",
       "      <td>1.0</td>\n",
       "      <td>1.0</td>\n",
       "      <td>0.0</td>\n",
       "      <td>0.0</td>\n",
       "      <td>0.0</td>\n",
       "      <td>0.0</td>\n",
       "    </tr>\n",
       "    <tr>\n",
       "      <th>4</th>\n",
       "      <td>4.375764</td>\n",
       "      <td>5.0</td>\n",
       "      <td>5.0</td>\n",
       "      <td>15.479796</td>\n",
       "      <td>17.567524</td>\n",
       "      <td>16.626829</td>\n",
       "      <td>16.449622</td>\n",
       "      <td>15.594684</td>\n",
       "      <td>15.096972</td>\n",
       "      <td>0.0</td>\n",
       "      <td>...</td>\n",
       "      <td>-0.134980</td>\n",
       "      <td>0.000000</td>\n",
       "      <td>0.000000</td>\n",
       "      <td>1.0</td>\n",
       "      <td>1.0</td>\n",
       "      <td>1.0</td>\n",
       "      <td>1.0</td>\n",
       "      <td>1.0</td>\n",
       "      <td>0.0</td>\n",
       "      <td>0.0</td>\n",
       "    </tr>\n",
       "  </tbody>\n",
       "</table>\n",
       "<p>5 rows × 32 columns</p>\n",
       "</div>"
      ],
      "text/plain": [
       "        X_m  N_m  N_potential_m       xi_m      pi_1m      pi_2m      pi_3m  \\\n",
       "0  4.388989  4.0            4.0   8.139496  11.654469  10.482474   9.805210   \n",
       "1  2.145807  2.0            6.0   1.365974   1.061698   0.764171   0.000000   \n",
       "2  2.134941  2.0            7.0   0.560701   3.100604   0.484267   0.000000   \n",
       "3  3.596548  3.0            5.0   0.520023   2.482523   0.994207   0.586661   \n",
       "4  4.375764  5.0            5.0  15.479796  17.567524  16.626829  16.449622   \n",
       "\n",
       "       pi_4m      pi_5m  pi_6m  ...      Z_5m      Z_6m      Z_7m  entry_1m  \\\n",
       "0   6.970965   0.000000    0.0  ...  0.000000  0.000000  0.000000       1.0   \n",
       "1   0.000000   0.000000    0.0  ...  0.514764  0.343570  0.000000       1.0   \n",
       "2   0.000000   0.000000    0.0  ...  1.296344 -0.394147  1.620373       1.0   \n",
       "3   0.000000   0.000000    0.0  ...  1.033741  0.000000  0.000000       1.0   \n",
       "4  15.594684  15.096972    0.0  ... -0.134980  0.000000  0.000000       1.0   \n",
       "\n",
       "   entry_2m  entry_3m  entry_4m  entry_5m  entry_6m  entry_7m  \n",
       "0       1.0       1.0       1.0       0.0       0.0       0.0  \n",
       "1       1.0       0.0       0.0       0.0       0.0       0.0  \n",
       "2       1.0       0.0       0.0       0.0       0.0       0.0  \n",
       "3       1.0       1.0       0.0       0.0       0.0       0.0  \n",
       "4       1.0       1.0       1.0       1.0       0.0       0.0  \n",
       "\n",
       "[5 rows x 32 columns]"
      ]
     },
     "execution_count": 53,
     "metadata": {},
     "output_type": "execute_result"
    }
   ],
   "source": [
    "df_2.head()"
   ]
  },
  {
   "cell_type": "code",
   "execution_count": 58,
   "metadata": {},
   "outputs": [
    {
     "data": {
      "text/plain": [
       "=======================================================\n",
       "Dependent variable:\tpi_1m\n",
       "N:\t\t\t100\n",
       "R-squared:\t\t0.1660\n",
       "Estimation method:\tOLS\n",
       "VCE method:\t\tStandard (Homosk.)\n",
       "=======================================================\n",
       "    coeff    se     t   p>t CI_low CI_high\n",
       "N_m 0.381 0.218 1.749 0.083 -0.051   0.814\n",
       "X_m 0.773 0.263 2.940 0.004  0.251   1.295\n",
       "======================================================="
      ]
     },
     "execution_count": 58,
     "metadata": {},
     "output_type": "execute_result"
    }
   ],
   "source": [
    "controls = [x for x in df_2.columns if x.startswith('xi')]\n",
    "mt.reg(df_2, 'pi_1m', ['N_m', 'X_m'] , nocons = False )"
   ]
  },
  {
   "cell_type": "code",
   "execution_count": null,
   "metadata": {},
   "outputs": [],
   "source": []
  },
  {
   "cell_type": "code",
   "execution_count": null,
   "metadata": {},
   "outputs": [],
   "source": []
  },
  {
   "cell_type": "markdown",
   "metadata": {},
   "source": [
    "# Appendix & draft"
   ]
  },
  {
   "cell_type": "code",
   "execution_count": null,
   "metadata": {},
   "outputs": [],
   "source": []
  },
  {
   "cell_type": "code",
   "execution_count": null,
   "metadata": {},
   "outputs": [],
   "source": []
  },
  {
   "cell_type": "code",
   "execution_count": null,
   "metadata": {},
   "outputs": [],
   "source": []
  },
  {
   "cell_type": "code",
   "execution_count": null,
   "metadata": {},
   "outputs": [],
   "source": []
  }
 ],
 "metadata": {
  "kernelspec": {
   "display_name": "Python 3",
   "language": "python",
   "name": "python3"
  },
  "language_info": {
   "codemirror_mode": {
    "name": "ipython",
    "version": 3
   },
   "file_extension": ".py",
   "mimetype": "text/x-python",
   "name": "python",
   "nbconvert_exporter": "python",
   "pygments_lexer": "ipython3",
   "version": "3.7.3"
  }
 },
 "nbformat": 4,
 "nbformat_minor": 2
}
