{
 "cells": [
  {
   "cell_type": "code",
   "execution_count": 572,
   "metadata": {},
   "outputs": [
    {
     "data": {
      "text/plain": [
       "<module 'myfunctions' from '/Users/jingyuanwang/GitHub/NU450_HW/myfunctions.py'>"
      ]
     },
     "execution_count": 572,
     "metadata": {},
     "output_type": "execute_result"
    }
   ],
   "source": [
    "import numpy as np\n",
    "import pandas as pd\n",
    "import os,sys,inspect\n",
    "import scipy.stats as stats\n",
    "import scipy.optimize as opt\n",
    "from scipy.io import loadmat\n",
    "import econtools \n",
    "import econtools.metrics as mt\n",
    "import statsmodels.discrete.discrete_model as sm\n",
    "import matplotlib.pyplot as plt\n",
    "import itertools as it\n",
    "import copy\n",
    "\n",
    "# mine\n",
    "# (1)\n",
    "import demand_discrete_choice.DiscreteChoice as dc\n",
    "\n",
    "# (2)\n",
    "currentdir = os.path.dirname(os.path.abspath(inspect.getfile(inspect.currentframe())))\n",
    "parentdir = os.path.dirname(currentdir)\n",
    "sys.path.insert(0,parentdir) \n",
    "import myfunctions as mf\n",
    "\n",
    "import importlib\n",
    "importlib.reload(dc)\n",
    "importlib.reload(mf)"
   ]
  },
  {
   "cell_type": "code",
   "execution_count": 573,
   "metadata": {},
   "outputs": [],
   "source": [
    "# ------------------------------------------------------------------------\n",
    "# NOTE\n",
    "# ------------------------------------------------------------------------\n",
    "# Purpose: HW2 \n",
    "# \n",
    "# Import data and stats\n",
    "# \n",
    "#\n",
    "# ------------------------------------------------------------------------"
   ]
  },
  {
   "cell_type": "markdown",
   "metadata": {},
   "source": [
    "# Initialize file path"
   ]
  },
  {
   "cell_type": "code",
   "execution_count": 574,
   "metadata": {},
   "outputs": [],
   "source": [
    "rootpath = '/Users/jingyuanwang/Dropbox/Course/ECON/IO/NU450/NU450_HW/450-1-HW2'\n",
    "datapath = rootpath + '/' + 'data'\n",
    "resultpath = rootpath + '/' + 'results'"
   ]
  },
  {
   "cell_type": "markdown",
   "metadata": {},
   "source": [
    "# Parameters\n",
    "Everything should be input in the following cell. \n",
    "All other cells are just operation and calculation."
   ]
  },
  {
   "cell_type": "code",
   "execution_count": 575,
   "metadata": {},
   "outputs": [],
   "source": [
    "# model parameters (true value)\n",
    "true_parameters = {'beta': np.array([5,1,1]),\n",
    "                   'alpha_0': 1,\n",
    "                   'alpha_sigma':1,\n",
    "                   'gamma': np.array([2,1,1])}\n",
    "\n",
    "# import file names\n",
    "matfiles = ['10markets3products', '100markets3products','100markets5products']\n",
    "names = ['m10_prod3', 'm100_prod3', 'm100_prod5']"
   ]
  },
  {
   "cell_type": "markdown",
   "metadata": {},
   "source": [
    "# Import Data"
   ]
  },
  {
   "cell_type": "code",
   "execution_count": 576,
   "metadata": {},
   "outputs": [],
   "source": [
    "# 1 import\n",
    "inputfiles = dict(zip(names, matfiles))\n",
    "data = {}\n",
    "for name, filename in inputfiles.items():\n",
    "    file = datapath + '/Simulation Data/'+ filename\n",
    "    data[name] = loadmat(file)\n"
   ]
  },
  {
   "cell_type": "code",
   "execution_count": 616,
   "metadata": {},
   "outputs": [],
   "source": [
    "# 2. clean and save to a class\n",
    "num_of_market = 100\n",
    "num_of_prod = 3\n",
    "sample = 'm{}_prod{}'.format(num_of_market,num_of_prod)\n",
    "\n",
    "\n",
    "df_product = (pd.DataFrame(np.concatenate( \n",
    "                          (data[sample]['x1'],\n",
    "                           data[sample]['xi_all'],\n",
    "                           data[sample]['w'], \n",
    "                           data[sample]['Z'],\n",
    "                           data[sample]['eta']), axis = 1 ))\n",
    "              .rename(columns = {0:'x1',1:'x2',2:'x3',3:'xi', 4:'w', 5:'z',6:'eta'}) )\n",
    "df_product['price'] = np.reshape(data[sample]['P_opt'], (num_of_market*num_of_prod,1))\n",
    "\n",
    "df_product['market_id'] = np.repeat(np.arange(num_of_market)[:,np.newaxis], num_of_prod, axis = 0)\n",
    "\n",
    "df_product['product_id'] = (np.repeat(np.arange(num_of_prod)[:, np.newaxis], \n",
    "                                      num_of_market, axis=1)\n",
    "                                .reshape((num_of_prod*num_of_market,1), order = 'F') )\n",
    "product_ids = {'market_id':'market_id',\n",
    "               'product_id':'product_id'}\n",
    "\n",
    "# consumer\n",
    "df_consumer = pd.DataFrame(data[sample]['alphas'].T, columns=[idx for idx in range(num_of_market) ])\n",
    "df_consumer = df_consumer.stack().reset_index().rename(columns = {'level_0':'consumer_id', \n",
    "                                                                  'level_1':'market_id',\n",
    "                                                                  0:'alpha'})\n",
    "\n",
    "\n",
    "consumer_ids = {'market_id':'market_id',\n",
    "               'consumer_id':'consumer_id'}\n"
   ]
  },
  {
   "cell_type": "code",
   "execution_count": 617,
   "metadata": {},
   "outputs": [],
   "source": [
    "# 3. fit it into a class: discrete choice\n",
    "\n",
    "#demand_m10_prod3 = dc.DiscreteChoice(df_consumer, consumer_ids, df_product, product_ids, true_parameters=true_parameters)\n",
    "demand_m100_prod3 = dc.DiscreteChoice(df_consumer, consumer_ids, df_product, product_ids, true_parameters=true_parameters)\n",
    "#demand_m100_prod5 = dc.DiscreteChoice(df_consumer, consumer_ids, df_product, product_ids, true_parameters=true_parameters)\n"
   ]
  },
  {
   "cell_type": "markdown",
   "metadata": {},
   "source": [
    "# Q1. Simulate consumer choice and welfare"
   ]
  },
  {
   "cell_type": "markdown",
   "metadata": {},
   "source": [
    "## simulate"
   ]
  },
  {
   "cell_type": "code",
   "execution_count": 618,
   "metadata": {},
   "outputs": [
    {
     "name": "stdout",
     "output_type": "stream",
     "text": [
      "Total welfare = 878287.6929224161\n"
     ]
    }
   ],
   "source": [
    "product_attribute_observed = ['x1','x2','x3']\n",
    "product_attribute_unobs = 'xi'\n",
    "eps = 'eps_ijm'\n",
    "price = 'price'\n",
    "taste = demand_m100_prod3.true_par['beta']\n",
    "price_sensitivity = 'alpha'\n",
    "\n",
    "demand_m100_prod3.simulate_consumer_choice(product_attribute_observed, product_attribute_unobs, price,\n",
    "                                    taste, price_sensitivity, eps)\n"
   ]
  },
  {
   "cell_type": "code",
   "execution_count": 619,
   "metadata": {},
   "outputs": [
    {
     "name": "stdout",
     "output_type": "stream",
     "text": [
      "Total Profits of each firm (product) = \n",
      "            total_profit\n",
      "product_id              \n",
      "0           11392.893024\n",
      "1           44383.194562\n",
      "2           36024.375563\n"
     ]
    }
   ],
   "source": [
    "cost_attribute_observed = ['w', 'z']\n",
    "cost_input_coeff = demand_m100_prod3.true_par['gamma']\n",
    "error_term = 'eta'\n",
    "\n",
    "demand_m100_prod3.simulate_firm_profit(cost_attribute_observed, price, cost_input_coeff, error_term)"
   ]
  },
  {
   "cell_type": "markdown",
   "metadata": {},
   "source": [
    "## Plot"
   ]
  },
  {
   "cell_type": "code",
   "execution_count": 620,
   "metadata": {},
   "outputs": [],
   "source": [
    "path = resultpath + '/' + 'Q1'\n",
    "\n",
    "# demand system:\n",
    "demand_sys = demand_m100_prod3\n",
    "num_m = 100\n",
    "num_prod = 3"
   ]
  },
  {
   "cell_type": "markdown",
   "metadata": {},
   "source": [
    "1. price:"
   ]
  },
  {
   "cell_type": "code",
   "execution_count": 621,
   "metadata": {},
   "outputs": [
    {
     "data": {
      "image/png": "[encoded data removed]",
      "text/plain": [
       "<Figure size 432x288 with 1 Axes>"
      ]
     },
     "metadata": {
      "needs_background": "light"
     },
     "output_type": "display_data"
    }
   ],
   "source": [
    "mf.hist_and_kdensity_bygroup(demand_sys.products, 'price', \n",
    "                        var_label = 'distribution of prices (across market)', \n",
    "                        groupname = 'product_id', group_label = 'product',\n",
    "                            save = True, figpath= path, figname = 'dist_price_m{}_prod{}'.format(num_m,num_prod))"
   ]
  },
  {
   "cell_type": "markdown",
   "metadata": {},
   "source": [
    "2. firms' profits"
   ]
  },
  {
   "cell_type": "code",
   "execution_count": 622,
   "metadata": {},
   "outputs": [
    {
     "name": "stdout",
     "output_type": "stream",
     "text": [
      "--- Firm Sales ---\n"
     ]
    },
    {
     "data": {
      "image/png": "[encoded data removed]",
      "text/plain": [
       "<Figure size 432x288 with 1 Axes>"
      ]
     },
     "metadata": {
      "needs_background": "light"
     },
     "output_type": "display_data"
    },
    {
     "name": "stdout",
     "output_type": "stream",
     "text": [
      "--- Firm Profits ---\n"
     ]
    },
    {
     "data": {
      "image/png": "[encoded data removed]",
      "text/plain": [
       "<Figure size 432x288 with 1 Axes>"
      ]
     },
     "metadata": {
      "needs_background": "light"
     },
     "output_type": "display_data"
    }
   ],
   "source": [
    "print('--- Firm Sales ---')\n",
    "mf.hist_and_kdensity_bygroup(demand_sys.products, 'sales', \n",
    "                        var_label = 'distribution of sales (across market)', \n",
    "                        groupname = 'product_id', group_label = 'product')\n",
    "print('--- Firm Profits ---')\n",
    "mf.hist_and_kdensity_bygroup(demand_sys.products, 'profit_jm', \n",
    "                        var_label = 'distribution of profits (across market)', \n",
    "                        groupname = 'product_id', group_label = 'product',  \n",
    "                             save = True, figpath= path, figname = 'dist_profit_m{}_prod{}'.format(num_m,num_prod))\n"
   ]
  },
  {
   "cell_type": "markdown",
   "metadata": {},
   "source": [
    "3. utility and welfare"
   ]
  },
  {
   "cell_type": "code",
   "execution_count": 623,
   "metadata": {},
   "outputs": [
    {
     "name": "stdout",
     "output_type": "stream",
     "text": [
      "------ Welfare ------\n",
      "Welfare distribution for all markets:\n"
     ]
    },
    {
     "data": {
      "image/png": "[encoded data removed]",
      "text/plain": [
       "<Figure size 432x288 with 1 Axes>"
      ]
     },
     "metadata": {
      "needs_background": "light"
     },
     "output_type": "display_data"
    }
   ],
   "source": [
    "print('------ Welfare ------')\n",
    "print('Welfare distribution for all markets:')\n",
    "mf.hist_and_kdensity(demand_sys.consumers['utility'], var_label = 'distribution of consumer utility',\n",
    "                     save = True, figpath= path, figname = 'dist_welfare_m{}_prod{}'.format(num_m,num_prod))"
   ]
  },
  {
   "cell_type": "code",
   "execution_count": 624,
   "metadata": {},
   "outputs": [
    {
     "name": "stdout",
     "output_type": "stream",
     "text": [
      "Welfare distribution in market 58:\n"
     ]
    },
    {
     "data": {
      "image/png": "[encoded data removed]",
      "text/plain": [
       "<Figure size 432x288 with 1 Axes>"
      ]
     },
     "metadata": {
      "needs_background": "light"
     },
     "output_type": "display_data"
    }
   ],
   "source": [
    "# one specific market\n",
    "market = 58\n",
    "print('Welfare distribution in market {}:'.format(market))\n",
    "mf.hist_and_kdensity(demand_sys.consumers.loc[demand_sys.consumers['market_id']==market, 'utility'],\n",
    "                      var_label = 'distribution of consumer utility in market {}'.format(market))"
   ]
  },
  {
   "cell_type": "code",
   "execution_count": null,
   "metadata": {},
   "outputs": [],
   "source": []
  },
  {
   "cell_type": "markdown",
   "metadata": {},
   "source": [
    "# Q2. Estimation: Demand side instrument"
   ]
  },
  {
   "cell_type": "code",
   "execution_count": null,
   "metadata": {},
   "outputs": [],
   "source": []
  },
  {
   "cell_type": "code",
   "execution_count": null,
   "metadata": {},
   "outputs": [],
   "source": []
  },
  {
   "cell_type": "code",
   "execution_count": null,
   "metadata": {},
   "outputs": [],
   "source": []
  },
  {
   "cell_type": "code",
   "execution_count": null,
   "metadata": {},
   "outputs": [],
   "source": []
  },
  {
   "cell_type": "code",
   "execution_count": null,
   "metadata": {},
   "outputs": [],
   "source": []
  },
  {
   "cell_type": "code",
   "execution_count": null,
   "metadata": {},
   "outputs": [],
   "source": []
  },
  {
   "cell_type": "code",
   "execution_count": null,
   "metadata": {},
   "outputs": [],
   "source": []
  },
  {
   "cell_type": "code",
   "execution_count": null,
   "metadata": {},
   "outputs": [],
   "source": []
  },
  {
   "cell_type": "code",
   "execution_count": null,
   "metadata": {},
   "outputs": [],
   "source": []
  },
  {
   "cell_type": "code",
   "execution_count": null,
   "metadata": {},
   "outputs": [],
   "source": []
  },
  {
   "cell_type": "code",
   "execution_count": 72,
   "metadata": {},
   "outputs": [],
   "source": []
  },
  {
   "cell_type": "code",
   "execution_count": null,
   "metadata": {},
   "outputs": [],
   "source": []
  },
  {
   "cell_type": "code",
   "execution_count": 73,
   "metadata": {},
   "outputs": [],
   "source": []
  },
  {
   "cell_type": "code",
   "execution_count": null,
   "metadata": {},
   "outputs": [],
   "source": []
  },
  {
   "cell_type": "code",
   "execution_count": 92,
   "metadata": {},
   "outputs": [],
   "source": []
  },
  {
   "cell_type": "code",
   "execution_count": null,
   "metadata": {},
   "outputs": [],
   "source": []
  },
  {
   "cell_type": "code",
   "execution_count": null,
   "metadata": {},
   "outputs": [],
   "source": []
  },
  {
   "cell_type": "code",
   "execution_count": null,
   "metadata": {},
   "outputs": [],
   "source": []
  },
  {
   "cell_type": "code",
   "execution_count": null,
   "metadata": {},
   "outputs": [],
   "source": []
  },
  {
   "cell_type": "code",
   "execution_count": null,
   "metadata": {},
   "outputs": [],
   "source": []
  },
  {
   "cell_type": "code",
   "execution_count": null,
   "metadata": {},
   "outputs": [],
   "source": []
  },
  {
   "cell_type": "code",
   "execution_count": null,
   "metadata": {},
   "outputs": [],
   "source": []
  },
  {
   "cell_type": "code",
   "execution_count": null,
   "metadata": {
    "scrolled": true
   },
   "outputs": [],
   "source": []
  },
  {
   "cell_type": "code",
   "execution_count": null,
   "metadata": {},
   "outputs": [],
   "source": []
  },
  {
   "cell_type": "code",
   "execution_count": null,
   "metadata": {},
   "outputs": [],
   "source": []
  },
  {
   "cell_type": "code",
   "execution_count": null,
   "metadata": {},
   "outputs": [],
   "source": []
  },
  {
   "cell_type": "code",
   "execution_count": 179,
   "metadata": {},
   "outputs": [],
   "source": [
    "num_of_market = max(len(df_product[consumer_ids['market_id']].unique()),  \n",
    "                            len(df_product[product_ids['market_id']].unique()) )"
   ]
  },
  {
   "cell_type": "code",
   "execution_count": 185,
   "metadata": {},
   "outputs": [],
   "source": [
    "max_num_of_consumer_withinmarket = df_consumer[consumer_ids].groupby(consumer_ids['market_id']).count().max()\n",
    "max_num_of_prod_withinmarket = df_product[product_ids].groupby(product_ids['market_id']).count().max()"
   ]
  },
  {
   "cell_type": "code",
   "execution_count": 187,
   "metadata": {},
   "outputs": [
    {
     "data": {
      "text/plain": [
       "product_id    3\n",
       "dtype: int64"
      ]
     },
     "execution_count": 187,
     "metadata": {},
     "output_type": "execute_result"
    }
   ],
   "source": [
    "max_num_of_prod_withinmarket"
   ]
  },
  {
   "cell_type": "code",
   "execution_count": 170,
   "metadata": {},
   "outputs": [],
   "source": [
    "df_panel = pd.merge(panel_index, df_product, \n",
    "                 how= 'right',\n",
    "                 left_on = [ panel_ids[key] for key in ('market_id','product_id')],\n",
    "                 right_on =  list(product_ids.values()) )"
   ]
  },
  {
   "cell_type": "code",
   "execution_count": 174,
   "metadata": {
    "scrolled": true
   },
   "outputs": [],
   "source": [
    "df_panel.iloc[0:500,]"
   ]
  },
  {
   "cell_type": "code",
   "execution_count": 175,
   "metadata": {},
   "outputs": [],
   "source": [
    "df_panel.sort_index(inplace = True)"
   ]
  },
  {
   "cell_type": "code",
   "execution_count": null,
   "metadata": {},
   "outputs": [],
   "source": []
  },
  {
   "cell_type": "code",
   "execution_count": null,
   "metadata": {},
   "outputs": [],
   "source": [
    "demand_m10_prod3.consumer_product.apply( lambda x: x+y, axis)"
   ]
  },
  {
   "cell_type": "code",
   "execution_count": null,
   "metadata": {},
   "outputs": [],
   "source": [
    "df['']= demand_m10_prod3.consumer_product.head().apply(lambda row : row.x1 + row.x2, axis=1)"
   ]
  },
  {
   "cell_type": "code",
   "execution_count": null,
   "metadata": {},
   "outputs": [],
   "source": []
  },
  {
   "cell_type": "code",
   "execution_count": null,
   "metadata": {},
   "outputs": [],
   "source": []
  },
  {
   "cell_type": "markdown",
   "metadata": {},
   "source": []
  },
  {
   "cell_type": "code",
   "execution_count": null,
   "metadata": {},
   "outputs": [],
   "source": [
    "# Outline\n",
    "# 1. simulate choice\n",
    "# 2. compare with the given market share variable\n",
    "# 3. save observables and final choice as a sample dataset. Make this a class\n",
    "# 4. calculate welfare"
   ]
  },
  {
   "cell_type": "code",
   "execution_count": null,
   "metadata": {},
   "outputs": [],
   "source": [
    "\n"
   ]
  },
  {
   "cell_type": "code",
   "execution_count": null,
   "metadata": {},
   "outputs": [],
   "source": [
    "\n"
   ]
  },
  {
   "cell_type": "code",
   "execution_count": null,
   "metadata": {},
   "outputs": [],
   "source": [
    "\n",
    "\n"
   ]
  },
  {
   "cell_type": "markdown",
   "metadata": {},
   "source": []
  },
  {
   "cell_type": "code",
   "execution_count": null,
   "metadata": {},
   "outputs": [],
   "source": [
    "#1. answer questions"
   ]
  },
  {
   "cell_type": "code",
   "execution_count": null,
   "metadata": {},
   "outputs": [],
   "source": [
    "#2. estimate delta and xi, compare with real data"
   ]
  },
  {
   "cell_type": "code",
   "execution_count": null,
   "metadata": {},
   "outputs": [],
   "source": []
  },
  {
   "cell_type": "code",
   "execution_count": null,
   "metadata": {},
   "outputs": [],
   "source": []
  },
  {
   "cell_type": "code",
   "execution_count": null,
   "metadata": {},
   "outputs": [],
   "source": []
  },
  {
   "cell_type": "code",
   "execution_count": null,
   "metadata": {},
   "outputs": [],
   "source": []
  },
  {
   "cell_type": "code",
   "execution_count": null,
   "metadata": {},
   "outputs": [],
   "source": []
  },
  {
   "cell_type": "code",
   "execution_count": null,
   "metadata": {},
   "outputs": [],
   "source": []
  },
  {
   "cell_type": "code",
   "execution_count": null,
   "metadata": {},
   "outputs": [],
   "source": []
  }
 ],
 "metadata": {
  "kernelspec": {
   "display_name": "Python 3",
   "language": "python",
   "name": "python3"
  },
  "language_info": {
   "codemirror_mode": {
    "name": "ipython",
    "version": 3
   },
   "file_extension": ".py",
   "mimetype": "text/x-python",
   "name": "python",
   "nbconvert_exporter": "python",
   "pygments_lexer": "ipython3",
   "version": "3.7.3"
  }
 },
 "nbformat": 4,
 "nbformat_minor": 2
}
