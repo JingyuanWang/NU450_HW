{
 "cells": [
  {
   "cell_type": "code",
   "execution_count": 365,
   "metadata": {},
   "outputs": [
    {
     "data": {
      "text/plain": [
       "<module 'demand_discrete_choice.DiscreteChoice' from '/Users/jingyuanwang/GitHub/NU450_HW/450-1-HW2/demand_discrete_choice/DiscreteChoice.py'>"
      ]
     },
     "execution_count": 365,
     "metadata": {},
     "output_type": "execute_result"
    }
   ],
   "source": [
    "import numpy as np\n",
    "import pandas as pd\n",
    "import scipy.stats as stats\n",
    "import scipy.optimize as opt\n",
    "from scipy.io import loadmat\n",
    "import econtools \n",
    "import econtools.metrics as mt\n",
    "import statsmodels.discrete.discrete_model as sm\n",
    "import matplotlib.pyplot as plt\n",
    "import itertools as it\n",
    "import copy\n",
    "\n",
    "# mine\n",
    "import demand_discrete_choice.DiscreteChoice as dc\n",
    "import importlib\n",
    "importlib.reload(dc)"
   ]
  },
  {
   "cell_type": "code",
   "execution_count": 366,
   "metadata": {},
   "outputs": [],
   "source": [
    "# ------------------------------------------------------------------------\n",
    "# NOTE\n",
    "# ------------------------------------------------------------------------\n",
    "# Purpose: HW2 \n",
    "# \n",
    "# Import data and stats\n",
    "# \n",
    "#\n",
    "# ------------------------------------------------------------------------"
   ]
  },
  {
   "cell_type": "markdown",
   "metadata": {},
   "source": [
    "# Initialize file path"
   ]
  },
  {
   "cell_type": "code",
   "execution_count": 367,
   "metadata": {},
   "outputs": [],
   "source": [
    "rootpath = '/Users/jingyuanwang/Dropbox/Course/ECON/IO/NU450/NU450_HW/450-1-HW2'\n",
    "datapath = rootpath + '/' + 'data'\n",
    "resultpath = rootpath + '/' + 'results'"
   ]
  },
  {
   "cell_type": "markdown",
   "metadata": {},
   "source": [
    "# Parameters\n",
    "Everything should be input in the following cell. \n",
    "All other cells are just operation and calculation."
   ]
  },
  {
   "cell_type": "code",
   "execution_count": 368,
   "metadata": {},
   "outputs": [],
   "source": [
    "# model parameters (true value)\n",
    "true_parameters = {'beta': np.array([5,1,1]),\n",
    "                   'alpha_0': 1,\n",
    "                   'alpha_sigma':1,\n",
    "                   'gamma': np.array([2,1,1])}\n",
    "\n",
    "# import file names\n",
    "matfiles = ['10markets3products', '100markets3products','100markets5products']\n",
    "names = ['m10_prod3', 'm100_prod3', 'm100_prod5']"
   ]
  },
  {
   "cell_type": "markdown",
   "metadata": {},
   "source": [
    "# Import Data"
   ]
  },
  {
   "cell_type": "code",
   "execution_count": 369,
   "metadata": {},
   "outputs": [],
   "source": [
    "# 1 import\n",
    "inputfiles = dict(zip(names, matfiles))\n",
    "data = {}\n",
    "for name, filename in inputfiles.items():\n",
    "    file = datapath + '/Simulation Data/'+ filename\n",
    "    data[name] = loadmat(file)\n"
   ]
  },
  {
   "cell_type": "code",
   "execution_count": 378,
   "metadata": {},
   "outputs": [],
   "source": [
    "# 2. clean\n",
    "sample = 'm100_prod3'\n",
    "num_of_market = 100\n",
    "num_of_prod = 3\n",
    "\n",
    "df_product = (pd.DataFrame(np.concatenate( \n",
    "                          (data[sample]['x1'],\n",
    "                           data[sample]['xi_all'],\n",
    "                           data[sample]['w'], \n",
    "                           data[sample]['Z'],\n",
    "                           data[sample]['eta']), axis = 1 ))\n",
    "              .rename(columns = {0:'x1',1:'x2',2:'x3',3:'xi', 4:'w', 5:'z',6:'eta'}) )\n",
    "df_product['price'] = np.reshape(data[sample]['P_opt'], (num_of_market*num_of_prod,1))\n",
    "\n",
    "df_product['market_id'] = np.repeat(np.arange(num_of_market)[:,np.newaxis], num_of_prod, axis = 0)\n",
    "\n",
    "df_product['product_id'] = (np.repeat(np.arange(num_of_prod)[:, np.newaxis], \n",
    "                                      num_of_market, axis=1)\n",
    "                                .reshape((num_of_prod*num_of_market,1), order = 'F') )\n",
    "product_ids = {'market_id':'market_id',\n",
    "               'product_id':'product_id'}\n",
    "\n",
    "# consumer\n",
    "df_consumer = pd.DataFrame(data[sample]['alphas'].T, columns=[idx for idx in range(num_of_market) ])\n",
    "df_consumer = df_consumer.stack().reset_index().rename(columns = {'level_0':'consumer_id', \n",
    "                                                                  'level_1':'market_id',\n",
    "                                                                  0:'alpha'})\n",
    "\n",
    "\n",
    "consumer_ids = {'market_id':'market_id',\n",
    "               'consumer_id':'consumer_id'}\n"
   ]
  },
  {
   "cell_type": "code",
   "execution_count": 379,
   "metadata": {},
   "outputs": [],
   "source": [
    "# 3. fit it into a class: discrete choice\n",
    "\n",
    "#demand_m10_prod3 = dc.DiscreteChoice(df_consumer, consumer_ids, df_product, product_ids, true_parameters=true_parameters)\n",
    "demand_m100_prod3 = dc.DiscreteChoice(df_consumer, consumer_ids, df_product, product_ids, true_parameters=true_parameters)\n",
    "#demand_m100_prod5 = dc.DiscreteChoice(df_consumer, consumer_ids, df_product, product_ids, true_parameters=true_parameters)\n"
   ]
  },
  {
   "cell_type": "code",
   "execution_count": null,
   "metadata": {},
   "outputs": [],
   "source": []
  },
  {
   "cell_type": "code",
   "execution_count": null,
   "metadata": {},
   "outputs": [],
   "source": []
  },
  {
   "cell_type": "markdown",
   "metadata": {},
   "source": [
    "# Simulate consumer choice and welfare"
   ]
  },
  {
   "cell_type": "code",
   "execution_count": 380,
   "metadata": {},
   "outputs": [],
   "source": [
    "# Outline\n",
    "# 1. simulate choice\n",
    "# 2. compare with the given market share variable\n",
    "# 3. save observables and final choice as a sample dataset. Make this a class\n",
    "# 4. calculate welfare"
   ]
  },
  {
   "cell_type": "code",
   "execution_count": null,
   "metadata": {},
   "outputs": [],
   "source": []
  },
  {
   "cell_type": "code",
   "execution_count": 381,
   "metadata": {},
   "outputs": [
    {
     "data": {
      "text/html": [
       "<div>\n",
       "<style scoped>\n",
       "    .dataframe tbody tr th:only-of-type {\n",
       "        vertical-align: middle;\n",
       "    }\n",
       "\n",
       "    .dataframe tbody tr th {\n",
       "        vertical-align: top;\n",
       "    }\n",
       "\n",
       "    .dataframe thead th {\n",
       "        text-align: right;\n",
       "    }\n",
       "</style>\n",
       "<table border=\"1\" class=\"dataframe\">\n",
       "  <thead>\n",
       "    <tr style=\"text-align: right;\">\n",
       "      <th></th>\n",
       "      <th>utility</th>\n",
       "    </tr>\n",
       "    <tr>\n",
       "      <th>market_id</th>\n",
       "      <th></th>\n",
       "    </tr>\n",
       "  </thead>\n",
       "  <tbody>\n",
       "    <tr>\n",
       "      <th>0</th>\n",
       "      <td>11207.672943</td>\n",
       "    </tr>\n",
       "    <tr>\n",
       "      <th>1</th>\n",
       "      <td>10423.319152</td>\n",
       "    </tr>\n",
       "    <tr>\n",
       "      <th>2</th>\n",
       "      <td>11213.009648</td>\n",
       "    </tr>\n",
       "    <tr>\n",
       "      <th>3</th>\n",
       "      <td>8773.785380</td>\n",
       "    </tr>\n",
       "    <tr>\n",
       "      <th>4</th>\n",
       "      <td>11621.378165</td>\n",
       "    </tr>\n",
       "    <tr>\n",
       "      <th>5</th>\n",
       "      <td>12372.054361</td>\n",
       "    </tr>\n",
       "    <tr>\n",
       "      <th>6</th>\n",
       "      <td>8929.625654</td>\n",
       "    </tr>\n",
       "    <tr>\n",
       "      <th>7</th>\n",
       "      <td>9081.418986</td>\n",
       "    </tr>\n",
       "    <tr>\n",
       "      <th>8</th>\n",
       "      <td>8578.703000</td>\n",
       "    </tr>\n",
       "    <tr>\n",
       "      <th>9</th>\n",
       "      <td>9323.438711</td>\n",
       "    </tr>\n",
       "    <tr>\n",
       "      <th>10</th>\n",
       "      <td>9372.853081</td>\n",
       "    </tr>\n",
       "    <tr>\n",
       "      <th>11</th>\n",
       "      <td>7273.881342</td>\n",
       "    </tr>\n",
       "    <tr>\n",
       "      <th>12</th>\n",
       "      <td>10394.406451</td>\n",
       "    </tr>\n",
       "    <tr>\n",
       "      <th>13</th>\n",
       "      <td>11032.861388</td>\n",
       "    </tr>\n",
       "    <tr>\n",
       "      <th>14</th>\n",
       "      <td>9536.268944</td>\n",
       "    </tr>\n",
       "    <tr>\n",
       "      <th>15</th>\n",
       "      <td>10097.411959</td>\n",
       "    </tr>\n",
       "    <tr>\n",
       "      <th>16</th>\n",
       "      <td>8661.957730</td>\n",
       "    </tr>\n",
       "    <tr>\n",
       "      <th>17</th>\n",
       "      <td>10448.738172</td>\n",
       "    </tr>\n",
       "    <tr>\n",
       "      <th>18</th>\n",
       "      <td>7802.493211</td>\n",
       "    </tr>\n",
       "    <tr>\n",
       "      <th>19</th>\n",
       "      <td>11452.372112</td>\n",
       "    </tr>\n",
       "    <tr>\n",
       "      <th>20</th>\n",
       "      <td>11302.263545</td>\n",
       "    </tr>\n",
       "    <tr>\n",
       "      <th>21</th>\n",
       "      <td>10344.861891</td>\n",
       "    </tr>\n",
       "    <tr>\n",
       "      <th>22</th>\n",
       "      <td>12048.701848</td>\n",
       "    </tr>\n",
       "    <tr>\n",
       "      <th>23</th>\n",
       "      <td>11779.959639</td>\n",
       "    </tr>\n",
       "    <tr>\n",
       "      <th>24</th>\n",
       "      <td>8860.229501</td>\n",
       "    </tr>\n",
       "    <tr>\n",
       "      <th>25</th>\n",
       "      <td>11515.088664</td>\n",
       "    </tr>\n",
       "    <tr>\n",
       "      <th>26</th>\n",
       "      <td>8714.205178</td>\n",
       "    </tr>\n",
       "    <tr>\n",
       "      <th>27</th>\n",
       "      <td>11184.328650</td>\n",
       "    </tr>\n",
       "    <tr>\n",
       "      <th>28</th>\n",
       "      <td>7466.196783</td>\n",
       "    </tr>\n",
       "    <tr>\n",
       "      <th>29</th>\n",
       "      <td>9487.195601</td>\n",
       "    </tr>\n",
       "    <tr>\n",
       "      <th>...</th>\n",
       "      <td>...</td>\n",
       "    </tr>\n",
       "    <tr>\n",
       "      <th>70</th>\n",
       "      <td>7629.873366</td>\n",
       "    </tr>\n",
       "    <tr>\n",
       "      <th>71</th>\n",
       "      <td>8427.234949</td>\n",
       "    </tr>\n",
       "    <tr>\n",
       "      <th>72</th>\n",
       "      <td>8304.804506</td>\n",
       "    </tr>\n",
       "    <tr>\n",
       "      <th>73</th>\n",
       "      <td>8485.346593</td>\n",
       "    </tr>\n",
       "    <tr>\n",
       "      <th>74</th>\n",
       "      <td>8174.114096</td>\n",
       "    </tr>\n",
       "    <tr>\n",
       "      <th>75</th>\n",
       "      <td>6434.948962</td>\n",
       "    </tr>\n",
       "    <tr>\n",
       "      <th>76</th>\n",
       "      <td>7414.413823</td>\n",
       "    </tr>\n",
       "    <tr>\n",
       "      <th>77</th>\n",
       "      <td>8987.610828</td>\n",
       "    </tr>\n",
       "    <tr>\n",
       "      <th>78</th>\n",
       "      <td>9111.372898</td>\n",
       "    </tr>\n",
       "    <tr>\n",
       "      <th>79</th>\n",
       "      <td>9500.141574</td>\n",
       "    </tr>\n",
       "    <tr>\n",
       "      <th>80</th>\n",
       "      <td>9259.256838</td>\n",
       "    </tr>\n",
       "    <tr>\n",
       "      <th>81</th>\n",
       "      <td>7190.549908</td>\n",
       "    </tr>\n",
       "    <tr>\n",
       "      <th>82</th>\n",
       "      <td>8671.526443</td>\n",
       "    </tr>\n",
       "    <tr>\n",
       "      <th>83</th>\n",
       "      <td>7563.294018</td>\n",
       "    </tr>\n",
       "    <tr>\n",
       "      <th>84</th>\n",
       "      <td>7583.546821</td>\n",
       "    </tr>\n",
       "    <tr>\n",
       "      <th>85</th>\n",
       "      <td>8904.203409</td>\n",
       "    </tr>\n",
       "    <tr>\n",
       "      <th>86</th>\n",
       "      <td>6988.588056</td>\n",
       "    </tr>\n",
       "    <tr>\n",
       "      <th>87</th>\n",
       "      <td>8351.145207</td>\n",
       "    </tr>\n",
       "    <tr>\n",
       "      <th>88</th>\n",
       "      <td>10773.218858</td>\n",
       "    </tr>\n",
       "    <tr>\n",
       "      <th>89</th>\n",
       "      <td>9676.173078</td>\n",
       "    </tr>\n",
       "    <tr>\n",
       "      <th>90</th>\n",
       "      <td>8541.580762</td>\n",
       "    </tr>\n",
       "    <tr>\n",
       "      <th>91</th>\n",
       "      <td>8660.127517</td>\n",
       "    </tr>\n",
       "    <tr>\n",
       "      <th>92</th>\n",
       "      <td>7912.250284</td>\n",
       "    </tr>\n",
       "    <tr>\n",
       "      <th>93</th>\n",
       "      <td>8406.848595</td>\n",
       "    </tr>\n",
       "    <tr>\n",
       "      <th>94</th>\n",
       "      <td>7955.848087</td>\n",
       "    </tr>\n",
       "    <tr>\n",
       "      <th>95</th>\n",
       "      <td>12020.812618</td>\n",
       "    </tr>\n",
       "    <tr>\n",
       "      <th>96</th>\n",
       "      <td>5057.540309</td>\n",
       "    </tr>\n",
       "    <tr>\n",
       "      <th>97</th>\n",
       "      <td>10153.121139</td>\n",
       "    </tr>\n",
       "    <tr>\n",
       "      <th>98</th>\n",
       "      <td>6883.609166</td>\n",
       "    </tr>\n",
       "    <tr>\n",
       "      <th>99</th>\n",
       "      <td>7841.667276</td>\n",
       "    </tr>\n",
       "  </tbody>\n",
       "</table>\n",
       "<p>100 rows × 1 columns</p>\n",
       "</div>"
      ],
      "text/plain": [
       "                utility\n",
       "market_id              \n",
       "0          11207.672943\n",
       "1          10423.319152\n",
       "2          11213.009648\n",
       "3           8773.785380\n",
       "4          11621.378165\n",
       "5          12372.054361\n",
       "6           8929.625654\n",
       "7           9081.418986\n",
       "8           8578.703000\n",
       "9           9323.438711\n",
       "10          9372.853081\n",
       "11          7273.881342\n",
       "12         10394.406451\n",
       "13         11032.861388\n",
       "14          9536.268944\n",
       "15         10097.411959\n",
       "16          8661.957730\n",
       "17         10448.738172\n",
       "18          7802.493211\n",
       "19         11452.372112\n",
       "20         11302.263545\n",
       "21         10344.861891\n",
       "22         12048.701848\n",
       "23         11779.959639\n",
       "24          8860.229501\n",
       "25         11515.088664\n",
       "26          8714.205178\n",
       "27         11184.328650\n",
       "28          7466.196783\n",
       "29          9487.195601\n",
       "...                 ...\n",
       "70          7629.873366\n",
       "71          8427.234949\n",
       "72          8304.804506\n",
       "73          8485.346593\n",
       "74          8174.114096\n",
       "75          6434.948962\n",
       "76          7414.413823\n",
       "77          8987.610828\n",
       "78          9111.372898\n",
       "79          9500.141574\n",
       "80          9259.256838\n",
       "81          7190.549908\n",
       "82          8671.526443\n",
       "83          7563.294018\n",
       "84          7583.546821\n",
       "85          8904.203409\n",
       "86          6988.588056\n",
       "87          8351.145207\n",
       "88         10773.218858\n",
       "89          9676.173078\n",
       "90          8541.580762\n",
       "91          8660.127517\n",
       "92          7912.250284\n",
       "93          8406.848595\n",
       "94          7955.848087\n",
       "95         12020.812618\n",
       "96          5057.540309\n",
       "97         10153.121139\n",
       "98          6883.609166\n",
       "99          7841.667276\n",
       "\n",
       "[100 rows x 1 columns]"
      ]
     },
     "execution_count": 381,
     "metadata": {},
     "output_type": "execute_result"
    }
   ],
   "source": [
    "product_attribute_observed = ['x1','x2','x3']\n",
    "product_attribute_unobs = 'xi'\n",
    "eps = 'eps_ijm'\n",
    "price = 'price'\n",
    "taste = demand_m10_prod3.true_par['beta']\n",
    "price_sensitivity = 'alpha'\n",
    "\n",
    "demand_m100_prod3.simulate_consumer_choice(product_attribute_observed, product_attribute_unobs, price,\n",
    "                                    taste, price_sensitivity, eps)\n"
   ]
  },
  {
   "cell_type": "code",
   "execution_count": 382,
   "metadata": {},
   "outputs": [
    {
     "data": {
      "text/html": [
       "<div>\n",
       "<style scoped>\n",
       "    .dataframe tbody tr th:only-of-type {\n",
       "        vertical-align: middle;\n",
       "    }\n",
       "\n",
       "    .dataframe tbody tr th {\n",
       "        vertical-align: top;\n",
       "    }\n",
       "\n",
       "    .dataframe thead th {\n",
       "        text-align: right;\n",
       "    }\n",
       "</style>\n",
       "<table border=\"1\" class=\"dataframe\">\n",
       "  <thead>\n",
       "    <tr style=\"text-align: right;\">\n",
       "      <th></th>\n",
       "      <th>total_profit</th>\n",
       "    </tr>\n",
       "    <tr>\n",
       "      <th>product_id</th>\n",
       "      <th></th>\n",
       "    </tr>\n",
       "  </thead>\n",
       "  <tbody>\n",
       "    <tr>\n",
       "      <th>0</th>\n",
       "      <td>11514.869246</td>\n",
       "    </tr>\n",
       "    <tr>\n",
       "      <th>1</th>\n",
       "      <td>44636.538761</td>\n",
       "    </tr>\n",
       "    <tr>\n",
       "      <th>2</th>\n",
       "      <td>36165.045748</td>\n",
       "    </tr>\n",
       "  </tbody>\n",
       "</table>\n",
       "</div>"
      ],
      "text/plain": [
       "            total_profit\n",
       "product_id              \n",
       "0           11514.869246\n",
       "1           44636.538761\n",
       "2           36165.045748"
      ]
     },
     "execution_count": 382,
     "metadata": {},
     "output_type": "execute_result"
    }
   ],
   "source": [
    "cost_attribute_observed = ['w', 'z']\n",
    "cost_input_coeff = demand_m10_prod3.true_par['gamma']\n",
    "error_term = 'eta'\n",
    "\n",
    "demand_m100_prod3.simulate_firm_profit(cost_attribute_observed, cost_input_coeff, error_term)"
   ]
  },
  {
   "cell_type": "markdown",
   "metadata": {},
   "source": [
    "# Plot"
   ]
  },
  {
   "cell_type": "code",
   "execution_count": 391,
   "metadata": {},
   "outputs": [],
   "source": [
    "def hist_and_kerneldensity(variable_series, var_label):\n",
    "    # Figure parameters\n",
    "    area = np.pi*3\n",
    "    #filename = figpath + '/' + figname + '.png'\n",
    "\n",
    "    # Plot\n",
    "    plt.figure()\n",
    "    plt.hist(variable_series, density = True, bins =16 )\n",
    "    variable_series.plot.kde()\n",
    "    \n",
    "    plt.xlabel(var_label)\n",
    "    max_value = max(variable_series)\n",
    "    plt.xlim(0,max_value)\n",
    "    #plt.savefig(filename)\n",
    "    plt.show()"
   ]
  },
  {
   "cell_type": "markdown",
   "metadata": {},
   "source": [
    "price:"
   ]
  },
  {
   "cell_type": "code",
   "execution_count": 392,
   "metadata": {},
   "outputs": [
    {
     "data": {
      "image/png": "[encoded data removed]",
      "text/plain": [
       "<Figure size 432x288 with 1 Axes>"
      ]
     },
     "metadata": {
      "needs_background": "light"
     },
     "output_type": "display_data"
    }
   ],
   "source": [
    "demand_sys = demand_m100_prod3\n",
    "hist_and_kerneldensity(demand_sys.products['price'], var_label = 'distribution of prices (product-market)')"
   ]
  },
  {
   "cell_type": "markdown",
   "metadata": {},
   "source": [
    "utility, welfare, and profit"
   ]
  },
  {
   "cell_type": "code",
   "execution_count": 393,
   "metadata": {},
   "outputs": [
    {
     "name": "stdout",
     "output_type": "stream",
     "text": [
      "------ Welfare ------\n",
      "Welfare distribution for all markets:\n"
     ]
    },
    {
     "data": {
      "image/png": "[encoded data removed]",
      "text/plain": [
       "<Figure size 432x288 with 1 Axes>"
      ]
     },
     "metadata": {
      "needs_background": "light"
     },
     "output_type": "display_data"
    },
    {
     "name": "stdout",
     "output_type": "stream",
     "text": [
      "Welfare distribution in market 7\n"
     ]
    },
    {
     "data": {
      "image/png": "[encoded data removed]",
      "text/plain": [
       "<Figure size 432x288 with 1 Axes>"
      ]
     },
     "metadata": {
      "needs_background": "light"
     },
     "output_type": "display_data"
    },
    {
     "name": "stdout",
     "output_type": "stream",
     "text": [
      "------ Profit ------\n",
      "Profit distribution for all firms across all markets:\n"
     ]
    },
    {
     "data": {
      "image/png": "[encoded data removed]",
      "text/plain": [
       "<Figure size 432x288 with 1 Axes>"
      ]
     },
     "metadata": {
      "needs_background": "light"
     },
     "output_type": "display_data"
    },
    {
     "name": "stdout",
     "output_type": "stream",
     "text": [
      "Profit distribution for firm 2 across all markets:\n"
     ]
    },
    {
     "data": {
      "image/png": "[encoded data removed]",
      "text/plain": [
       "<Figure size 432x288 with 1 Axes>"
      ]
     },
     "metadata": {
      "needs_background": "light"
     },
     "output_type": "display_data"
    }
   ],
   "source": [
    "demand_sys = demand_m100_prod3\n",
    "\n",
    "# one specific market\n",
    "market = 7\n",
    "firm = 2\n",
    "\n",
    "print('------ Welfare ------')\n",
    "print('Welfare distribution for all markets:')\n",
    "hist_and_kerneldensity(demand_sys.consumers['utility'], var_label = 'distribution of consumer utility')\n",
    "\n",
    "\n",
    "print('Welfare distribution in market {}'.format(market))\n",
    "hist_and_kerneldensity(demand_sys.consumers.loc[demand_sys.consumers['market_id']==market, 'utility'],\n",
    "                      var_label = 'distribution of consumer utility')\n",
    "\n",
    "print('------ Profit ------')\n",
    "print('Profit distribution for all firms across all markets:')\n",
    "hist_and_kerneldensity(demand_sys.products['profit_jm'], \n",
    "                       var_label = 'distribution of firm profit (each product-market)')\n",
    "\n",
    "print('Profit distribution for firm {} across all markets:'.format(firm))\n",
    "hist_and_kerneldensity(demand_sys.products.loc[demand_sys.products['product_id'] == firm, 'profit_jm'], \n",
    "                       var_label = 'distribution of firm profit (each firm)')"
   ]
  },
  {
   "cell_type": "code",
   "execution_count": null,
   "metadata": {},
   "outputs": [],
   "source": []
  },
  {
   "cell_type": "markdown",
   "metadata": {},
   "source": [
    "# Estimation: Demand side instrument"
   ]
  },
  {
   "cell_type": "code",
   "execution_count": null,
   "metadata": {},
   "outputs": [],
   "source": []
  },
  {
   "cell_type": "code",
   "execution_count": null,
   "metadata": {},
   "outputs": [],
   "source": []
  },
  {
   "cell_type": "code",
   "execution_count": null,
   "metadata": {},
   "outputs": [],
   "source": []
  },
  {
   "cell_type": "code",
   "execution_count": null,
   "metadata": {},
   "outputs": [],
   "source": []
  },
  {
   "cell_type": "code",
   "execution_count": null,
   "metadata": {},
   "outputs": [],
   "source": []
  },
  {
   "cell_type": "code",
   "execution_count": null,
   "metadata": {},
   "outputs": [],
   "source": []
  },
  {
   "cell_type": "code",
   "execution_count": null,
   "metadata": {},
   "outputs": [],
   "source": []
  },
  {
   "cell_type": "code",
   "execution_count": null,
   "metadata": {},
   "outputs": [],
   "source": []
  },
  {
   "cell_type": "code",
   "execution_count": null,
   "metadata": {},
   "outputs": [],
   "source": []
  },
  {
   "cell_type": "code",
   "execution_count": null,
   "metadata": {},
   "outputs": [],
   "source": []
  },
  {
   "cell_type": "code",
   "execution_count": 72,
   "metadata": {},
   "outputs": [],
   "source": []
  },
  {
   "cell_type": "code",
   "execution_count": null,
   "metadata": {},
   "outputs": [],
   "source": []
  },
  {
   "cell_type": "code",
   "execution_count": 73,
   "metadata": {},
   "outputs": [],
   "source": []
  },
  {
   "cell_type": "code",
   "execution_count": null,
   "metadata": {},
   "outputs": [],
   "source": []
  },
  {
   "cell_type": "code",
   "execution_count": 92,
   "metadata": {},
   "outputs": [],
   "source": []
  },
  {
   "cell_type": "code",
   "execution_count": null,
   "metadata": {},
   "outputs": [],
   "source": []
  },
  {
   "cell_type": "code",
   "execution_count": null,
   "metadata": {},
   "outputs": [],
   "source": []
  },
  {
   "cell_type": "code",
   "execution_count": null,
   "metadata": {},
   "outputs": [],
   "source": []
  },
  {
   "cell_type": "code",
   "execution_count": null,
   "metadata": {},
   "outputs": [],
   "source": []
  },
  {
   "cell_type": "code",
   "execution_count": null,
   "metadata": {},
   "outputs": [],
   "source": []
  },
  {
   "cell_type": "code",
   "execution_count": null,
   "metadata": {},
   "outputs": [],
   "source": []
  },
  {
   "cell_type": "code",
   "execution_count": null,
   "metadata": {},
   "outputs": [],
   "source": []
  },
  {
   "cell_type": "code",
   "execution_count": null,
   "metadata": {
    "scrolled": true
   },
   "outputs": [],
   "source": []
  },
  {
   "cell_type": "code",
   "execution_count": null,
   "metadata": {},
   "outputs": [],
   "source": []
  },
  {
   "cell_type": "code",
   "execution_count": null,
   "metadata": {},
   "outputs": [],
   "source": []
  },
  {
   "cell_type": "code",
   "execution_count": null,
   "metadata": {},
   "outputs": [],
   "source": []
  },
  {
   "cell_type": "code",
   "execution_count": 179,
   "metadata": {},
   "outputs": [],
   "source": [
    "num_of_market = max(len(df_product[consumer_ids['market_id']].unique()),  \n",
    "                            len(df_product[product_ids['market_id']].unique()) )"
   ]
  },
  {
   "cell_type": "code",
   "execution_count": 185,
   "metadata": {},
   "outputs": [],
   "source": [
    "max_num_of_consumer_withinmarket = df_consumer[consumer_ids].groupby(consumer_ids['market_id']).count().max()\n",
    "max_num_of_prod_withinmarket = df_product[product_ids].groupby(product_ids['market_id']).count().max()"
   ]
  },
  {
   "cell_type": "code",
   "execution_count": 187,
   "metadata": {},
   "outputs": [
    {
     "data": {
      "text/plain": [
       "product_id    3\n",
       "dtype: int64"
      ]
     },
     "execution_count": 187,
     "metadata": {},
     "output_type": "execute_result"
    }
   ],
   "source": [
    "max_num_of_prod_withinmarket"
   ]
  },
  {
   "cell_type": "code",
   "execution_count": 170,
   "metadata": {},
   "outputs": [],
   "source": [
    "df_panel = pd.merge(panel_index, df_product, \n",
    "                 how= 'right',\n",
    "                 left_on = [ panel_ids[key] for key in ('market_id','product_id')],\n",
    "                 right_on =  list(product_ids.values()) )"
   ]
  },
  {
   "cell_type": "code",
   "execution_count": 174,
   "metadata": {
    "scrolled": true
   },
   "outputs": [],
   "source": [
    "df_panel.iloc[0:500,]"
   ]
  },
  {
   "cell_type": "code",
   "execution_count": 175,
   "metadata": {},
   "outputs": [],
   "source": [
    "df_panel.sort_index(inplace = True)"
   ]
  },
  {
   "cell_type": "code",
   "execution_count": null,
   "metadata": {},
   "outputs": [],
   "source": []
  },
  {
   "cell_type": "code",
   "execution_count": null,
   "metadata": {},
   "outputs": [],
   "source": [
    "demand_m10_prod3.consumer_product.apply( lambda x: x+y, axis)"
   ]
  },
  {
   "cell_type": "code",
   "execution_count": null,
   "metadata": {},
   "outputs": [],
   "source": [
    "df['']= demand_m10_prod3.consumer_product.head().apply(lambda row : row.x1 + row.x2, axis=1)"
   ]
  },
  {
   "cell_type": "code",
   "execution_count": null,
   "metadata": {},
   "outputs": [],
   "source": []
  },
  {
   "cell_type": "code",
   "execution_count": null,
   "metadata": {},
   "outputs": [],
   "source": []
  },
  {
   "cell_type": "markdown",
   "metadata": {},
   "source": []
  },
  {
   "cell_type": "code",
   "execution_count": null,
   "metadata": {},
   "outputs": [],
   "source": [
    "# Outline\n",
    "# 1. simulate choice\n",
    "# 2. compare with the given market share variable\n",
    "# 3. save observables and final choice as a sample dataset. Make this a class\n",
    "# 4. calculate welfare"
   ]
  },
  {
   "cell_type": "code",
   "execution_count": null,
   "metadata": {},
   "outputs": [],
   "source": [
    "\n"
   ]
  },
  {
   "cell_type": "code",
   "execution_count": null,
   "metadata": {},
   "outputs": [],
   "source": [
    "\n"
   ]
  },
  {
   "cell_type": "code",
   "execution_count": null,
   "metadata": {},
   "outputs": [],
   "source": [
    "\n",
    "\n"
   ]
  },
  {
   "cell_type": "markdown",
   "metadata": {},
   "source": []
  },
  {
   "cell_type": "code",
   "execution_count": null,
   "metadata": {},
   "outputs": [],
   "source": [
    "#1. answer questions"
   ]
  },
  {
   "cell_type": "code",
   "execution_count": null,
   "metadata": {},
   "outputs": [],
   "source": [
    "#2. estimate delta and xi, compare with real data"
   ]
  },
  {
   "cell_type": "code",
   "execution_count": null,
   "metadata": {},
   "outputs": [],
   "source": []
  },
  {
   "cell_type": "code",
   "execution_count": null,
   "metadata": {},
   "outputs": [],
   "source": []
  },
  {
   "cell_type": "code",
   "execution_count": null,
   "metadata": {},
   "outputs": [],
   "source": []
  },
  {
   "cell_type": "code",
   "execution_count": null,
   "metadata": {},
   "outputs": [],
   "source": []
  },
  {
   "cell_type": "code",
   "execution_count": null,
   "metadata": {},
   "outputs": [],
   "source": []
  },
  {
   "cell_type": "code",
   "execution_count": null,
   "metadata": {},
   "outputs": [],
   "source": []
  },
  {
   "cell_type": "code",
   "execution_count": null,
   "metadata": {},
   "outputs": [],
   "source": []
  }
 ],
 "metadata": {
  "kernelspec": {
   "display_name": "Python 3",
   "language": "python",
   "name": "python3"
  },
  "language_info": {
   "codemirror_mode": {
    "name": "ipython",
    "version": 3
   },
   "file_extension": ".py",
   "mimetype": "text/x-python",
   "name": "python",
   "nbconvert_exporter": "python",
   "pygments_lexer": "ipython3",
   "version": "3.7.3"
  }
 },
 "nbformat": 4,
 "nbformat_minor": 2
}
