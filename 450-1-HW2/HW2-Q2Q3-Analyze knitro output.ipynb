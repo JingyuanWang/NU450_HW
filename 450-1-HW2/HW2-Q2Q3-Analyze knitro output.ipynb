{
 "cells": [
  {
   "cell_type": "code",
   "execution_count": 592,
   "metadata": {},
   "outputs": [
    {
     "data": {
      "text/plain": [
       "<module 'myfunctions' from '/Users/jingyuanwang/GitHub/NU450_HW/myfunctions.py'>"
      ]
     },
     "execution_count": 592,
     "metadata": {},
     "output_type": "execute_result"
    }
   ],
   "source": [
    "import numpy as np\n",
    "import pandas as pd\n",
    "import os,sys,inspect\n",
    "import scipy.stats as stats\n",
    "import scipy.optimize as opt\n",
    "import scipy.integrate as integrate\n",
    "from scipy.io import loadmat\n",
    "import econtools \n",
    "import econtools.metrics as mt\n",
    "import statsmodels.discrete.discrete_model as sm\n",
    "import matplotlib.pyplot as plt\n",
    "import itertools as it\n",
    "import copy\n",
    "\n",
    "# mine\n",
    "# (1)\n",
    "from demand_discrete_choice import initialize\n",
    "from demand_discrete_choice import estimation \n",
    "\n",
    "# (2)\n",
    "currentdir = os.path.dirname(os.path.abspath(inspect.getfile(inspect.currentframe())))\n",
    "parentdir = os.path.dirname(currentdir)\n",
    "sys.path.insert(0,parentdir) \n",
    "import myfunctions as mf\n",
    "\n",
    "import importlib\n",
    "importlib.reload(initialize)\n",
    "importlib.reload(estimation)\n",
    "importlib.reload(mf)"
   ]
  },
  {
   "cell_type": "code",
   "execution_count": 593,
   "metadata": {},
   "outputs": [],
   "source": [
    "#help(estimation)"
   ]
  },
  {
   "cell_type": "code",
   "execution_count": 594,
   "metadata": {},
   "outputs": [],
   "source": [
    "# ------------------------------------------------------------------------\n",
    "# NOTE\n",
    "# ------------------------------------------------------------------------\n",
    "# Purpose: HW2 Q2\n",
    "# \n",
    "# test functions in the BLP_MPEC module\n",
    "# ------------------------------------------------------------------------"
   ]
  },
  {
   "cell_type": "markdown",
   "metadata": {},
   "source": [
    "# Initialize file path"
   ]
  },
  {
   "cell_type": "code",
   "execution_count": 595,
   "metadata": {},
   "outputs": [],
   "source": [
    "rootpath = '/Users/jingyuanwang/Dropbox/Course/ECON/IO/NU450/NU450_HW/450-1-HW2'\n",
    "datapath = rootpath + '/' + 'data'\n",
    "resultpath = rootpath + '/' + 'results'"
   ]
  },
  {
   "cell_type": "markdown",
   "metadata": {},
   "source": [
    "# Parameters\n",
    "Everything should be input in the following cell. \n",
    "All other cells are just operation and calculation."
   ]
  },
  {
   "cell_type": "code",
   "execution_count": 596,
   "metadata": {},
   "outputs": [],
   "source": [
    "# model parameters (true value)\n",
    "true_parameters = {'beta': np.array([5,1,1]),\n",
    "                   'alpha_0': 1,\n",
    "                   'alpha_sigma':1,\n",
    "                   'gamma': np.array([2,1,1])}\n",
    "\n",
    "# import file names\n",
    "matfiles = ['10markets3products', '100markets3products','100markets5products']\n",
    "names = ['m10_prod3', 'm100_prod3', 'm100_prod5']"
   ]
  },
  {
   "cell_type": "markdown",
   "metadata": {},
   "source": [
    "# Import Data"
   ]
  },
  {
   "cell_type": "code",
   "execution_count": 597,
   "metadata": {},
   "outputs": [],
   "source": [
    "# 1 import\n",
    "inputfiles = dict(zip(names, matfiles))\n",
    "data = {}\n",
    "for name, filename in inputfiles.items():\n",
    "    file = datapath + '/Simulation Data/'+ filename\n",
    "    data[name] = loadmat(file)"
   ]
  },
  {
   "cell_type": "code",
   "execution_count": 598,
   "metadata": {},
   "outputs": [],
   "source": [
    "# 2. clean and save to a class\n",
    "def save_input_to_DiscreteChoiceClass(num_of_market, num_of_prod, include_outside_option, true_parameters):\n",
    "    \n",
    "    sample = 'm{}_prod{}'.format(num_of_market,num_of_prod)\n",
    "    df_product = (pd.DataFrame(np.concatenate( \n",
    "                              (data[sample]['x1'],\n",
    "                               data[sample]['xi_all'],\n",
    "                               data[sample]['w'], \n",
    "                               data[sample]['Z'],\n",
    "                               data[sample]['eta']), axis = 1 ))\n",
    "                  .rename(columns = {0:'x1',1:'x2',2:'x3',3:'xi', 4:'w', 5:'z',6:'eta'}) )\n",
    "    df_product['price'] = np.reshape(data[sample]['P_opt'].T, (num_of_market*num_of_prod,1))\n",
    "    df_product['shares'] = np.reshape(data[sample]['shares'].T, (num_of_market*num_of_prod,1))\n",
    "\n",
    "    df_product['product_id'] = (np.repeat(np.arange(num_of_prod)[:,np.newaxis],num_of_market, axis = 1)\n",
    "                                .reshape((num_of_prod*num_of_market,1), order = 'F') )\n",
    "\n",
    "    df_product['market_id'] = np.repeat(np.arange(num_of_market)[:, np.newaxis], num_of_prod, axis=0)\n",
    "    product_ids = {'market_id':'market_id',\n",
    "                   'product_id':'product_id'}\n",
    "\n",
    "    # consumer\n",
    "    df_consumer = pd.DataFrame(data[sample]['alphas'].T, columns=[idx for idx in range(num_of_market) ])\n",
    "    df_consumer = df_consumer.stack().reset_index().rename(columns = {'level_0':'consumer_id', \n",
    "                                                                      'level_1':'market_id',\n",
    "                                                                      0:'alpha'})\n",
    "\n",
    "\n",
    "    consumer_ids = {'market_id':'market_id',\n",
    "                   'consumer_id':'consumer_id'}\n",
    "    \n",
    "    output = initialize.DiscreteChoice(df_consumer, consumer_ids, \n",
    "                                     df_product, product_ids, include_outside_option = include_outside_option,\n",
    "                                     true_parameters=true_parameters)\n",
    "    return output"
   ]
  },
  {
   "cell_type": "code",
   "execution_count": 599,
   "metadata": {},
   "outputs": [],
   "source": [
    "demand_m10_prod3 = save_input_to_DiscreteChoiceClass(num_of_market=10, \n",
    "                                                     num_of_prod=3, \n",
    "                                                     include_outside_option = False,\n",
    "                                                     true_parameters = true_parameters)"
   ]
  },
  {
   "cell_type": "code",
   "execution_count": 600,
   "metadata": {},
   "outputs": [],
   "source": [
    "demand_m100_prod3 = save_input_to_DiscreteChoiceClass(num_of_market=100, \n",
    "                                                     num_of_prod=3, \n",
    "                                                     include_outside_option = False,\n",
    "                                                     true_parameters = true_parameters)"
   ]
  },
  {
   "cell_type": "code",
   "execution_count": 601,
   "metadata": {},
   "outputs": [],
   "source": [
    "demand_m100_prod5 = save_input_to_DiscreteChoiceClass(num_of_market=100, \n",
    "                                                     num_of_prod=5, \n",
    "                                                     include_outside_option = False,\n",
    "                                                     true_parameters = true_parameters)"
   ]
  },
  {
   "cell_type": "markdown",
   "metadata": {},
   "source": [
    "# Q2. Estimation: Demand side instrument"
   ]
  },
  {
   "cell_type": "markdown",
   "metadata": {},
   "source": [
    "## 1. get sample data"
   ]
  },
  {
   "cell_type": "code",
   "execution_count": 602,
   "metadata": {},
   "outputs": [],
   "source": [
    "true_parameters = {'beta': np.array([5,1,1]),\n",
    "                   'alpha_0': 1,\n",
    "                   'alpha_sigma':1,\n",
    "                   'gamma': np.array([2,1,1])}"
   ]
  },
  {
   "cell_type": "code",
   "execution_count": 603,
   "metadata": {},
   "outputs": [],
   "source": [
    "sample = estimation.BLP_MPEC(demand_m100_prod3, true_parameters, update=True)\n",
    "sample.construct_exogenous_var()"
   ]
  },
  {
   "cell_type": "code",
   "execution_count": null,
   "metadata": {},
   "outputs": [],
   "source": []
  },
  {
   "cell_type": "markdown",
   "metadata": {},
   "source": [
    "## 2. import knitro output"
   ]
  },
  {
   "cell_type": "code",
   "execution_count": 604,
   "metadata": {},
   "outputs": [],
   "source": [
    "# load config\n",
    "def import_knitro_output(specification):\n",
    "    # read configs that defines the subsample\n",
    "\n",
    "    results = pd.read_csv('knitro_output/result_from_knitro_opt_{}.csv'.format(specification), header=0,index_col = 0)\n",
    "    delta_hat = results['delta_sigma_eta'].values[:300]\n",
    "    sigma_hat = results['delta_sigma_eta'].values[300]\n",
    "    eta_hat = results['delta_sigma_eta'].values[301:]\n",
    "    \n",
    "    beta_hat = results['betas'].values[:3]\n",
    "    alpha_hat = results['betas'].values[3]\n",
    "    \n",
    "    specification = results['specification'].iloc[0]\n",
    "    IV_varnames = results['IV_varnames'].dropna().tolist()\n",
    "    \n",
    "    np.set_printoptions(precision=3, suppress = True)\n",
    "    print('--parameters: betas, alpha, sigma')\n",
    "    print(beta_hat)\n",
    "    print('{0:.3f}'.format(alpha_hat))\n",
    "    print('{0:.3f}'.format(sigma_hat))\n",
    "    \n",
    "    return (delta_hat, sigma_hat, eta_hat, beta_hat, alpha_hat, specification, IV_varnames, results)"
   ]
  },
  {
   "cell_type": "code",
   "execution_count": 605,
   "metadata": {},
   "outputs": [
    {
     "name": "stdout",
     "output_type": "stream",
     "text": [
      "--parameters: betas, alpha, sigma\n",
      "[5.038 0.976 1.041]\n",
      "-0.976\n",
      "1.016\n"
     ]
    }
   ],
   "source": [
    "specification = 'iv_BLP_hausman_w'\n",
    "#specification = 'iv_hausman'\n",
    "\n",
    "(delta_hat, sigma_hat, eta_hat, \n",
    " beta_hat, alpha_hat, specification, IV_varnames, results) = import_knitro_output(specification)"
   ]
  },
  {
   "cell_type": "code",
   "execution_count": 606,
   "metadata": {},
   "outputs": [
    {
     "data": {
      "text/plain": [
       "['x2_other1', 'x2_other2', 'x3_other1', 'x3_other2', 'price_others', 'w']"
      ]
     },
     "execution_count": 606,
     "metadata": {},
     "output_type": "execute_result"
    }
   ],
   "source": [
    "IV_varnames"
   ]
  },
  {
   "cell_type": "markdown",
   "metadata": {},
   "source": [
    "## 3. get elasticity"
   ]
  },
  {
   "cell_type": "code",
   "execution_count": 607,
   "metadata": {},
   "outputs": [],
   "source": [
    "# get sample\n",
    "independent_var = ['x1', 'x2', 'x3', 'price']\n",
    "exogenous_var = ['x1', 'x2', 'x3'] + IV_varnames\n",
    "\n",
    "sample.MPEC_claim_var(independent_var,exogenous_var, supply_side = True)"
   ]
  },
  {
   "cell_type": "code",
   "execution_count": 608,
   "metadata": {},
   "outputs": [],
   "source": [
    "derivative = sample.derivative_demand_to_price(delta_hat,sigma_hat,alpha_hat)"
   ]
  },
  {
   "cell_type": "code",
   "execution_count": 609,
   "metadata": {},
   "outputs": [],
   "source": [
    "# elasticity\n",
    "df = sample.products\n",
    "df['elas_p'] = -(df['shares'] / df['price'] )/ alpha_hat"
   ]
  },
  {
   "cell_type": "code",
   "execution_count": 610,
   "metadata": {},
   "outputs": [
    {
     "data": {
      "image/png": "[encoded data removed]",
      "text/plain": [
       "<Figure size 432x288 with 1 Axes>"
      ]
     },
     "metadata": {
      "needs_background": "light"
     },
     "output_type": "display_data"
    }
   ],
   "source": [
    "mf.hist_and_kdensity_bygroup(df, 'elas_p', 'price elasticities', 'product_id', 'product id',\n",
    "                            save = True, figpath= resultpath + '/Q3' , \n",
    "                             figname = 'dist_elas_p_DemandSideEst_w_m{}_prod{}'.format(100,3))"
   ]
  },
  {
   "cell_type": "markdown",
   "metadata": {},
   "source": [
    "## 4. Back out marginal cost and supply side parameter estimation"
   ]
  },
  {
   "cell_type": "code",
   "execution_count": 611,
   "metadata": {},
   "outputs": [],
   "source": [
    "#delta_true = sample.MPEC_par_true_delta\n",
    "#could check delta_true\n",
    "mc = sample.get_marginal_cost(delta_hat,sigma_hat,alpha_hat)\n",
    "mc_comp = sample.get_marginal_cost(delta_hat,sigma_hat,alpha_hat,market_structure='competition')\n",
    "mc_coll = sample.get_marginal_cost(delta_hat,sigma_hat,alpha_hat,market_structure='collusion')"
   ]
  },
  {
   "cell_type": "code",
   "execution_count": 613,
   "metadata": {},
   "outputs": [],
   "source": [
    "# compare with true mc\n",
    "df = sample.products.copy()\n",
    "df['mc_hat'] = mc\n",
    "df['mc_hat_comp'] = mc_comp\n",
    "df['mc_hat_coll'] = mc_coll\n",
    "df['mc_true'] = 2 + df['w'] + df['z'] + df['eta']\n",
    "mc_true = df['mc_true'].values[:, np.newaxis]"
   ]
  },
  {
   "cell_type": "code",
   "execution_count": 614,
   "metadata": {},
   "outputs": [
    {
     "data": {
      "text/plain": [
       "array([[ 5.038],\n",
       "       [ 0.976],\n",
       "       [ 1.041],\n",
       "       [-0.976]])"
      ]
     },
     "execution_count": 614,
     "metadata": {},
     "output_type": "execute_result"
    }
   ],
   "source": [
    "sample.get_alpha_beta(delta_hat[:,np.newaxis])"
   ]
  },
  {
   "cell_type": "code",
   "execution_count": 625,
   "metadata": {},
   "outputs": [
    {
     "data": {
      "text/plain": [
       "array([[2.921],\n",
       "       [0.749]])"
      ]
     },
     "execution_count": 625,
     "metadata": {},
     "output_type": "execute_result"
    }
   ],
   "source": [
    "# Get Gammas using a separated estimation\n",
    "sample.get_gamma(mc_comp, worried_about_endogeneity=False)"
   ]
  },
  {
   "cell_type": "code",
   "execution_count": 616,
   "metadata": {},
   "outputs": [
    {
     "name": "stdout",
     "output_type": "stream",
     "text": [
      "#=======================================================\n",
      "Endogenous var: z \n",
      "            IV: ['x1', 'x2', 'x3'] \n",
      " \n",
      "Ftest = (1.0457474586198903, 0.3726045228914381)\n",
      " \n",
      "regression:\n",
      "=======================================================\n",
      "Dependent variable:\tz\n",
      "N:\t\t\t300\n",
      "R-squared:\t\t0.0099\n",
      "Estimation method:\tOLS\n",
      "VCE method:\t\tStandard (Homosk.)\n",
      "=======================================================\n",
      "    coeff    se      t   p>t CI_low CI_high\n",
      "w  -0.025 0.071 -0.354 0.723 -0.165   0.115\n",
      "x1 -0.054 0.120 -0.452 0.651 -0.290   0.182\n",
      "x2  0.040 0.203  0.195 0.846 -0.360   0.439\n",
      "x3 -0.098 0.060 -1.630 0.104 -0.217   0.020\n",
      "=======================================================\n",
      "\n",
      " \n"
     ]
    }
   ],
   "source": [
    "# The first stage of instrumenting Z using X\n",
    "sample.first_stage(exogenous_varname = ['w'], \n",
    "                     endogenous_varname = ['z'], \n",
    "                     IV_varname =  ['x1', 'x2', 'x3'] )"
   ]
  },
  {
   "cell_type": "code",
   "execution_count": 620,
   "metadata": {},
   "outputs": [
    {
     "data": {
      "image/png": "[encoded data removed]",
      "text/plain": [
       "<Figure size 432x288 with 1 Axes>"
      ]
     },
     "metadata": {
      "needs_background": "light"
     },
     "output_type": "display_data"
    }
   ],
   "source": [
    "plot_fit(df['mc_true'], df['mc_hat_coll'], ylabel = 'true marginal cost', xlabel = 'estimated marginal cost')"
   ]
  },
  {
   "cell_type": "markdown",
   "metadata": {},
   "source": [
    "# Draft & Appendix"
   ]
  },
  {
   "cell_type": "code",
   "execution_count": 369,
   "metadata": {},
   "outputs": [],
   "source": [
    "def plot_fit(yvar, xvar, ylabel = None, xlabel = None):\n",
    "\n",
    "        # Figure parameters\n",
    "        area = np.pi*3\n",
    "        # Plot\n",
    "        plt.figure()\n",
    "        plt.scatter(xvar, yvar, s=area, alpha=0.5)\n",
    "        plt.title('Scatter plot')\n",
    "        if xlabel != None:\n",
    "            plt.xlabel(xlabel)\n",
    "        if ylabel != None:\n",
    "            plt.ylabel(ylabel)\n",
    "        plt.show()"
   ]
  },
  {
   "cell_type": "code",
   "execution_count": null,
   "metadata": {},
   "outputs": [],
   "source": []
  }
 ],
 "metadata": {
  "kernelspec": {
   "display_name": "Python 3",
   "language": "python",
   "name": "python3"
  },
  "language_info": {
   "codemirror_mode": {
    "name": "ipython",
    "version": 3
   },
   "file_extension": ".py",
   "mimetype": "text/x-python",
   "name": "python",
   "nbconvert_exporter": "python",
   "pygments_lexer": "ipython3",
   "version": "3.7.3"
  }
 },
 "nbformat": 4,
 "nbformat_minor": 2
}
