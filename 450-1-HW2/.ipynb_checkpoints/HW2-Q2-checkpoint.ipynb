{
 "cells": [
  {
   "cell_type": "code",
   "execution_count": 356,
   "metadata": {},
   "outputs": [
    {
     "data": {
      "text/plain": [
       "<module 'myfunctions' from '/Users/jingyuanwang/GitHub/NU450_HW/myfunctions.py'>"
      ]
     },
     "execution_count": 356,
     "metadata": {},
     "output_type": "execute_result"
    }
   ],
   "source": [
    "import numpy as np\n",
    "import pandas as pd\n",
    "import os,sys,inspect\n",
    "import scipy.stats as stats\n",
    "import scipy.optimize as opt\n",
    "import scipy.integrate as integrate\n",
    "from scipy.io import loadmat\n",
    "import econtools \n",
    "import econtools.metrics as mt\n",
    "import statsmodels.discrete.discrete_model as sm\n",
    "import matplotlib.pyplot as plt\n",
    "import itertools as it\n",
    "import copy\n",
    "\n",
    "# mine\n",
    "# (1)\n",
    "import demand_discrete_choice.DiscreteChoice as dc\n",
    "\n",
    "# (2)\n",
    "currentdir = os.path.dirname(os.path.abspath(inspect.getfile(inspect.currentframe())))\n",
    "parentdir = os.path.dirname(currentdir)\n",
    "sys.path.insert(0,parentdir) \n",
    "import myfunctions as mf\n",
    "\n",
    "import importlib\n",
    "importlib.reload(dc)\n",
    "importlib.reload(mf)"
   ]
  },
  {
   "cell_type": "code",
   "execution_count": 357,
   "metadata": {},
   "outputs": [],
   "source": [
    "#help(dc)"
   ]
  },
  {
   "cell_type": "code",
   "execution_count": 358,
   "metadata": {},
   "outputs": [],
   "source": [
    "# ------------------------------------------------------------------------\n",
    "# NOTE\n",
    "# ------------------------------------------------------------------------\n",
    "# Purpose: HW2 \n",
    "# \n",
    "# Import data and stats\n",
    "# \n",
    "#\n",
    "# ------------------------------------------------------------------------"
   ]
  },
  {
   "cell_type": "markdown",
   "metadata": {},
   "source": [
    "# Initialize file path"
   ]
  },
  {
   "cell_type": "code",
   "execution_count": 359,
   "metadata": {},
   "outputs": [],
   "source": [
    "rootpath = '/Users/jingyuanwang/Dropbox/Course/ECON/IO/NU450/NU450_HW/450-1-HW2'\n",
    "datapath = rootpath + '/' + 'data'\n",
    "resultpath = rootpath + '/' + 'results'"
   ]
  },
  {
   "cell_type": "markdown",
   "metadata": {},
   "source": [
    "# Parameters\n",
    "Everything should be input in the following cell. \n",
    "All other cells are just operation and calculation."
   ]
  },
  {
   "cell_type": "code",
   "execution_count": 360,
   "metadata": {},
   "outputs": [],
   "source": [
    "# model parameters (true value)\n",
    "true_parameters = {'beta': np.array([5,1,1]),\n",
    "                   'alpha_0': 1,\n",
    "                   'alpha_sigma':1,\n",
    "                   'gamma': np.array([2,1,1])}\n",
    "\n",
    "# import file names\n",
    "matfiles = ['10markets3products', '100markets3products','100markets5products']\n",
    "names = ['m10_prod3', 'm100_prod3', 'm100_prod5']"
   ]
  },
  {
   "cell_type": "markdown",
   "metadata": {},
   "source": [
    "# Import Data"
   ]
  },
  {
   "cell_type": "code",
   "execution_count": 361,
   "metadata": {},
   "outputs": [],
   "source": [
    "# 1 import\n",
    "inputfiles = dict(zip(names, matfiles))\n",
    "data = {}\n",
    "for name, filename in inputfiles.items():\n",
    "    file = datapath + '/Simulation Data/'+ filename\n",
    "    data[name] = loadmat(file)\n"
   ]
  },
  {
   "cell_type": "code",
   "execution_count": 362,
   "metadata": {},
   "outputs": [],
   "source": [
    "# 2. clean and save to a class\n",
    "def save_input_to_DiscreteChoiceClass(num_of_market, num_of_prod, true_parameters):\n",
    "    \n",
    "    sample = 'm{}_prod{}'.format(num_of_market,num_of_prod)\n",
    "    df_product = (pd.DataFrame(np.concatenate( \n",
    "                              (data[sample]['x1'],\n",
    "                               data[sample]['xi_all'],\n",
    "                               data[sample]['w'], \n",
    "                               data[sample]['Z'],\n",
    "                               data[sample]['eta']), axis = 1 ))\n",
    "                  .rename(columns = {0:'x1',1:'x2',2:'x3',3:'xi', 4:'w', 5:'z',6:'eta'}) )\n",
    "    df_product['price'] = np.reshape(data[sample]['P_opt'].T, (num_of_market*num_of_prod,1))\n",
    "    df_product['shares'] = np.reshape(data[sample]['shares'].T, (num_of_market*num_of_prod,1))\n",
    "\n",
    "    df_product['product_id'] = (np.repeat(np.arange(num_of_prod)[:,np.newaxis],num_of_market, axis = 1)\n",
    "                                .reshape((num_of_prod*num_of_market,1), order = 'F') )\n",
    "\n",
    "    df_product['market_id'] = np.repeat(np.arange(num_of_market)[:, np.newaxis], num_of_prod, axis=0)\n",
    "    product_ids = {'market_id':'market_id',\n",
    "                   'product_id':'product_id'}\n",
    "\n",
    "    # consumer\n",
    "    df_consumer = pd.DataFrame(data[sample]['alphas'].T, columns=[idx for idx in range(num_of_market) ])\n",
    "    df_consumer = df_consumer.stack().reset_index().rename(columns = {'level_0':'consumer_id', \n",
    "                                                                      'level_1':'market_id',\n",
    "                                                                      0:'alpha'})\n",
    "\n",
    "\n",
    "    consumer_ids = {'market_id':'market_id',\n",
    "                   'consumer_id':'consumer_id'}\n",
    "    \n",
    "    output = dc.DiscreteChoice(df_consumer, consumer_ids, \n",
    "                                     df_product, product_ids, include_outside_option = True,\n",
    "                                     true_parameters=true_parameters)\n",
    "    return output"
   ]
  },
  {
   "cell_type": "code",
   "execution_count": 363,
   "metadata": {},
   "outputs": [],
   "source": [
    "demand_m10_prod3 = save_input_to_DiscreteChoiceClass(num_of_market=10, \n",
    "                                                     num_of_prod=3, \n",
    "                                                     true_parameters = true_parameters)"
   ]
  },
  {
   "cell_type": "code",
   "execution_count": 364,
   "metadata": {},
   "outputs": [],
   "source": [
    "demand_m100_prod3 = save_input_to_DiscreteChoiceClass(num_of_market=100, \n",
    "                                                     num_of_prod=3, \n",
    "                                                     true_parameters = true_parameters)"
   ]
  },
  {
   "cell_type": "code",
   "execution_count": 365,
   "metadata": {},
   "outputs": [],
   "source": [
    "demand_m100_prod5 = save_input_to_DiscreteChoiceClass(num_of_market=100, \n",
    "                                                     num_of_prod=5, \n",
    "                                                     true_parameters = true_parameters)"
   ]
  },
  {
   "cell_type": "markdown",
   "metadata": {},
   "source": [
    "## 1. check E[xi|X] and E[xi|p]"
   ]
  },
  {
   "cell_type": "code",
   "execution_count": 333,
   "metadata": {},
   "outputs": [],
   "source": [
    "demand_sys.products.head()\n",
    "df = demand_sys.products[demand_sys.products['product_id']!=0]"
   ]
  },
  {
   "cell_type": "code",
   "execution_count": 334,
   "metadata": {},
   "outputs": [],
   "source": [
    "# generate p_bar\n",
    "p_sum = demand_sys.products.groupby('product_id').agg({'price': np.sum }).rename(columns = {'price': 'price_others'} )\n",
    "demand_sys.products = pd.merge(demand_sys.products, \n",
    "                               p_sum, \n",
    "                               left_on = 'product_id', right_on = 'product_id' )"
   ]
  },
  {
   "cell_type": "code",
   "execution_count": 335,
   "metadata": {},
   "outputs": [],
   "source": [
    "demand_sys.products['price_others'] = (demand_sys.products['price_others'] - demand_sys.products['price']) / (num_m-1)"
   ]
  },
  {
   "cell_type": "code",
   "execution_count": 336,
   "metadata": {},
   "outputs": [],
   "source": [
    "xi = demand_sys.products['xi']\n",
    "x  = demand_sys.products[['x1', 'x2', 'x3']]\n",
    "p  = demand_sys.products['price']\n",
    "p_ave = demand_sys.products['price_others']"
   ]
  },
  {
   "cell_type": "code",
   "execution_count": 337,
   "metadata": {},
   "outputs": [
    {
     "name": "stdout",
     "output_type": "stream",
     "text": [
      "E[xi * p] = 88.48744114469187\n",
      "E[xi * x] = [13.03831111  6.22257672 10.65945097]\n",
      "E[xi * p_{-m}] = 43.10386430240406\n"
     ]
    }
   ],
   "source": [
    "print('E[xi * p] = {}'.format(xi@p) )\n",
    "print('E[xi * x] = {}'.format((xi.values[np.newaxis,:]@x.values)[0,:]) )\n",
    "print('E[xi * p_{{-m}}] = {}'.format(xi@p_ave) )"
   ]
  },
  {
   "cell_type": "code",
   "execution_count": 338,
   "metadata": {},
   "outputs": [
    {
     "data": {
      "text/plain": [
       "array([[1.        , 0.02748195],\n",
       "       [0.02748195, 1.        ]])"
      ]
     },
     "execution_count": 338,
     "metadata": {},
     "output_type": "execute_result"
    }
   ],
   "source": [
    "np.corrcoef(demand_sys.products[['price_others', 'xi']].values.T )"
   ]
  },
  {
   "cell_type": "code",
   "execution_count": 339,
   "metadata": {},
   "outputs": [
    {
     "data": {
      "text/plain": [
       "array([[1.        , 0.11913961],\n",
       "       [0.11913961, 1.        ]])"
      ]
     },
     "execution_count": 339,
     "metadata": {},
     "output_type": "execute_result"
    }
   ],
   "source": [
    "np.corrcoef(df[['price', 'xi']].values.T )"
   ]
  },
  {
   "cell_type": "code",
   "execution_count": 340,
   "metadata": {},
   "outputs": [
    {
     "name": "stderr",
     "output_type": "stream",
     "text": [
      "/Users/jingyuanwang/anaconda3/lib/python3.7/site-packages/numpy/lib/function_base.py:2530: RuntimeWarning: invalid value encountered in true_divide\n",
      "  c /= stddev[:, None]\n",
      "/Users/jingyuanwang/anaconda3/lib/python3.7/site-packages/numpy/lib/function_base.py:2531: RuntimeWarning: invalid value encountered in true_divide\n",
      "  c /= stddev[None, :]\n"
     ]
    },
    {
     "data": {
      "text/plain": [
       "array([[        nan,         nan,         nan,         nan],\n",
       "       [        nan,  1.        , -0.03054624, -0.00672525],\n",
       "       [        nan, -0.03054624,  1.        ,  0.03492287],\n",
       "       [        nan, -0.00672525,  0.03492287,  1.        ]])"
      ]
     },
     "execution_count": 340,
     "metadata": {},
     "output_type": "execute_result"
    }
   ],
   "source": [
    "np.corrcoef(df[['x1','x2','x3', 'xi']].values.T )"
   ]
  },
  {
   "cell_type": "markdown",
   "metadata": {},
   "source": [
    "## 2. Estimate BLP "
   ]
  },
  {
   "cell_type": "code",
   "execution_count": 366,
   "metadata": {},
   "outputs": [],
   "source": [
    "demand_sys = copy.deepcopy(demand_m10_prod3) \n",
    "num_m = 10\n",
    "num_prod = 3"
   ]
  },
  {
   "cell_type": "markdown",
   "metadata": {},
   "source": [
    "(1) Save some true parameters for comparison"
   ]
  },
  {
   "cell_type": "code",
   "execution_count": 367,
   "metadata": {},
   "outputs": [
    {
     "data": {
      "text/plain": [
       "{'beta': array([5, 1, 1]),\n",
       " 'alpha_0': 1,\n",
       " 'alpha_sigma': 1,\n",
       " 'gamma': array([2, 1, 1])}"
      ]
     },
     "execution_count": 367,
     "metadata": {},
     "output_type": "execute_result"
    }
   ],
   "source": [
    "true_parameters"
   ]
  },
  {
   "cell_type": "code",
   "execution_count": 368,
   "metadata": {},
   "outputs": [],
   "source": [
    "product_attribute_observed = ['x1','x2','x3']\n",
    "product_attribute_unobs = 'xi'\n",
    "eps = 'eps_ijm'\n",
    "price = 'price'\n",
    "taste = demand_sys.true_par['beta']\n",
    "price_sensitivity = 'alpha'"
   ]
  },
  {
   "cell_type": "code",
   "execution_count": 369,
   "metadata": {},
   "outputs": [],
   "source": [
    "df = demand_sys.products\n",
    "delta_true = (demand_sys.products['xi'] \n",
    "              + demand_sys.products[product_attribute_observed].values@true_parameters['beta']\n",
    "              - demand_sys.products[price]*true_parameters['alpha_0'])\n",
    "share_true = demand_sys.products['shares']\n",
    "df['delta_true'] = delta_true"
   ]
  },
  {
   "cell_type": "code",
   "execution_count": 370,
   "metadata": {},
   "outputs": [
    {
     "data": {
      "text/html": [
       "<div>\n",
       "<style scoped>\n",
       "    .dataframe tbody tr th:only-of-type {\n",
       "        vertical-align: middle;\n",
       "    }\n",
       "\n",
       "    .dataframe tbody tr th {\n",
       "        vertical-align: top;\n",
       "    }\n",
       "\n",
       "    .dataframe thead th {\n",
       "        text-align: right;\n",
       "    }\n",
       "</style>\n",
       "<table border=\"1\" class=\"dataframe\">\n",
       "  <thead>\n",
       "    <tr style=\"text-align: right;\">\n",
       "      <th></th>\n",
       "      <th>x1</th>\n",
       "      <th>x2</th>\n",
       "      <th>x3</th>\n",
       "      <th>xi</th>\n",
       "      <th>w</th>\n",
       "      <th>z</th>\n",
       "      <th>eta</th>\n",
       "      <th>price</th>\n",
       "      <th>shares</th>\n",
       "      <th>product_id</th>\n",
       "      <th>market_id</th>\n",
       "      <th>delta_true</th>\n",
       "    </tr>\n",
       "  </thead>\n",
       "  <tbody>\n",
       "    <tr>\n",
       "      <th>0</th>\n",
       "      <td>0.0</td>\n",
       "      <td>0.000000</td>\n",
       "      <td>0.000000</td>\n",
       "      <td>0.000000</td>\n",
       "      <td>0.000000</td>\n",
       "      <td>0.000000</td>\n",
       "      <td>0.000000</td>\n",
       "      <td>0.000000</td>\n",
       "      <td>0.101711</td>\n",
       "      <td>0</td>\n",
       "      <td>0</td>\n",
       "      <td>0.000000</td>\n",
       "    </tr>\n",
       "    <tr>\n",
       "      <th>1</th>\n",
       "      <td>1.0</td>\n",
       "      <td>0.624347</td>\n",
       "      <td>0.462097</td>\n",
       "      <td>-0.892643</td>\n",
       "      <td>-0.410991</td>\n",
       "      <td>-0.782938</td>\n",
       "      <td>-0.027995</td>\n",
       "      <td>1.228510</td>\n",
       "      <td>0.127048</td>\n",
       "      <td>1</td>\n",
       "      <td>0</td>\n",
       "      <td>3.965291</td>\n",
       "    </tr>\n",
       "    <tr>\n",
       "      <th>2</th>\n",
       "      <td>1.0</td>\n",
       "      <td>0.127053</td>\n",
       "      <td>-1.204106</td>\n",
       "      <td>-0.780327</td>\n",
       "      <td>-0.209172</td>\n",
       "      <td>0.883449</td>\n",
       "      <td>-0.721130</td>\n",
       "      <td>2.541496</td>\n",
       "      <td>0.001088</td>\n",
       "      <td>2</td>\n",
       "      <td>0</td>\n",
       "      <td>0.601124</td>\n",
       "    </tr>\n",
       "    <tr>\n",
       "      <th>3</th>\n",
       "      <td>1.0</td>\n",
       "      <td>0.831763</td>\n",
       "      <td>2.557366</td>\n",
       "      <td>-0.068739</td>\n",
       "      <td>-1.045494</td>\n",
       "      <td>-0.547893</td>\n",
       "      <td>-1.003016</td>\n",
       "      <td>1.796136</td>\n",
       "      <td>0.770154</td>\n",
       "      <td>3</td>\n",
       "      <td>0</td>\n",
       "      <td>6.524255</td>\n",
       "    </tr>\n",
       "    <tr>\n",
       "      <th>4</th>\n",
       "      <td>0.0</td>\n",
       "      <td>0.000000</td>\n",
       "      <td>0.000000</td>\n",
       "      <td>0.000000</td>\n",
       "      <td>0.000000</td>\n",
       "      <td>0.000000</td>\n",
       "      <td>0.000000</td>\n",
       "      <td>0.000000</td>\n",
       "      <td>0.000509</td>\n",
       "      <td>0</td>\n",
       "      <td>1</td>\n",
       "      <td>0.000000</td>\n",
       "    </tr>\n",
       "    <tr>\n",
       "      <th>5</th>\n",
       "      <td>1.0</td>\n",
       "      <td>0.411836</td>\n",
       "      <td>1.876297</td>\n",
       "      <td>1.161735</td>\n",
       "      <td>-0.410991</td>\n",
       "      <td>-0.818453</td>\n",
       "      <td>-0.678975</td>\n",
       "      <td>1.139512</td>\n",
       "      <td>0.298087</td>\n",
       "      <td>1</td>\n",
       "      <td>1</td>\n",
       "      <td>7.310356</td>\n",
       "    </tr>\n",
       "    <tr>\n",
       "      <th>6</th>\n",
       "      <td>1.0</td>\n",
       "      <td>0.802276</td>\n",
       "      <td>1.320284</td>\n",
       "      <td>-1.577227</td>\n",
       "      <td>-0.209172</td>\n",
       "      <td>-0.777962</td>\n",
       "      <td>-0.215393</td>\n",
       "      <td>1.425061</td>\n",
       "      <td>0.010210</td>\n",
       "      <td>2</td>\n",
       "      <td>1</td>\n",
       "      <td>4.120273</td>\n",
       "    </tr>\n",
       "    <tr>\n",
       "      <th>7</th>\n",
       "      <td>1.0</td>\n",
       "      <td>0.747726</td>\n",
       "      <td>-0.172667</td>\n",
       "      <td>-0.122719</td>\n",
       "      <td>-1.045494</td>\n",
       "      <td>-3.221840</td>\n",
       "      <td>-0.879422</td>\n",
       "      <td>-0.731646</td>\n",
       "      <td>0.691194</td>\n",
       "      <td>3</td>\n",
       "      <td>1</td>\n",
       "      <td>6.183986</td>\n",
       "    </tr>\n",
       "    <tr>\n",
       "      <th>8</th>\n",
       "      <td>0.0</td>\n",
       "      <td>0.000000</td>\n",
       "      <td>0.000000</td>\n",
       "      <td>0.000000</td>\n",
       "      <td>0.000000</td>\n",
       "      <td>0.000000</td>\n",
       "      <td>0.000000</td>\n",
       "      <td>0.000000</td>\n",
       "      <td>0.395459</td>\n",
       "      <td>0</td>\n",
       "      <td>2</td>\n",
       "      <td>0.000000</td>\n",
       "    </tr>\n",
       "    <tr>\n",
       "      <th>9</th>\n",
       "      <td>1.0</td>\n",
       "      <td>0.344467</td>\n",
       "      <td>-0.902084</td>\n",
       "      <td>-0.434198</td>\n",
       "      <td>-0.410991</td>\n",
       "      <td>1.154991</td>\n",
       "      <td>2.205682</td>\n",
       "      <td>5.660466</td>\n",
       "      <td>0.000353</td>\n",
       "      <td>1</td>\n",
       "      <td>2</td>\n",
       "      <td>-1.652281</td>\n",
       "    </tr>\n",
       "  </tbody>\n",
       "</table>\n",
       "</div>"
      ],
      "text/plain": [
       "    x1        x2        x3        xi         w         z       eta     price  \\\n",
       "0  0.0  0.000000  0.000000  0.000000  0.000000  0.000000  0.000000  0.000000   \n",
       "1  1.0  0.624347  0.462097 -0.892643 -0.410991 -0.782938 -0.027995  1.228510   \n",
       "2  1.0  0.127053 -1.204106 -0.780327 -0.209172  0.883449 -0.721130  2.541496   \n",
       "3  1.0  0.831763  2.557366 -0.068739 -1.045494 -0.547893 -1.003016  1.796136   \n",
       "4  0.0  0.000000  0.000000  0.000000  0.000000  0.000000  0.000000  0.000000   \n",
       "5  1.0  0.411836  1.876297  1.161735 -0.410991 -0.818453 -0.678975  1.139512   \n",
       "6  1.0  0.802276  1.320284 -1.577227 -0.209172 -0.777962 -0.215393  1.425061   \n",
       "7  1.0  0.747726 -0.172667 -0.122719 -1.045494 -3.221840 -0.879422 -0.731646   \n",
       "8  0.0  0.000000  0.000000  0.000000  0.000000  0.000000  0.000000  0.000000   \n",
       "9  1.0  0.344467 -0.902084 -0.434198 -0.410991  1.154991  2.205682  5.660466   \n",
       "\n",
       "     shares  product_id  market_id  delta_true  \n",
       "0  0.101711           0          0    0.000000  \n",
       "1  0.127048           1          0    3.965291  \n",
       "2  0.001088           2          0    0.601124  \n",
       "3  0.770154           3          0    6.524255  \n",
       "4  0.000509           0          1    0.000000  \n",
       "5  0.298087           1          1    7.310356  \n",
       "6  0.010210           2          1    4.120273  \n",
       "7  0.691194           3          1    6.183986  \n",
       "8  0.395459           0          2    0.000000  \n",
       "9  0.000353           1          2   -1.652281  "
      ]
     },
     "execution_count": 370,
     "metadata": {},
     "output_type": "execute_result"
    }
   ],
   "source": [
    "demand_sys.products.head(10)"
   ]
  },
  {
   "cell_type": "code",
   "execution_count": 301,
   "metadata": {},
   "outputs": [
    {
     "name": "stderr",
     "output_type": "stream",
     "text": [
      "/Users/jingyuanwang/GitHub/NU450_HW/450-1-HW2/demand_discrete_choice/DiscreteChoice.py:392: SettingWithCopyWarning: \n",
      "A value is trying to be set on a copy of a slice from a DataFrame.\n",
      "Try using .loc[row_indexer,col_indexer] = value instead\n",
      "\n",
      "See the caveats in the documentation: http://pandas.pydata.org/pandas-docs/stable/indexing.html#indexing-view-versus-copy\n",
      "  #df['score'] = df['score'] - maxscore\n"
     ]
    },
    {
     "name": "stdout",
     "output_type": "stream",
     "text": [
      "complete simulating 0th element of the share\n"
     ]
    },
    {
     "data": {
      "text/plain": [
       "array([0.10471459, 0.12616299, 0.00107565, 0.76804677])"
      ]
     },
     "execution_count": 301,
     "metadata": {},
     "output_type": "execute_result"
    }
   ],
   "source": [
    "# TEST: input true delta, see whether we can get a true share\n",
    "demand_sys.products_social_ave_valuation_TO_market_share_OneMarket(market_id = 0, \n",
    "                                                                   delta  = delta_true[:4],\n",
    "                                                                   sigma_p  = 1,\n",
    "                                                                   price = 'price',\n",
    "                                                                   print_progress = True)"
   ]
  },
  {
   "cell_type": "code",
   "execution_count": 347,
   "metadata": {
    "scrolled": true
   },
   "outputs": [
    {
     "name": "stdout",
     "output_type": "stream",
     "text": [
      "complete simulating 0th element of the share\n",
      "complete simulating 10th element of the share\n",
      "complete simulating 20th element of the share\n",
      "complete simulating 30th element of the share\n"
     ]
    }
   ],
   "source": [
    "# TEST: input true delta, see whether we can get a true share\n",
    "df['s_simul'] = demand_sys.products_social_ave_valuation_TO_market_share_Slowbutaccurate(delta_true,\n",
    "                                                                                         sigma_p  = 1,\n",
    "                                                                                         price = 'price', \n",
    "                                                                                         print_progress = True)"
   ]
  },
  {
   "cell_type": "code",
   "execution_count": 348,
   "metadata": {},
   "outputs": [],
   "source": [
    "# Test whether my simulated integral match with the build-in function\n",
    "df['s_simul_2'] = demand_sys.products_social_ave_valuation_TO_market_share_SimulIntegral(delta_true,\n",
    "                                                                                1,\n",
    "                                                                                price,\n",
    "                                                                                n = 10000,\n",
    "                                                                                seed = 13344)"
   ]
  },
  {
   "cell_type": "markdown",
   "metadata": {},
   "source": [
    "## STEP1: find an intial sigma and delta"
   ]
  },
  {
   "cell_type": "code",
   "execution_count": 350,
   "metadata": {},
   "outputs": [],
   "source": [
    "# contraction mapping\n",
    "def BACK_OUT_products_social_ave_valuation_FROM_market_share(sigma_p, share_true, delta_init, maxiter=5, tol = 1e-4):\n",
    "    \n",
    "    delta = delta_init\n",
    "    \n",
    "    error = 99\n",
    "    iteration = 0\n",
    "    while error > tol and iteration < maxiter:\n",
    "        s = demand_sys.products_social_ave_valuation_TO_market_share_Slowbutaccurate(delta, sigma_p, price)\n",
    "        delta_new = delta + np.log(share_true) - np.log(s)\n",
    "        \n",
    "        # update\n",
    "        error = sum(abs(delta_new - delta))\n",
    "        delta = delta_new\n",
    "        iteration = iteration + 1\n",
    "    \n",
    "    if error <= tol:\n",
    "        print('converges in {} iterations, with tolerance = {}'.format(iteration, error))\n",
    "    else:\n",
    "        print('does not converge in {} iterations, current error = {}'.format(iteration, error))\n",
    "    return delta"
   ]
  },
  {
   "cell_type": "code",
   "execution_count": null,
   "metadata": {
    "scrolled": true
   },
   "outputs": [],
   "source": [
    "# the gradient is truely very flat, delta_true-1 converges in the 1 interation with tol = 1e-5\n",
    "# And this update method is really slow\n",
    "delta_init = BACK_OUT_products_social_ave_valuation_FROM_market_share(sigma_p = 3,\n",
    "                                                                        share_true = share_true,\n",
    "                                                                        delta_init = delta_true-5, \n",
    "                                                                        maxiter = 100, tol = 1e-10)"
   ]
  },
  {
   "cell_type": "markdown",
   "metadata": {},
   "source": [
    "## STEP2: optimization with W=I"
   ]
  },
  {
   "cell_type": "code",
   "execution_count": 35,
   "metadata": {},
   "outputs": [],
   "source": [
    "W = np.eye(3)\n",
    "beta = np.array([5,1,1])\n",
    "alpha = 1"
   ]
  },
  {
   "cell_type": "code",
   "execution_count": 717,
   "metadata": {},
   "outputs": [
    {
     "data": {
      "text/plain": [
       "3.9638858436478484e-09"
      ]
     },
     "execution_count": 717,
     "metadata": {},
     "output_type": "execute_result"
    }
   ],
   "source": [
    "gmm_obj(results.x, delta_true, W)"
   ]
  },
  {
   "cell_type": "code",
   "execution_count": null,
   "metadata": {},
   "outputs": [],
   "source": [
    "def constraint(parameter):\n",
    "    delta = parameter[1:]\n",
    "    sigma_p = parameter[0]\n",
    "    return share_true - demand_sys.products_social_ave_valuation_TO_market_share_Slowbutaccurate(delta,\n",
    "                                                                                               sigma_p, \n",
    "                                                                                               price = 'price')"
   ]
  },
  {
   "cell_type": "code",
   "execution_count": null,
   "metadata": {},
   "outputs": [],
   "source": [
    "constraint = lambda parameter: share_true - demand_sys.products_social_ave_valuation_TO_market_share_Slowbutaccurate(parameter[0], \n",
    "                                                                                             parameter[1:], \n",
    "                                                                                             price = 'price') "
   ]
  },
  {
   "cell_type": "code",
   "execution_count": null,
   "metadata": {},
   "outputs": [],
   "source": [
    "def constraint_derivative(parameter):\n",
    "    delta = parameter[1:]\n",
    "    sigma_p = parameter[0]\n",
    "    "
   ]
  },
  {
   "cell_type": "code",
   "execution_count": null,
   "metadata": {},
   "outputs": [],
   "source": [
    "\n",
    "results = opt.minimize(outter_obj,\n",
    "                       np.ones(300+1),\n",
    "                       constraints={'type': 'eq', 'fun': constraint} )\n"
   ]
  },
  {
   "cell_type": "code",
   "execution_count": 728,
   "metadata": {},
   "outputs": [],
   "source": [
    "def outter_obj(parameters):\n",
    "    sigma_k = parameters[0]\n",
    "    delta = parameters[1:]\n",
    "    results = opt.minimize(gmm_obj,\n",
    "                       np.ones(4),\n",
    "                       args = (delta,W) )\n",
    "    return results.fun"
   ]
  },
  {
   "cell_type": "code",
   "execution_count": 729,
   "metadata": {},
   "outputs": [],
   "source": [
    "def gmm_obj(parameter, delta, W):\n",
    "    alpha = parameter[0]\n",
    "    beta = parameter[1:]\n",
    "    xi = delta - df[product_attribute_observed].values@beta + df[price].values*alpha\n",
    "    \n",
    "    G_sum = xi[np.newaxis,:]@df[product_attribute_observed].values\n",
    "    \n",
    "    obj = G_sum@W@G_sum.T\n",
    "    return obj[0,0]"
   ]
  },
  {
   "cell_type": "code",
   "execution_count": 730,
   "metadata": {},
   "outputs": [],
   "source": [
    "def one_stage_obj(parameters):\n",
    "    sigma_k = parameters[0]\n",
    "    delta   = parameters[2+k:]\n",
    "    \n",
    "    xi = delta - df[product_attribute_observed].values@beta + df[price].values*alpha\n",
    "    \n",
    "    \n",
    "    G_sum = xi[np.newaxis,:]@df[product_attribute_observed + exogenous_var ].values\n",
    "    \n",
    "    obj = G_sum@W@G_sum.T\n",
    "    \n",
    "    return obj[0,0]"
   ]
  },
  {
   "cell_type": "code",
   "execution_count": null,
   "metadata": {},
   "outputs": [],
   "source": [
    "def one_stage_obj(parameters):\n",
    "    sigma_k = parameters[0]\n",
    "    delta   = parameters[2+k:]\n",
    "    \n",
    "    xi = delta - df[product_attribute_observed].values@beta + df[price].values*alpha\n",
    "    \n",
    "    \n",
    "    G_sum = xi[np.newaxis,:]@df[product_attribute_observed + exogenous_var ].values\n",
    "    \n",
    "    obj = G_sum@W@G_sum.T\n",
    "    \n",
    "    return obj[0,0]\n"
   ]
  },
  {
   "cell_type": "markdown",
   "metadata": {},
   "source": [
    "## STEP3 : optimizal weighting matrix"
   ]
  },
  {
   "cell_type": "code",
   "execution_count": null,
   "metadata": {},
   "outputs": [],
   "source": []
  },
  {
   "cell_type": "code",
   "execution_count": null,
   "metadata": {},
   "outputs": [],
   "source": []
  },
  {
   "cell_type": "code",
   "execution_count": null,
   "metadata": {},
   "outputs": [],
   "source": []
  },
  {
   "cell_type": "markdown",
   "metadata": {},
   "source": [
    "# Draft & Appendix"
   ]
  },
  {
   "cell_type": "markdown",
   "metadata": {},
   "source": [
    "## later: tips for simulated integral"
   ]
  },
  {
   "cell_type": "code",
   "execution_count": 371,
   "metadata": {},
   "outputs": [
    {
     "data": {
      "text/plain": [
       "[<matplotlib.lines.Line2D at 0x1a25c0fbe0>]"
      ]
     },
     "execution_count": 371,
     "metadata": {},
     "output_type": "execute_result"
    },
    {
     "data": {
      "image/png": "[encoded data removed]",
      "text/plain": [
       "<Figure size 432x288 with 1 Axes>"
      ]
     },
     "metadata": {
      "needs_background": "light"
     },
     "output_type": "display_data"
    }
   ],
   "source": [
    "x = np.linspace(stats.norm.ppf(0.01),\n",
    "                stats.norm.ppf(0.99), 100)\n",
    "plt.plot(x, stats.norm.pdf(x),\n",
    "        'r-', lw=5, alpha=0.6, label='norm pdf')"
   ]
  },
  {
   "cell_type": "code",
   "execution_count": 669,
   "metadata": {},
   "outputs": [
    {
     "data": {
      "text/html": [
       "<div>\n",
       "<style scoped>\n",
       "    .dataframe tbody tr th:only-of-type {\n",
       "        vertical-align: middle;\n",
       "    }\n",
       "\n",
       "    .dataframe tbody tr th {\n",
       "        vertical-align: top;\n",
       "    }\n",
       "\n",
       "    .dataframe thead th {\n",
       "        text-align: right;\n",
       "    }\n",
       "</style>\n",
       "<table border=\"1\" class=\"dataframe\">\n",
       "  <thead>\n",
       "    <tr style=\"text-align: right;\">\n",
       "      <th></th>\n",
       "      <th>col1</th>\n",
       "      <th>col2</th>\n",
       "    </tr>\n",
       "  </thead>\n",
       "  <tbody>\n",
       "    <tr>\n",
       "      <th>0</th>\n",
       "      <td>1</td>\n",
       "      <td>3</td>\n",
       "    </tr>\n",
       "    <tr>\n",
       "      <th>1</th>\n",
       "      <td>2</td>\n",
       "      <td>4</td>\n",
       "    </tr>\n",
       "    <tr>\n",
       "      <th>2</th>\n",
       "      <td>2</td>\n",
       "      <td>4</td>\n",
       "    </tr>\n",
       "  </tbody>\n",
       "</table>\n",
       "</div>"
      ],
      "text/plain": [
       "   col1  col2\n",
       "0     1     3\n",
       "1     2     4\n",
       "2     2     4"
      ]
     },
     "execution_count": 669,
     "metadata": {},
     "output_type": "execute_result"
    }
   ],
   "source": [
    "d = {'col1': [1, 2, 2], 'col2': [3, 4, 4]}\n",
    "df = pd.DataFrame(data=d)\n",
    "df"
   ]
  },
  {
   "cell_type": "code",
   "execution_count": 672,
   "metadata": {},
   "outputs": [],
   "source": [
    "x = df.drop_duplicates()"
   ]
  },
  {
   "cell_type": "code",
   "execution_count": 673,
   "metadata": {},
   "outputs": [
    {
     "data": {
      "text/html": [
       "<div>\n",
       "<style scoped>\n",
       "    .dataframe tbody tr th:only-of-type {\n",
       "        vertical-align: middle;\n",
       "    }\n",
       "\n",
       "    .dataframe tbody tr th {\n",
       "        vertical-align: top;\n",
       "    }\n",
       "\n",
       "    .dataframe thead th {\n",
       "        text-align: right;\n",
       "    }\n",
       "</style>\n",
       "<table border=\"1\" class=\"dataframe\">\n",
       "  <thead>\n",
       "    <tr style=\"text-align: right;\">\n",
       "      <th></th>\n",
       "      <th>col1</th>\n",
       "      <th>col2</th>\n",
       "    </tr>\n",
       "  </thead>\n",
       "  <tbody>\n",
       "    <tr>\n",
       "      <th>0</th>\n",
       "      <td>1</td>\n",
       "      <td>3</td>\n",
       "    </tr>\n",
       "    <tr>\n",
       "      <th>1</th>\n",
       "      <td>2</td>\n",
       "      <td>4</td>\n",
       "    </tr>\n",
       "  </tbody>\n",
       "</table>\n",
       "</div>"
      ],
      "text/plain": [
       "   col1  col2\n",
       "0     1     3\n",
       "1     2     4"
      ]
     },
     "execution_count": 673,
     "metadata": {},
     "output_type": "execute_result"
    }
   ],
   "source": [
    "x"
   ]
  },
  {
   "cell_type": "code",
   "execution_count": null,
   "metadata": {},
   "outputs": [],
   "source": []
  },
  {
   "cell_type": "code",
   "execution_count": null,
   "metadata": {},
   "outputs": [],
   "source": []
  },
  {
   "cell_type": "code",
   "execution_count": null,
   "metadata": {},
   "outputs": [],
   "source": []
  },
  {
   "cell_type": "code",
   "execution_count": null,
   "metadata": {},
   "outputs": [],
   "source": []
  },
  {
   "cell_type": "code",
   "execution_count": null,
   "metadata": {},
   "outputs": [],
   "source": []
  },
  {
   "cell_type": "code",
   "execution_count": null,
   "metadata": {},
   "outputs": [],
   "source": []
  }
 ],
 "metadata": {
  "kernelspec": {
   "display_name": "Python 3",
   "language": "python",
   "name": "python3"
  },
  "language_info": {
   "codemirror_mode": {
    "name": "ipython",
    "version": 3
   },
   "file_extension": ".py",
   "mimetype": "text/x-python",
   "name": "python",
   "nbconvert_exporter": "python",
   "pygments_lexer": "ipython3",
   "version": "3.7.3"
  }
 },
 "nbformat": 4,
 "nbformat_minor": 2
}
