{
 "cells": [
  {
   "cell_type": "code",
   "execution_count": 160,
   "metadata": {},
   "outputs": [
    {
     "data": {
      "text/plain": [
       "<module 'myfunctions' from '/Users/jingyuanwang/GitHub/NU450_HW/myfunctions.py'>"
      ]
     },
     "execution_count": 160,
     "metadata": {},
     "output_type": "execute_result"
    }
   ],
   "source": [
    "import numpy as np\n",
    "import pandas as pd\n",
    "import os,sys,inspect\n",
    "import scipy.stats as stats\n",
    "import scipy.optimize as opt\n",
    "import scipy.integrate as integrate\n",
    "from scipy.io import loadmat\n",
    "import econtools \n",
    "import econtools.metrics as mt\n",
    "import statsmodels.discrete.discrete_model as sm\n",
    "import matplotlib.pyplot as plt\n",
    "import itertools as it\n",
    "import copy\n",
    "\n",
    "# mine\n",
    "# (1)\n",
    "from demand_discrete_choice import initialize\n",
    "from demand_discrete_choice import estimation \n",
    "\n",
    "# (2)\n",
    "currentdir = os.path.dirname(os.path.abspath(inspect.getfile(inspect.currentframe())))\n",
    "parentdir = os.path.dirname(currentdir)\n",
    "sys.path.insert(0,parentdir) \n",
    "import myfunctions as mf\n",
    "\n",
    "import importlib\n",
    "importlib.reload(initialize)\n",
    "importlib.reload(estimation)\n",
    "importlib.reload(mf)"
   ]
  },
  {
   "cell_type": "code",
   "execution_count": 161,
   "metadata": {},
   "outputs": [],
   "source": [
    "#help(estimation)"
   ]
  },
  {
   "cell_type": "code",
   "execution_count": 162,
   "metadata": {},
   "outputs": [],
   "source": [
    "# ------------------------------------------------------------------------\n",
    "# NOTE\n",
    "# ------------------------------------------------------------------------\n",
    "# Purpose: HW2 Q2\n",
    "# \n",
    "# test functions in the BLP_MPEC module\n",
    "# ------------------------------------------------------------------------"
   ]
  },
  {
   "cell_type": "markdown",
   "metadata": {},
   "source": [
    "# Initialize file path"
   ]
  },
  {
   "cell_type": "code",
   "execution_count": 163,
   "metadata": {},
   "outputs": [],
   "source": [
    "rootpath = '/Users/jingyuanwang/Dropbox/Course/ECON/IO/NU450/NU450_HW/450-1-HW2'\n",
    "datapath = rootpath + '/' + 'data'\n",
    "resultpath = rootpath + '/' + 'results'"
   ]
  },
  {
   "cell_type": "markdown",
   "metadata": {},
   "source": [
    "# Parameters\n",
    "Everything should be input in the following cell. \n",
    "All other cells are just operation and calculation."
   ]
  },
  {
   "cell_type": "code",
   "execution_count": 164,
   "metadata": {},
   "outputs": [],
   "source": [
    "# model parameters (true value)\n",
    "true_parameters = {'beta': np.array([5,1,1]),\n",
    "                   'alpha_0': 1,\n",
    "                   'alpha_sigma':1,\n",
    "                   'gamma': np.array([2,1,1])}\n",
    "\n",
    "# import file names\n",
    "matfiles = ['10markets3products', '100markets3products','100markets5products']\n",
    "names = ['m10_prod3', 'm100_prod3', 'm100_prod5']"
   ]
  },
  {
   "cell_type": "code",
   "execution_count": 165,
   "metadata": {},
   "outputs": [],
   "source": [
    "# load config\n",
    "def loadConfig(config_filename):\n",
    "    # read configs that defines the subsample\n",
    "\n",
    "    # want info: female only? under 65 only?\n",
    "    info_want = ['specification','IV_varnames','update_true_share']\n",
    "    \n",
    "    # import file\n",
    "    cfgfile = pd.read_csv(config_filename, header=0)\n",
    "    #return cfgfile\n",
    "    # get info\n",
    "    if not all(elem in cfgfile.columns  for elem in info_want):\n",
    "        raise Exception('not all information needed are in the config file.')\n",
    "\n",
    "    specification = cfgfile['specification'].iloc[0]\n",
    "    IV_varnames = cfgfile['IV_varnames'].tolist()\n",
    "    update_true_share = cfgfile['update_true_share'].iloc[0]\n",
    "    return {'specification':specification, \n",
    "            'IV_varnames':IV_varnames, \n",
    "            'update_true_share':update_true_share}"
   ]
  },
  {
   "cell_type": "code",
   "execution_count": 166,
   "metadata": {},
   "outputs": [
    {
     "data": {
      "text/plain": [
       "['x2_other1', 'x2_other2', 'x3_other1', 'x3_other2', 'price_others', 'w']"
      ]
     },
     "execution_count": 166,
     "metadata": {},
     "output_type": "execute_result"
    }
   ],
   "source": [
    "config_filename = 'cfg/config.csv'\n",
    "args = loadConfig(config_filename)\n",
    "specification = args['specification']\n",
    "IV_varnames = args['IV_varnames']\n",
    "update_true_share = args['update_true_share']\n",
    "IV_varnames"
   ]
  },
  {
   "cell_type": "markdown",
   "metadata": {},
   "source": [
    "# Import Data"
   ]
  },
  {
   "cell_type": "code",
   "execution_count": 167,
   "metadata": {},
   "outputs": [],
   "source": [
    "# 1 import\n",
    "inputfiles = dict(zip(names, matfiles))\n",
    "data = {}\n",
    "for name, filename in inputfiles.items():\n",
    "    file = datapath + '/Simulation Data/'+ filename\n",
    "    data[name] = loadmat(file)"
   ]
  },
  {
   "cell_type": "code",
   "execution_count": 168,
   "metadata": {},
   "outputs": [],
   "source": [
    "# 2. clean and save to a class\n",
    "def save_input_to_DiscreteChoiceClass(num_of_market, num_of_prod, include_outside_option, true_parameters):\n",
    "    \n",
    "    sample = 'm{}_prod{}'.format(num_of_market,num_of_prod)\n",
    "    df_product = (pd.DataFrame(np.concatenate( \n",
    "                              (data[sample]['x1'],\n",
    "                               data[sample]['xi_all'],\n",
    "                               data[sample]['w'], \n",
    "                               data[sample]['Z'],\n",
    "                               data[sample]['eta']), axis = 1 ))\n",
    "                  .rename(columns = {0:'x1',1:'x2',2:'x3',3:'xi', 4:'w', 5:'z',6:'eta'}) )\n",
    "    df_product['price'] = np.reshape(data[sample]['P_opt'].T, (num_of_market*num_of_prod,1))\n",
    "    df_product['shares'] = np.reshape(data[sample]['shares'].T, (num_of_market*num_of_prod,1))\n",
    "\n",
    "    df_product['product_id'] = (np.repeat(np.arange(num_of_prod)[:,np.newaxis],num_of_market, axis = 1)\n",
    "                                .reshape((num_of_prod*num_of_market,1), order = 'F') )\n",
    "\n",
    "    df_product['market_id'] = np.repeat(np.arange(num_of_market)[:, np.newaxis], num_of_prod, axis=0)\n",
    "    product_ids = {'market_id':'market_id',\n",
    "                   'product_id':'product_id'}\n",
    "\n",
    "    # consumer\n",
    "    df_consumer = pd.DataFrame(data[sample]['alphas'].T, columns=[idx for idx in range(num_of_market) ])\n",
    "    df_consumer = df_consumer.stack().reset_index().rename(columns = {'level_0':'consumer_id', \n",
    "                                                                      'level_1':'market_id',\n",
    "                                                                      0:'alpha'})\n",
    "\n",
    "\n",
    "    consumer_ids = {'market_id':'market_id',\n",
    "                   'consumer_id':'consumer_id'}\n",
    "    \n",
    "    output = initialize.DiscreteChoice(df_consumer, consumer_ids, \n",
    "                                     df_product, product_ids, include_outside_option = include_outside_option,\n",
    "                                     true_parameters=true_parameters)\n",
    "    return output"
   ]
  },
  {
   "cell_type": "code",
   "execution_count": 169,
   "metadata": {},
   "outputs": [],
   "source": [
    "demand_m10_prod3 = save_input_to_DiscreteChoiceClass(num_of_market=10, \n",
    "                                                     num_of_prod=3, \n",
    "                                                     include_outside_option = False,\n",
    "                                                     true_parameters = true_parameters)"
   ]
  },
  {
   "cell_type": "code",
   "execution_count": 170,
   "metadata": {},
   "outputs": [],
   "source": [
    "demand_m100_prod3 = save_input_to_DiscreteChoiceClass(num_of_market=100, \n",
    "                                                     num_of_prod=3, \n",
    "                                                     include_outside_option = False,\n",
    "                                                     true_parameters = true_parameters)"
   ]
  },
  {
   "cell_type": "code",
   "execution_count": 171,
   "metadata": {},
   "outputs": [],
   "source": [
    "demand_m100_prod5 = save_input_to_DiscreteChoiceClass(num_of_market=100, \n",
    "                                                     num_of_prod=5, \n",
    "                                                     include_outside_option = False,\n",
    "                                                     true_parameters = true_parameters)"
   ]
  },
  {
   "cell_type": "markdown",
   "metadata": {},
   "source": [
    "# Q2. Estimation: Demand side instrument"
   ]
  },
  {
   "cell_type": "code",
   "execution_count": 172,
   "metadata": {},
   "outputs": [],
   "source": [
    "true_parameters = {'beta': np.array([5,1,1]),\n",
    "                   'alpha_0': 1,\n",
    "                   'alpha_sigma':1,\n",
    "                   'gamma': np.array([2,1,1])}"
   ]
  },
  {
   "cell_type": "code",
   "execution_count": 173,
   "metadata": {},
   "outputs": [],
   "source": [
    "BLP_MPEC = estimation.BLP_MPEC(demand_m100_prod3, true_parameters)"
   ]
  },
  {
   "cell_type": "markdown",
   "metadata": {},
   "source": [
    "## 1. First Stage"
   ]
  },
  {
   "cell_type": "code",
   "execution_count": 174,
   "metadata": {},
   "outputs": [],
   "source": [
    "BLP_MPEC.construct_exogenous_var()\n",
    "#BLP_MPEC.construct_exogenous_var(first_stage_check=True, \n",
    "#                                 exogenous_varname = ['x1', 'x2', 'x3'], \n",
    "#                                 endogenous_varname = ['price'])"
   ]
  },
  {
   "cell_type": "code",
   "execution_count": 175,
   "metadata": {},
   "outputs": [
    {
     "name": "stdout",
     "output_type": "stream",
     "text": [
      "#=======================================================\n",
      "Endogenous var: price \n",
      "            IV: ['price_others', 'w'] \n",
      " \n",
      "Ftest = (34.33318579619247, 3.941291737419306e-14)\n",
      " \n",
      "regression:\n",
      "=======================================================\n",
      "Dependent variable:\tprice\n",
      "N:\t\t\t300\n",
      "R-squared:\t\t0.2034\n",
      "Estimation method:\tOLS\n",
      "VCE method:\t\tStandard (Homosk.)\n",
      "=======================================================\n",
      "              coeff    se      t   p>t CI_low CI_high\n",
      "x1            3.478 1.816  1.916 0.056 -0.095   7.052\n",
      "x2            0.357 0.253  1.409 0.160 -0.142   0.856\n",
      "x3            0.048 0.075  0.638 0.524 -0.100   0.195\n",
      "price_others -0.254 0.624 -0.408 0.684 -1.483   0.974\n",
      "w             0.922 0.475  1.943 0.053 -0.012   1.857\n",
      "=======================================================\n",
      "\n",
      " \n"
     ]
    }
   ],
   "source": [
    "# Try and Find the best IV: ['x3_other1','x3_other2','price_others']\n",
    "BLP_MPEC.first_stage(exogenous_varname = ['x1','x2','x3'], \n",
    "                     endogenous_varname = ['price'], \n",
    "                     IV_varname =  ['price_others' , 'w'] )"
   ]
  },
  {
   "cell_type": "markdown",
   "metadata": {},
   "source": [
    "## 2. Estimate BLP : Test for knitro input\n",
    "make sure all the functions work as expected.\n",
    "The optimization will be run on Quest using knitro"
   ]
  },
  {
   "cell_type": "code",
   "execution_count": 176,
   "metadata": {},
   "outputs": [
    {
     "data": {
      "text/plain": [
       "310"
      ]
     },
     "execution_count": 176,
     "metadata": {},
     "output_type": "execute_result"
    }
   ],
   "source": [
    "# claim variables\n",
    "independent_var = ['x1', 'x2', 'x3', 'price']\n",
    "exogenous_var = ['x1', 'x2', 'x3'] + IV_varnames\n",
    "\n",
    "BLP_MPEC.MPEC_claim_var(independent_var,exogenous_var, supply_side = False)\n",
    "BLP_MPEC.MPEC_parameter_length"
   ]
  },
  {
   "cell_type": "code",
   "execution_count": 177,
   "metadata": {},
   "outputs": [],
   "source": [
    "true_par = BLP_MPEC.initial_parameters()\n",
    "true_par = true_par.flatten()"
   ]
  },
  {
   "cell_type": "code",
   "execution_count": 178,
   "metadata": {},
   "outputs": [],
   "source": [
    "par_ones = np.ones( BLP_MPEC.MPEC_parameter_length )"
   ]
  },
  {
   "cell_type": "code",
   "execution_count": 179,
   "metadata": {},
   "outputs": [
    {
     "name": "stdout",
     "output_type": "stream",
     "text": [
      "does not converge in 100 iterations, current error = 39.61830776659245\n"
     ]
    }
   ],
   "source": [
    "par_init = BLP_MPEC.initial_parameters(sigma_p = 1.02, true_par = False)\n",
    "par_init = par_init.flatten()"
   ]
  },
  {
   "cell_type": "code",
   "execution_count": 180,
   "metadata": {},
   "outputs": [],
   "source": [
    "par = par_ones"
   ]
  },
  {
   "cell_type": "code",
   "execution_count": 182,
   "metadata": {},
   "outputs": [
    {
     "ename": "UnboundLocalError",
     "evalue": "local variable 'eta' referenced before assignment",
     "output_type": "error",
     "traceback": [
      "\u001b[0;31m---------------------------------------------------------------------------\u001b[0m",
      "\u001b[0;31mUnboundLocalError\u001b[0m                         Traceback (most recent call last)",
      "\u001b[0;32m<ipython-input-182-839a98e6bf00>\u001b[0m in \u001b[0;36m<module>\u001b[0;34m\u001b[0m\n\u001b[0;32m----> 1\u001b[0;31m \u001b[0mBLP_MPEC\u001b[0m\u001b[0;34m.\u001b[0m\u001b[0mMPEC_obj\u001b[0m\u001b[0;34m(\u001b[0m\u001b[0mpar\u001b[0m\u001b[0;34m,\u001b[0m \u001b[0;32mTrue\u001b[0m\u001b[0;34m)\u001b[0m\u001b[0;34m\u001b[0m\u001b[0;34m\u001b[0m\u001b[0m\n\u001b[0m",
      "\u001b[0;32m~/GitHub/NU450_HW/450-1-HW2/demand_discrete_choice/estimation.py\u001b[0m in \u001b[0;36mMPEC_obj\u001b[0;34m(self, parameter, supply_side)\u001b[0m\n\u001b[1;32m    534\u001b[0m             \u001b[0mW\u001b[0m \u001b[0;34m=\u001b[0m \u001b[0mself\u001b[0m\u001b[0;34m.\u001b[0m\u001b[0mMPEC_W\u001b[0m\u001b[0;34m\u001b[0m\u001b[0;34m\u001b[0m\u001b[0m\n\u001b[1;32m    535\u001b[0m \u001b[0;34m\u001b[0m\u001b[0m\n\u001b[0;32m--> 536\u001b[0;31m             \u001b[0mobj\u001b[0m \u001b[0;34m=\u001b[0m \u001b[0meta\u001b[0m\u001b[0;34m.\u001b[0m\u001b[0mT\u001b[0m\u001b[0;34m@\u001b[0m\u001b[0mW\u001b[0m\u001b[0;34m@\u001b[0m\u001b[0meta\u001b[0m\u001b[0;34m\u001b[0m\u001b[0;34m\u001b[0m\u001b[0m\n\u001b[0m\u001b[1;32m    537\u001b[0m \u001b[0;34m\u001b[0m\u001b[0m\n\u001b[1;32m    538\u001b[0m         \u001b[0;32mreturn\u001b[0m \u001b[0mobj\u001b[0m\u001b[0;34m\u001b[0m\u001b[0;34m\u001b[0m\u001b[0m\n",
      "\u001b[0;31mUnboundLocalError\u001b[0m: local variable 'eta' referenced before assignment"
     ]
    }
   ],
   "source": [
    "BLP_MPEC.MPEC_obj(par, True)"
   ]
  },
  {
   "cell_type": "code",
   "execution_count": 1286,
   "metadata": {},
   "outputs": [
    {
     "data": {
      "text/plain": [
       "(7, 1)"
      ]
     },
     "execution_count": 1286,
     "metadata": {},
     "output_type": "execute_result"
    }
   ],
   "source": [
    "BLP_MPEC.MPEC_constraint_share(par).shape\n",
    "BLP_MPEC.MPEC_constraint_moment_conditions(par).shape"
   ]
  },
  {
   "cell_type": "code",
   "execution_count": 1287,
   "metadata": {},
   "outputs": [
    {
     "data": {
      "text/plain": [
       "(308, 1)"
      ]
     },
     "execution_count": 1287,
     "metadata": {},
     "output_type": "execute_result"
    }
   ],
   "source": [
    "BLP_MPEC.MPEC_gradient_obj(par).shape"
   ]
  },
  {
   "cell_type": "code",
   "execution_count": 1288,
   "metadata": {},
   "outputs": [],
   "source": [
    "grad = BLP_MPEC.MPEC_gradient_constraints(par)"
   ]
  },
  {
   "cell_type": "code",
   "execution_count": 1323,
   "metadata": {},
   "outputs": [
    {
     "data": {
      "text/plain": [
       "(308, 307)"
      ]
     },
     "execution_count": 1323,
     "metadata": {},
     "output_type": "execute_result"
    }
   ],
   "source": [
    "grad.shape"
   ]
  },
  {
   "cell_type": "markdown",
   "metadata": {},
   "source": [
    "## 3. test knitro gradient position input"
   ]
  },
  {
   "cell_type": "code",
   "execution_count": 1187,
   "metadata": {},
   "outputs": [],
   "source": [
    "m = 37\n",
    "n = 38"
   ]
  },
  {
   "cell_type": "code",
   "execution_count": 1191,
   "metadata": {},
   "outputs": [
    {
     "data": {
      "text/plain": [
       "array([ 0,  1,  2,  3,  4,  5,  6,  7,  8,  9, 10, 11, 12, 13, 14, 15, 16,\n",
       "       17, 18, 19, 20, 21, 22, 23, 24, 25, 26, 27, 28, 29, 30, 31, 32, 33,\n",
       "       34, 35, 36, 37,  0,  1,  2,  3,  4,  5,  6,  7,  8,  9, 10, 11])"
      ]
     },
     "execution_count": 1191,
     "metadata": {},
     "output_type": "execute_result"
    }
   ],
   "source": [
    "np.mod(np.arange(m*n),n)[:50]"
   ]
  },
  {
   "cell_type": "code",
   "execution_count": 1193,
   "metadata": {},
   "outputs": [
    {
     "data": {
      "text/plain": [
       "array([0, 0, 0, 0, 0, 0, 0, 0, 0, 0, 0, 0, 0, 0, 0, 0, 0, 0, 0, 0, 0, 0,\n",
       "       0, 0, 0, 0, 0, 0, 0, 0, 0, 0, 0, 0, 0, 0, 0, 0, 1, 1, 1, 1, 1, 1,\n",
       "       1, 1, 1, 1, 1, 1])"
      ]
     },
     "execution_count": 1193,
     "metadata": {},
     "output_type": "execute_result"
    }
   ],
   "source": [
    "np.repeat(np.arange(m), n)[:50]"
   ]
  },
  {
   "cell_type": "code",
   "execution_count": null,
   "metadata": {},
   "outputs": [],
   "source": []
  },
  {
   "cell_type": "code",
   "execution_count": null,
   "metadata": {},
   "outputs": [],
   "source": []
  },
  {
   "cell_type": "code",
   "execution_count": null,
   "metadata": {},
   "outputs": [],
   "source": []
  },
  {
   "cell_type": "code",
   "execution_count": null,
   "metadata": {},
   "outputs": [],
   "source": []
  },
  {
   "cell_type": "code",
   "execution_count": null,
   "metadata": {},
   "outputs": [],
   "source": []
  },
  {
   "cell_type": "markdown",
   "metadata": {},
   "source": [
    "# Draft & Appendix"
   ]
  },
  {
   "cell_type": "markdown",
   "metadata": {},
   "source": [
    "## later: for simulated integral"
   ]
  },
  {
   "cell_type": "code",
   "execution_count": 371,
   "metadata": {},
   "outputs": [
    {
     "data": {
      "text/plain": [
       "[<matplotlib.lines.Line2D at 0x1a25c0fbe0>]"
      ]
     },
     "execution_count": 371,
     "metadata": {},
     "output_type": "execute_result"
    },
    {
     "data": {
      "image/png": "[encoded data removed]",
      "text/plain": [
       "<Figure size 432x288 with 1 Axes>"
      ]
     },
     "metadata": {
      "needs_background": "light"
     },
     "output_type": "display_data"
    }
   ],
   "source": [
    "x = np.linspace(stats.norm.ppf(0.01),\n",
    "                stats.norm.ppf(0.99), 100)\n",
    "plt.plot(x, stats.norm.pdf(x),\n",
    "        'r-', lw=5, alpha=0.6, label='norm pdf')"
   ]
  },
  {
   "cell_type": "code",
   "execution_count": 88,
   "metadata": {},
   "outputs": [],
   "source": [
    "derivative = BLP_MPEC.derivative_demand_to_price(BLP_MPEC.MPEC_par_true_delta, 1, 1)"
   ]
  },
  {
   "cell_type": "code",
   "execution_count": null,
   "metadata": {},
   "outputs": [],
   "source": []
  },
  {
   "cell_type": "code",
   "execution_count": 89,
   "metadata": {},
   "outputs": [],
   "source": [
    "mc = BLP_MPEC.MPEC_par_price - BLP_MPEC.MPEC_par_true_share/(-derivative)"
   ]
  },
  {
   "cell_type": "code",
   "execution_count": 90,
   "metadata": {},
   "outputs": [],
   "source": [
    "df = BLP_MPEC.products"
   ]
  },
  {
   "cell_type": "code",
   "execution_count": 91,
   "metadata": {},
   "outputs": [],
   "source": [
    "df['mc'] = mc"
   ]
  },
  {
   "cell_type": "code",
   "execution_count": 95,
   "metadata": {},
   "outputs": [
    {
     "data": {
      "text/plain": [
       "array([3., 3., 4.])"
      ]
     },
     "execution_count": 95,
     "metadata": {},
     "output_type": "execute_result"
    }
   ],
   "source": [
    "parameter[-3:]"
   ]
  },
  {
   "cell_type": "code",
   "execution_count": null,
   "metadata": {},
   "outputs": [],
   "source": []
  }
 ],
 "metadata": {
  "kernelspec": {
   "display_name": "Python 3",
   "language": "python",
   "name": "python3"
  },
  "language_info": {
   "codemirror_mode": {
    "name": "ipython",
    "version": 3
   },
   "file_extension": ".py",
   "mimetype": "text/x-python",
   "name": "python",
   "nbconvert_exporter": "python",
   "pygments_lexer": "ipython3",
   "version": "3.7.3"
  }
 },
 "nbformat": 4,
 "nbformat_minor": 2
}
