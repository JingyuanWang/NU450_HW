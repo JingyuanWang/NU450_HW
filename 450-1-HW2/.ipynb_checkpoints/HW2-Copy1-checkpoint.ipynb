{
 "cells": [
  {
   "cell_type": "code",
   "execution_count": 215,
   "metadata": {},
   "outputs": [
    {
     "data": {
      "text/plain": [
       "<module 'myfunctions' from '/Users/jingyuanwang/GitHub/NU450_HW/myfunctions.py'>"
      ]
     },
     "execution_count": 215,
     "metadata": {},
     "output_type": "execute_result"
    }
   ],
   "source": [
    "import numpy as np\n",
    "import pandas as pd\n",
    "import os,sys,inspect\n",
    "import scipy.stats as stats\n",
    "import scipy.optimize as opt\n",
    "import scipy.integrate as integrate\n",
    "from scipy.io import loadmat\n",
    "import econtools \n",
    "import econtools.metrics as mt\n",
    "import statsmodels.discrete.discrete_model as sm\n",
    "import matplotlib.pyplot as plt\n",
    "import itertools as it\n",
    "import copy\n",
    "\n",
    "# mine\n",
    "# (1)\n",
    "import demand_discrete_choice as dc1\n",
    "import demand_discrete_choice.DiscreteChoice as dc\n",
    "\n",
    "# (2)\n",
    "currentdir = os.path.dirname(os.path.abspath(inspect.getfile(inspect.currentframe())))\n",
    "parentdir = os.path.dirname(currentdir)\n",
    "sys.path.insert(0,parentdir) \n",
    "import myfunctions as mf\n",
    "\n",
    "import importlib\n",
    "importlib.reload(dc)\n",
    "importlib.reload(mf)"
   ]
  },
  {
   "cell_type": "code",
   "execution_count": 216,
   "metadata": {},
   "outputs": [],
   "source": [
    "#help(dc)"
   ]
  },
  {
   "cell_type": "code",
   "execution_count": 217,
   "metadata": {},
   "outputs": [],
   "source": [
    "# ------------------------------------------------------------------------\n",
    "# NOTE\n",
    "# ------------------------------------------------------------------------\n",
    "# Purpose: HW2 \n",
    "# \n",
    "# Import data and stats\n",
    "# \n",
    "#\n",
    "# ------------------------------------------------------------------------"
   ]
  },
  {
   "cell_type": "markdown",
   "metadata": {},
   "source": [
    "# Initialize file path"
   ]
  },
  {
   "cell_type": "code",
   "execution_count": 218,
   "metadata": {},
   "outputs": [],
   "source": [
    "rootpath = '/Users/jingyuanwang/Dropbox/Course/ECON/IO/NU450/NU450_HW/450-1-HW2'\n",
    "datapath = rootpath + '/' + 'data'\n",
    "resultpath = rootpath + '/' + 'results'"
   ]
  },
  {
   "cell_type": "markdown",
   "metadata": {},
   "source": [
    "# Parameters\n",
    "Everything should be input in the following cell. \n",
    "All other cells are just operation and calculation."
   ]
  },
  {
   "cell_type": "code",
   "execution_count": 219,
   "metadata": {},
   "outputs": [],
   "source": [
    "# model parameters (true value)\n",
    "true_parameters = {'beta': np.array([5,1,1]),\n",
    "                   'alpha_0': 1,\n",
    "                   'alpha_sigma':1,\n",
    "                   'gamma': np.array([2,1,1])}\n",
    "\n",
    "# import file names\n",
    "matfiles = ['10markets3products', '100markets3products','100markets5products']\n",
    "names = ['m10_prod3', 'm100_prod3', 'm100_prod5']"
   ]
  },
  {
   "cell_type": "markdown",
   "metadata": {},
   "source": [
    "# Import Data"
   ]
  },
  {
   "cell_type": "code",
   "execution_count": 220,
   "metadata": {},
   "outputs": [],
   "source": [
    "# 1 import\n",
    "inputfiles = dict(zip(names, matfiles))\n",
    "data = {}\n",
    "for name, filename in inputfiles.items():\n",
    "    file = datapath + '/Simulation Data/'+ filename\n",
    "    data[name] = loadmat(file)\n"
   ]
  },
  {
   "cell_type": "code",
   "execution_count": 221,
   "metadata": {},
   "outputs": [],
   "source": [
    "# 2. clean and save to a class\n",
    "num_of_market = 100\n",
    "num_of_prod = 3\n",
    "sample = 'm{}_prod{}'.format(num_of_market,num_of_prod)\n",
    "\n",
    "\n",
    "df_product = (pd.DataFrame(np.concatenate( \n",
    "                          (data[sample]['x1'],\n",
    "                           data[sample]['xi_all'],\n",
    "                           data[sample]['w'], \n",
    "                           data[sample]['Z'],\n",
    "                           data[sample]['eta']), axis = 1 ))\n",
    "              .rename(columns = {0:'x1',1:'x2',2:'x3',3:'xi', 4:'w', 5:'z',6:'eta'}) )\n",
    "df_product['price'] = np.reshape(data[sample]['P_opt'], (num_of_market*num_of_prod,1))\n",
    "df_product['shares'] = np.reshape(data[sample]['shares'], (num_of_market*num_of_prod,1))\n",
    "\n",
    "df_product['product_id'] = np.repeat(np.arange(num_of_prod)[:,np.newaxis], num_of_market, axis = 0)\n",
    "\n",
    "df_product['market_id'] = (np.repeat(np.arange(num_of_market)[:, np.newaxis], \n",
    "                                      num_of_prod, axis=1)\n",
    "                                .reshape((num_of_prod*num_of_market,1), order = 'F') )\n",
    "product_ids = {'market_id':'market_id',\n",
    "               'product_id':'product_id'}\n",
    "\n",
    "# consumer\n",
    "df_consumer = pd.DataFrame(data[sample]['alphas'].T, columns=[idx for idx in range(num_of_market) ])\n",
    "df_consumer = df_consumer.stack().reset_index().rename(columns = {'level_0':'consumer_id', \n",
    "                                                                  'level_1':'market_id',\n",
    "                                                                  0:'alpha'})\n",
    "\n",
    "\n",
    "consumer_ids = {'market_id':'market_id',\n",
    "               'consumer_id':'consumer_id'}\n"
   ]
  },
  {
   "cell_type": "code",
   "execution_count": 222,
   "metadata": {},
   "outputs": [],
   "source": [
    "# 3. fit it into a class: discrete choice\n",
    "\n",
    "#demand_m10_prod3 = dc.DiscreteChoice(df_consumer, consumer_ids, df_product, product_ids, true_parameters=true_parameters)\n",
    "demand_m100_prod3 = dc.DiscreteChoice(df_consumer, consumer_ids, df_product, product_ids, true_parameters=true_parameters)\n",
    "#demand_m100_prod5 = dc.DiscreteChoice(df_consumer, consumer_ids, df_product, product_ids, true_parameters=true_parameters)\n"
   ]
  },
  {
   "cell_type": "markdown",
   "metadata": {},
   "source": [
    "# Q1. Simulate consumer choice and welfare"
   ]
  },
  {
   "cell_type": "markdown",
   "metadata": {},
   "source": [
    "## simulate"
   ]
  },
  {
   "cell_type": "code",
   "execution_count": 223,
   "metadata": {},
   "outputs": [
    {
     "name": "stdout",
     "output_type": "stream",
     "text": [
      "Total welfare = 890654.0097027041\n"
     ]
    }
   ],
   "source": [
    "product_attribute_observed = ['x1','x2','x3']\n",
    "product_attribute_unobs = 'xi'\n",
    "eps = 'eps_ijm'\n",
    "price = 'price'\n",
    "taste = demand_m100_prod3.true_par['beta']\n",
    "price_sensitivity = 'alpha'\n",
    "\n",
    "demand_m100_prod3.simulate_consumer_choice(product_attribute_observed, product_attribute_unobs, price,\n",
    "                                    taste, price_sensitivity, eps)\n"
   ]
  },
  {
   "cell_type": "code",
   "execution_count": 224,
   "metadata": {},
   "outputs": [
    {
     "name": "stdout",
     "output_type": "stream",
     "text": [
      "Total Profits of each firm (product) = \n",
      "            total_profit\n",
      "product_id              \n",
      "0           72773.203259\n",
      "1           11349.279688\n",
      "2           12595.680439\n"
     ]
    }
   ],
   "source": [
    "cost_attribute_observed = ['w', 'z']\n",
    "cost_input_coeff = demand_m100_prod3.true_par['gamma']\n",
    "error_term = 'eta'\n",
    "\n",
    "demand_m100_prod3.simulate_firm_profit(cost_attribute_observed, price, cost_input_coeff, error_term)"
   ]
  },
  {
   "cell_type": "markdown",
   "metadata": {},
   "source": [
    "## Plot"
   ]
  },
  {
   "cell_type": "code",
   "execution_count": 225,
   "metadata": {},
   "outputs": [],
   "source": [
    "path = resultpath + '/' + 'Q1'\n",
    "\n",
    "# demand system:\n",
    "demand_sys = demand_m100_prod3\n",
    "num_m = 100\n",
    "num_prod = 3"
   ]
  },
  {
   "cell_type": "markdown",
   "metadata": {},
   "source": [
    "1. price:"
   ]
  },
  {
   "cell_type": "code",
   "execution_count": 226,
   "metadata": {},
   "outputs": [
    {
     "data": {
      "image/png": "[encoded data removed]",
      "text/plain": [
       "<Figure size 432x288 with 1 Axes>"
      ]
     },
     "metadata": {
      "needs_background": "light"
     },
     "output_type": "display_data"
    }
   ],
   "source": [
    "mf.hist_and_kdensity_bygroup(demand_sys.products, 'price', \n",
    "                        var_label = 'distribution of prices (across market)', \n",
    "                        groupname = 'product_id', group_label = 'product',\n",
    "                            save = True, figpath= path, figname = 'dist_price_m{}_prod{}'.format(num_m,num_prod))"
   ]
  },
  {
   "cell_type": "markdown",
   "metadata": {},
   "source": [
    "2. firms' profits"
   ]
  },
  {
   "cell_type": "code",
   "execution_count": 227,
   "metadata": {},
   "outputs": [
    {
     "name": "stdout",
     "output_type": "stream",
     "text": [
      "--- Firm Sales ---\n"
     ]
    },
    {
     "data": {
      "image/png": "[encoded data removed]",
      "text/plain": [
       "<Figure size 432x288 with 1 Axes>"
      ]
     },
     "metadata": {
      "needs_background": "light"
     },
     "output_type": "display_data"
    },
    {
     "name": "stdout",
     "output_type": "stream",
     "text": [
      "--- Firm Profits ---\n"
     ]
    },
    {
     "data": {
      "image/png": "[encoded data removed]",
      "text/plain": [
       "<Figure size 432x288 with 1 Axes>"
      ]
     },
     "metadata": {
      "needs_background": "light"
     },
     "output_type": "display_data"
    }
   ],
   "source": [
    "print('--- Firm Sales ---')\n",
    "mf.hist_and_kdensity_bygroup(demand_sys.products, 'sales', \n",
    "                        var_label = 'distribution of sales (across market)', \n",
    "                        groupname = 'product_id', group_label = 'product')\n",
    "print('--- Firm Profits ---')\n",
    "mf.hist_and_kdensity_bygroup(demand_sys.products, 'profit_jm', \n",
    "                        var_label = 'distribution of profits (across market)', \n",
    "                        groupname = 'product_id', group_label = 'product',  \n",
    "                             save = True, figpath= path, figname = 'dist_profit_m{}_prod{}'.format(num_m,num_prod))\n"
   ]
  },
  {
   "cell_type": "markdown",
   "metadata": {},
   "source": [
    "3. utility and welfare"
   ]
  },
  {
   "cell_type": "code",
   "execution_count": 228,
   "metadata": {},
   "outputs": [
    {
     "name": "stdout",
     "output_type": "stream",
     "text": [
      "------ Welfare ------\n",
      "Welfare distribution for all markets:\n"
     ]
    },
    {
     "data": {
      "image/png": "[encoded data removed]",
      "text/plain": [
       "<Figure size 432x288 with 1 Axes>"
      ]
     },
     "metadata": {
      "needs_background": "light"
     },
     "output_type": "display_data"
    }
   ],
   "source": [
    "print('------ Welfare ------')\n",
    "print('Welfare distribution for all markets:')\n",
    "mf.hist_and_kdensity(demand_sys.consumers['utility'], var_label = 'distribution of consumer utility',\n",
    "                     save = True, figpath= path, figname = 'dist_welfare_m{}_prod{}'.format(num_m,num_prod))"
   ]
  },
  {
   "cell_type": "code",
   "execution_count": 229,
   "metadata": {},
   "outputs": [
    {
     "name": "stdout",
     "output_type": "stream",
     "text": [
      "Welfare distribution in market 58:\n"
     ]
    },
    {
     "data": {
      "image/png": "[encoded data removed]",
      "text/plain": [
       "<Figure size 432x288 with 1 Axes>"
      ]
     },
     "metadata": {
      "needs_background": "light"
     },
     "output_type": "display_data"
    }
   ],
   "source": [
    "# one specific market\n",
    "market = 58\n",
    "print('Welfare distribution in market {}:'.format(market))\n",
    "mf.hist_and_kdensity(demand_sys.consumers.loc[demand_sys.consumers['market_id']==market, 'utility'],\n",
    "                      var_label = 'distribution of consumer utility in market {}'.format(market))"
   ]
  },
  {
   "cell_type": "markdown",
   "metadata": {},
   "source": [
    "4. check whether the simulated choices match the given shares variable:"
   ]
  },
  {
   "cell_type": "code",
   "execution_count": 230,
   "metadata": {},
   "outputs": [],
   "source": [
    "def plot_fit(yvar, xvar, ylabel = None, xlabel = None):\n",
    "\n",
    "        # Figure parameters\n",
    "        area = np.pi*3\n",
    "        # Plot\n",
    "        plt.figure()\n",
    "        plt.scatter(xvar, yvar, s=area, alpha=0.5)\n",
    "        plt.title('Scatter plot')\n",
    "        if xlabel != None:\n",
    "            plt.xlabel(xlabel)\n",
    "        if ylabel != None:\n",
    "            plt.ylabel(ylabel)\n",
    "        plt.show()"
   ]
  },
  {
   "cell_type": "code",
   "execution_count": 231,
   "metadata": {},
   "outputs": [],
   "source": [
    "df = demand_sys.products.copy()"
   ]
  },
  {
   "cell_type": "code",
   "execution_count": 232,
   "metadata": {},
   "outputs": [
    {
     "data": {
      "image/png": "[encoded data removed]",
      "text/plain": [
       "<Figure size 432x288 with 1 Axes>"
      ]
     },
     "metadata": {
      "needs_background": "light"
     },
     "output_type": "display_data"
    }
   ],
   "source": [
    "# check whether the given share and the share I got roughtly match\n",
    "#df.sort_values(['market_id','product_id']).head(20)\n",
    "\n",
    "plot_fit(df['shares'], df['sales'], ylabel = 'shares', xlabel = 'sales')"
   ]
  },
  {
   "cell_type": "code",
   "execution_count": 233,
   "metadata": {},
   "outputs": [
    {
     "data": {
      "text/plain": [
       "DescribeResult(nobs=100, minmax=(500, 500), mean=500.0, variance=0.0, skewness=0.0, kurtosis=-3.0)"
      ]
     },
     "execution_count": 233,
     "metadata": {},
     "output_type": "execute_result"
    }
   ],
   "source": [
    "# check whether all consumers buy\n",
    "stats.describe( df.groupby('market_id').agg({'sales':np.sum})['sales'] )"
   ]
  },
  {
   "cell_type": "markdown",
   "metadata": {},
   "source": [
    "emm... >_< Not match at all ... and everyone buys"
   ]
  },
  {
   "cell_type": "markdown",
   "metadata": {},
   "source": [
    "# Q2. Estimation: Demand side instrument"
   ]
  },
  {
   "cell_type": "code",
   "execution_count": 234,
   "metadata": {},
   "outputs": [],
   "source": [
    "demand_sys = copy.deepcopy(demand_m100_prod3) \n",
    "num_m = 100\n",
    "num_prod = 3"
   ]
  },
  {
   "cell_type": "markdown",
   "metadata": {},
   "source": [
    "## 1. check E[xi|X] and E[xi|p]"
   ]
  },
  {
   "cell_type": "code",
   "execution_count": 235,
   "metadata": {},
   "outputs": [
    {
     "data": {
      "text/html": [
       "<div>\n",
       "<style scoped>\n",
       "    .dataframe tbody tr th:only-of-type {\n",
       "        vertical-align: middle;\n",
       "    }\n",
       "\n",
       "    .dataframe tbody tr th {\n",
       "        vertical-align: top;\n",
       "    }\n",
       "\n",
       "    .dataframe thead th {\n",
       "        text-align: right;\n",
       "    }\n",
       "</style>\n",
       "<table border=\"1\" class=\"dataframe\">\n",
       "  <thead>\n",
       "    <tr style=\"text-align: right;\">\n",
       "      <th></th>\n",
       "      <th>x1</th>\n",
       "      <th>x2</th>\n",
       "      <th>x3</th>\n",
       "      <th>xi</th>\n",
       "      <th>w</th>\n",
       "      <th>z</th>\n",
       "      <th>eta</th>\n",
       "      <th>price</th>\n",
       "      <th>shares</th>\n",
       "      <th>product_id</th>\n",
       "      <th>market_id</th>\n",
       "      <th>sales</th>\n",
       "      <th>marginal_cost</th>\n",
       "      <th>profit_jm</th>\n",
       "    </tr>\n",
       "  </thead>\n",
       "  <tbody>\n",
       "    <tr>\n",
       "      <th>0</th>\n",
       "      <td>1.0</td>\n",
       "      <td>0.624347</td>\n",
       "      <td>-0.367594</td>\n",
       "      <td>-0.366493</td>\n",
       "      <td>1.209865</td>\n",
       "      <td>0.807019</td>\n",
       "      <td>1.575772</td>\n",
       "      <td>6.342124</td>\n",
       "      <td>0.000052</td>\n",
       "      <td>0</td>\n",
       "      <td>0</td>\n",
       "      <td>493</td>\n",
       "      <td>5.592656</td>\n",
       "      <td>369.488012</td>\n",
       "    </tr>\n",
       "    <tr>\n",
       "      <th>1</th>\n",
       "      <td>1.0</td>\n",
       "      <td>0.127053</td>\n",
       "      <td>1.273785</td>\n",
       "      <td>1.161577</td>\n",
       "      <td>-0.753643</td>\n",
       "      <td>-0.364226</td>\n",
       "      <td>-1.166985</td>\n",
       "      <td>2.464050</td>\n",
       "      <td>0.093166</td>\n",
       "      <td>0</td>\n",
       "      <td>1</td>\n",
       "      <td>481</td>\n",
       "      <td>-0.284854</td>\n",
       "      <td>1322.222650</td>\n",
       "    </tr>\n",
       "    <tr>\n",
       "      <th>2</th>\n",
       "      <td>1.0</td>\n",
       "      <td>0.831763</td>\n",
       "      <td>1.151899</td>\n",
       "      <td>-0.348806</td>\n",
       "      <td>-0.035024</td>\n",
       "      <td>-0.642238</td>\n",
       "      <td>0.428736</td>\n",
       "      <td>2.780759</td>\n",
       "      <td>0.185344</td>\n",
       "      <td>0</td>\n",
       "      <td>2</td>\n",
       "      <td>431</td>\n",
       "      <td>1.751474</td>\n",
       "      <td>443.621967</td>\n",
       "    </tr>\n",
       "    <tr>\n",
       "      <th>3</th>\n",
       "      <td>1.0</td>\n",
       "      <td>0.411836</td>\n",
       "      <td>1.213139</td>\n",
       "      <td>1.319643</td>\n",
       "      <td>1.209865</td>\n",
       "      <td>0.745363</td>\n",
       "      <td>-2.201110</td>\n",
       "      <td>3.982488</td>\n",
       "      <td>0.004939</td>\n",
       "      <td>0</td>\n",
       "      <td>3</td>\n",
       "      <td>497</td>\n",
       "      <td>1.754119</td>\n",
       "      <td>1107.499615</td>\n",
       "    </tr>\n",
       "    <tr>\n",
       "      <th>4</th>\n",
       "      <td>1.0</td>\n",
       "      <td>0.802276</td>\n",
       "      <td>-0.196385</td>\n",
       "      <td>0.290679</td>\n",
       "      <td>-0.753643</td>\n",
       "      <td>-0.771445</td>\n",
       "      <td>0.206746</td>\n",
       "      <td>2.770808</td>\n",
       "      <td>0.034881</td>\n",
       "      <td>0</td>\n",
       "      <td>4</td>\n",
       "      <td>351</td>\n",
       "      <td>0.681657</td>\n",
       "      <td>733.292096</td>\n",
       "    </tr>\n",
       "  </tbody>\n",
       "</table>\n",
       "</div>"
      ],
      "text/plain": [
       "    x1        x2        x3        xi         w         z       eta     price  \\\n",
       "0  1.0  0.624347 -0.367594 -0.366493  1.209865  0.807019  1.575772  6.342124   \n",
       "1  1.0  0.127053  1.273785  1.161577 -0.753643 -0.364226 -1.166985  2.464050   \n",
       "2  1.0  0.831763  1.151899 -0.348806 -0.035024 -0.642238  0.428736  2.780759   \n",
       "3  1.0  0.411836  1.213139  1.319643  1.209865  0.745363 -2.201110  3.982488   \n",
       "4  1.0  0.802276 -0.196385  0.290679 -0.753643 -0.771445  0.206746  2.770808   \n",
       "\n",
       "     shares  product_id  market_id  sales  marginal_cost    profit_jm  \n",
       "0  0.000052           0          0    493       5.592656   369.488012  \n",
       "1  0.093166           0          1    481      -0.284854  1322.222650  \n",
       "2  0.185344           0          2    431       1.751474   443.621967  \n",
       "3  0.004939           0          3    497       1.754119  1107.499615  \n",
       "4  0.034881           0          4    351       0.681657   733.292096  "
      ]
     },
     "execution_count": 235,
     "metadata": {},
     "output_type": "execute_result"
    }
   ],
   "source": [
    "demand_sys.products.head()"
   ]
  },
  {
   "cell_type": "code",
   "execution_count": 236,
   "metadata": {},
   "outputs": [],
   "source": [
    "# generate p_bar\n",
    "p_sum = demand_sys.products.groupby('product_id').agg({'price': np.sum }).rename(columns = {'price': 'price_others'} )\n",
    "demand_sys.products = pd.merge(demand_sys.products, \n",
    "                               p_sum, \n",
    "                               left_on = 'product_id', right_on = 'product_id' )"
   ]
  },
  {
   "cell_type": "code",
   "execution_count": 237,
   "metadata": {},
   "outputs": [],
   "source": [
    "demand_sys.products['price_others'] = (demand_sys.products['price_others'] - demand_sys.products['price']) / (num_m-1)"
   ]
  },
  {
   "cell_type": "code",
   "execution_count": 238,
   "metadata": {},
   "outputs": [],
   "source": [
    "xi = demand_sys.products['xi']\n",
    "x  = demand_sys.products[['x1', 'x2', 'x3']]\n",
    "p  = demand_sys.products['price']\n",
    "p_ave = demand_sys.products['price_others']"
   ]
  },
  {
   "cell_type": "code",
   "execution_count": 239,
   "metadata": {},
   "outputs": [
    {
     "name": "stdout",
     "output_type": "stream",
     "text": [
      "E[xi * p] = 44.46994756195193\n",
      "E[xi * x] = [13.03831111  6.22257672 10.65945097]\n",
      "E[xi * p_{-m}] = 33.4634952483429\n"
     ]
    }
   ],
   "source": [
    "print('E[xi * p] = {}'.format(xi@p) )\n",
    "print('E[xi * x] = {}'.format((xi.values[np.newaxis,:]@x.values)[0,:]) )\n",
    "print('E[xi * p_{{-m}}] = {}'.format(xi@p_ave) )"
   ]
  },
  {
   "cell_type": "code",
   "execution_count": 240,
   "metadata": {},
   "outputs": [
    {
     "data": {
      "text/plain": [
       "array([[ 1.        , -0.03227296],\n",
       "       [-0.03227296,  1.        ]])"
      ]
     },
     "execution_count": 240,
     "metadata": {},
     "output_type": "execute_result"
    }
   ],
   "source": [
    "np.corrcoef(demand_sys.products[['price_others', 'xi']].values.T )"
   ]
  },
  {
   "cell_type": "code",
   "execution_count": 241,
   "metadata": {},
   "outputs": [
    {
     "data": {
      "text/plain": [
       "array([[1.        , 0.01217211],\n",
       "       [0.01217211, 1.        ]])"
      ]
     },
     "execution_count": 241,
     "metadata": {},
     "output_type": "execute_result"
    }
   ],
   "source": [
    "np.corrcoef(demand_sys.products[['price', 'xi']].values.T )"
   ]
  },
  {
   "cell_type": "code",
   "execution_count": 242,
   "metadata": {},
   "outputs": [
    {
     "name": "stderr",
     "output_type": "stream",
     "text": [
      "/Users/jingyuanwang/anaconda3/lib/python3.7/site-packages/numpy/lib/function_base.py:2530: RuntimeWarning: invalid value encountered in true_divide\n",
      "  c /= stddev[:, None]\n",
      "/Users/jingyuanwang/anaconda3/lib/python3.7/site-packages/numpy/lib/function_base.py:2531: RuntimeWarning: invalid value encountered in true_divide\n",
      "  c /= stddev[None, :]\n"
     ]
    },
    {
     "data": {
      "text/plain": [
       "array([[        nan,         nan,         nan,         nan],\n",
       "       [        nan,  1.        , -0.03054624, -0.00672525],\n",
       "       [        nan, -0.03054624,  1.        ,  0.03492287],\n",
       "       [        nan, -0.00672525,  0.03492287,  1.        ]])"
      ]
     },
     "execution_count": 242,
     "metadata": {},
     "output_type": "execute_result"
    }
   ],
   "source": [
    "np.corrcoef(demand_sys.products[['x1','x2','x3', 'xi']].values.T )"
   ]
  },
  {
   "cell_type": "markdown",
   "metadata": {},
   "source": [
    "## 2. Estimate BLP "
   ]
  },
  {
   "cell_type": "code",
   "execution_count": 243,
   "metadata": {},
   "outputs": [],
   "source": [
    "df = demand_sys.products.copy()"
   ]
  },
  {
   "cell_type": "code",
   "execution_count": 244,
   "metadata": {},
   "outputs": [],
   "source": [
    "price = 'price'"
   ]
  },
  {
   "cell_type": "code",
   "execution_count": 245,
   "metadata": {},
   "outputs": [],
   "source": [
    "sigma_p = 3"
   ]
  },
  {
   "cell_type": "code",
   "execution_count": 246,
   "metadata": {},
   "outputs": [
    {
     "data": {
      "text/plain": [
       "{'beta': array([5, 1, 1]),\n",
       " 'alpha_0': 1,\n",
       " 'alpha_sigma': 1,\n",
       " 'gamma': array([2, 1, 1])}"
      ]
     },
     "execution_count": 246,
     "metadata": {},
     "output_type": "execute_result"
    }
   ],
   "source": [
    "true_parameters"
   ]
  },
  {
   "cell_type": "code",
   "execution_count": 247,
   "metadata": {},
   "outputs": [],
   "source": [
    "delta = np.zeros(len(demand_sys.products))\n",
    "delta_true = (demand_sys.products['xi'] \n",
    "              + demand_sys.products[product_attribute_observed].values@np.array([5,1,1])\n",
    "              - demand_sys.products[price]*1)\n",
    "share_true = df['shares']"
   ]
  },
  {
   "cell_type": "code",
   "execution_count": 248,
   "metadata": {},
   "outputs": [],
   "source": [
    "#delta_try = BACK_OUT_products_social_ave_valuation_FROM_market_share(1, delta_true)"
   ]
  },
  {
   "cell_type": "code",
   "execution_count": 251,
   "metadata": {},
   "outputs": [
    {
     "data": {
      "text/plain": [
       "0     0.001684\n",
       "1     0.343404\n",
       "2     0.111615\n",
       "3     0.497433\n",
       "4     0.157118\n",
       "5     0.727019\n",
       "6     0.943727\n",
       "7     0.008667\n",
       "8     0.001584\n",
       "9     0.025597\n",
       "10    0.024137\n",
       "11    0.241716\n",
       "12    0.048877\n",
       "13    0.009947\n",
       "14    0.002143\n",
       "15    0.124844\n",
       "16    0.002014\n",
       "17    0.052442\n",
       "18    0.057570\n",
       "19    0.018796\n",
       "Name: prob, dtype: float64"
      ]
     },
     "execution_count": 251,
     "metadata": {},
     "output_type": "execute_result"
    }
   ],
   "source": [
    "demand_sys.one_consumer_prob_on_each_prod(0 , delta_true, sigma_p, price).head(20)"
   ]
  },
  {
   "cell_type": "code",
   "execution_count": null,
   "metadata": {},
   "outputs": [
    {
     "name": "stdout",
     "output_type": "stream",
     "text": [
      "complete simulating 0th element of the share\n",
      "complete simulating 20th element of the share\n",
      "complete simulating 40th element of the share\n",
      "complete simulating 60th element of the share\n",
      "complete simulating 80th element of the share\n",
      "complete simulating 100th element of the share\n"
     ]
    }
   ],
   "source": [
    "\n",
    "\n",
    "s = demand_sys.products_social_ave_valuation_TO_market_share_slowbutaccurate(1, \n",
    "                                                                             delta_true, \n",
    "                                                                             price, \n",
    "                                                                             print_progress = True)\n"
   ]
  },
  {
   "cell_type": "code",
   "execution_count": 69,
   "metadata": {},
   "outputs": [],
   "source": [
    "# contraction mapping\n",
    "def BACK_OUT_products_social_ave_valuation_FROM_market_share(sigma_p, delta_init, maxiter=1, tol = 1e-4):\n",
    "    \n",
    "    delta = delta_init\n",
    "    \n",
    "    error = 99\n",
    "    iteration = 0\n",
    "    if error > tol and iteration < maxiter:\n",
    "        s = demand_sys.products_social_ave_valuation_TO_market_share(sigma_p, delta, price)\n",
    "        delta_new = delta + ln(share_true) - ln(s)\n",
    "        \n",
    "        # update\n",
    "        error = sum(abs(delta_new - delta))\n",
    "        delta = delta_new\n",
    "        iteration = iteration + 1\n",
    "    \n",
    "    if error <= tol:\n",
    "        print('converges in {} iterations, with tolerance = {}'.format(iteration, error))\n",
    "    else:\n",
    "        print('does not converge in {} iterations, current error = {}'.format(iteration, error))\n",
    "    return delta"
   ]
  },
  {
   "cell_type": "code",
   "execution_count": 678,
   "metadata": {},
   "outputs": [],
   "source": [
    "W = np.eye(3)\n",
    "beta = np.array([5,1,1])\n",
    "alpha = 1"
   ]
  },
  {
   "cell_type": "code",
   "execution_count": 717,
   "metadata": {},
   "outputs": [
    {
     "data": {
      "text/plain": [
       "3.9638858436478484e-09"
      ]
     },
     "execution_count": 717,
     "metadata": {},
     "output_type": "execute_result"
    }
   ],
   "source": [
    "gmm_obj(results.x,delta_true, W)"
   ]
  },
  {
   "cell_type": "code",
   "execution_count": null,
   "metadata": {},
   "outputs": [],
   "source": [
    "# contraction mapping for innitial value"
   ]
  },
  {
   "cell_type": "code",
   "execution_count": null,
   "metadata": {},
   "outputs": [],
   "source": [
    "constraint = lambda parameter: share_true - demand_sys.products_social_ave_valuation_TO_market_share(parameter[0], \n",
    "                                                                                             parameter[1:], \n",
    "                                                                                             price)\n",
    "results = opt.minimize(outter_obj,\n",
    "                       np.ones(300+1),\n",
    "                       constraints={'type': 'eq', 'fun': constraint} )"
   ]
  },
  {
   "cell_type": "code",
   "execution_count": 728,
   "metadata": {},
   "outputs": [],
   "source": [
    "def outter_obj(parameters):\n",
    "    sigma_k = parameters[0]\n",
    "    delta = parameters[1:]\n",
    "    results = opt.minimize(gmm_obj,\n",
    "                       np.ones(4),\n",
    "                       args = (delta,W) )\n",
    "    return results.fun"
   ]
  },
  {
   "cell_type": "code",
   "execution_count": 729,
   "metadata": {},
   "outputs": [],
   "source": [
    "def gmm_obj(parameter, delta, W):\n",
    "    alpha = parameter[0]\n",
    "    beta = parameter[1:]\n",
    "    xi = delta - df[product_attribute_observed].values@beta + df[price].values*alpha\n",
    "    \n",
    "    G_sum = xi[np.newaxis,:]@df[product_attribute_observed].values\n",
    "    \n",
    "    obj = G_sum@W@G_sum.T\n",
    "    return obj[0,0]"
   ]
  },
  {
   "cell_type": "code",
   "execution_count": null,
   "metadata": {},
   "outputs": [],
   "source": [
    "def one_stage_obj(parameters):\n",
    "    sigma_k = parameters[0]\n",
    "    alpha   = parameters[1]\n",
    "    beta    = parameters[2:2+k]\n",
    "    delta   = parameters[2+k:]\n",
    "    \n",
    "    xi = delta - df[product_attribute_observed].values@beta + df[price].values*alpha\n",
    "    \n",
    "    \n",
    "    G_sum = xi[np.newaxis,:]@df[product_attribute_observed + exogenous_var ].values\n",
    "    \n",
    "    obj = G_sum@W@G_sum.T\n",
    "    \n",
    "    return obj[0,0]"
   ]
  },
  {
   "cell_type": "markdown",
   "metadata": {},
   "source": [
    "# Appendix"
   ]
  },
  {
   "cell_type": "markdown",
   "metadata": {},
   "source": [
    "## later: tips for simulated integral"
   ]
  },
  {
   "cell_type": "code",
   "execution_count": 289,
   "metadata": {},
   "outputs": [
    {
     "data": {
      "text/plain": [
       "[<matplotlib.lines.Line2D at 0x1a1c42a898>]"
      ]
     },
     "execution_count": 289,
     "metadata": {},
     "output_type": "execute_result"
    },
    {
     "data": {
      "image/png": "[encoded data removed]",
      "text/plain": [
       "<Figure size 432x288 with 1 Axes>"
      ]
     },
     "metadata": {
      "needs_background": "light"
     },
     "output_type": "display_data"
    }
   ],
   "source": [
    "x = np.linspace(stats.norm.ppf(0.01),\n",
    "                stats.norm.ppf(0.99), 100)\n",
    "plt.plot(x, stats.norm.pdf(x),\n",
    "        'r-', lw=5, alpha=0.6, label='norm pdf')"
   ]
  },
  {
   "cell_type": "code",
   "execution_count": 98,
   "metadata": {},
   "outputs": [],
   "source": [
    "def random_draw(n, seed):\n",
    "    '''draw n v_ips randomly from N(0,1)\n",
    "    \n",
    "    Input:\n",
    "    --n, int, length of the output vector.\n",
    "    --seed, random seeed'''\n",
    "    np.random.seed(seed=seed)\n",
    "    \n",
    "    #v = np.random.normal(loc=0.0, scale=1.0, size=n)\n",
    "    v = np.random.lognormal(mean=0.0, sigma=1.0, size=n)\n",
    "    \n",
    "    return v"
   ]
  },
  {
   "cell_type": "code",
   "execution_count": 103,
   "metadata": {},
   "outputs": [],
   "source": [
    "def simulated_integral_one_sample(n, seed):\n",
    "    \n",
    "    v_sample = random_draw(n, seed)\n",
    "    agg_prob = np.zeros(len(df_input))\n",
    "    for i in range(n):\n",
    "        v_ip = v_sample[i]\n",
    "        prob_on_each_prod_market = one_consumer_prob_on_each_prod(df_input, v_ip , delta_true, 1, price)\n",
    "        \n",
    "        agg_prob = prob_on_each_prod_market + agg_prob\n",
    "    \n",
    "    agg_prob = agg_prob/n\n",
    "    return agg_prob"
   ]
  },
  {
   "cell_type": "code",
   "execution_count": 104,
   "metadata": {},
   "outputs": [],
   "source": [
    "def simulated_integral(n_init = 1000, seed_init = 13344, tol = 1e-20):\n",
    "\n",
    "    var = 99\n",
    "    n = n_init \n",
    "    \n",
    "    if var > tol:\n",
    "        prob = pd.DataFrame()\n",
    "        for sample_id in range(8):\n",
    "            seed = seed_init + sample_id\n",
    "            prob['sample{}'.format(sample_id)] = simulated_integral_one_sample(n, seed)\n",
    "        \n",
    "        var = np.var(prob, axis = 1).sum()\n",
    "        n = n * 2\n",
    "    \n",
    "    prob_hat = np.mean(prob,axis = 1)\n",
    "    return prob_hat"
   ]
  },
  {
   "cell_type": "code",
   "execution_count": 105,
   "metadata": {},
   "outputs": [],
   "source": [
    "agg_prob = simulated_integral(1000, 13344)"
   ]
  },
  {
   "cell_type": "code",
   "execution_count": 109,
   "metadata": {},
   "outputs": [
    {
     "data": {
      "text/plain": [
       "DescribeResult(nobs=300, minmax=(1.774195918184991e-05, 0.4996705002121732), mean=0.18692415771840581, variance=0.03523574727514234, skewness=0.49429828523830116, kurtosis=-1.3929494807396878)"
      ]
     },
     "execution_count": 109,
     "metadata": {},
     "output_type": "execute_result"
    }
   ],
   "source": [
    "stats.describe(agg_prob)"
   ]
  },
  {
   "cell_type": "code",
   "execution_count": 110,
   "metadata": {},
   "outputs": [
    {
     "data": {
      "text/plain": [
       "DescribeResult(nobs=300, minmax=(1.093797027801017e-05, 0.824439901073805), mean=0.22447833125575534, variance=0.05123047549014478, skewness=0.8837132920504875, kurtosis=-0.4524908183419627)"
      ]
     },
     "execution_count": 110,
     "metadata": {},
     "output_type": "execute_result"
    }
   ],
   "source": [
    "stats.describe(df_input['shares'])"
   ]
  },
  {
   "cell_type": "code",
   "execution_count": null,
   "metadata": {},
   "outputs": [],
   "source": []
  },
  {
   "cell_type": "code",
   "execution_count": 74,
   "metadata": {},
   "outputs": [
    {
     "data": {
      "text/plain": [
       "0.00042158064296521944"
      ]
     },
     "execution_count": 74,
     "metadata": {},
     "output_type": "execute_result"
    }
   ],
   "source": []
  },
  {
   "cell_type": "markdown",
   "metadata": {},
   "source": [
    "## already moved into .py file"
   ]
  },
  {
   "cell_type": "code",
   "execution_count": 41,
   "metadata": {},
   "outputs": [],
   "source": [
    "df_input = demand_sys.products\n",
    "v_ip = 1\n",
    "sigma_p = 1"
   ]
  },
  {
   "cell_type": "code",
   "execution_count": 46,
   "metadata": {},
   "outputs": [],
   "source": [
    "a = one_consumer_prob_on_each_prod(df_input, v[1] , delta_true, sigma_p, price)"
   ]
  },
  {
   "cell_type": "code",
   "execution_count": null,
   "metadata": {},
   "outputs": [],
   "source": []
  },
  {
   "cell_type": "code",
   "execution_count": 43,
   "metadata": {},
   "outputs": [],
   "source": [
    "def one_consumer_utility_driven_by_random_coeff(df_input, v_ip , sigma_p, price):\n",
    "    '''v_ip is 1-dim '''\n",
    "    df = df_input.copy()\n",
    "    \n",
    "    mu_ij = -df[price] * sigma_p * v_ip\n",
    "     \n",
    "    # return a vector, length = i*j-by-1, same order as self.products\n",
    "    return mu_ij"
   ]
  },
  {
   "cell_type": "code",
   "execution_count": 44,
   "metadata": {},
   "outputs": [],
   "source": [
    "def one_consumer_prob_on_each_prod(df_input, v_ip , delta, sigma_p, price):\n",
    "    '''v_ip is 1-dim '''\n",
    "    df = df_input.copy()\n",
    "    \n",
    "    # 1.calculate the random part:\n",
    "    mu = one_consumer_utility_driven_by_random_coeff(df, v_ip, sigma_p, price)\n",
    "    \n",
    "    # 2.the score for each product\n",
    "    df['score'] = delta + mu\n",
    "    # later on we will do \\[prob = exp(score)/sum( exp(score)  of all product offered) \\] for each person\n",
    "    # to avoid exp(something large) = inf:\n",
    "    #     for each person, \n",
    "    #         devide the denominator and numerator by exp(max product score for this person)\n",
    "    #         equivalent to \n",
    "    #         score for each product - max score \n",
    "    maxscore = df.groupby('market_id').agg({'score':np.max}).rename(columns = {'score':'max_score'})\n",
    "    df = pd.merge(df,maxscore, how = 'left', left_on = 'market_id', right_on = 'market_id')\n",
    "    df['score'] = df['score'] - df['max_score']\n",
    "    df.drop(columns = 'max_score')\n",
    "    \n",
    "    \n",
    "    # 3. calculate a probability of chosing each product for each consumer, based on the score\n",
    "    df['expscore'] = np.exp(df['score'])\n",
    "    total_expscore = df.groupby('market_id').agg({'expscore': np.sum}).rename(columns = {'expscore':'total_expscore'})\n",
    "    # notice here we ignore outside option for a sec\n",
    "    df = pd.merge(df, total_expscore, how = 'left', left_on = 'market_id', right_on = 'market_id')\n",
    "    df['prob'] = np.exp(df['score'])/ (df['total_expscore'] + np.exp(0 - df['max_score']) ) # re-consider the outside option\n",
    "        \n",
    "    # 4. return \n",
    "    probability = df['prob']\n",
    "    \n",
    "    return probability\n",
    "    "
   ]
  },
  {
   "cell_type": "code",
   "execution_count": 45,
   "metadata": {},
   "outputs": [],
   "source": [
    "# a function: given delta, get s\n",
    "def products_social_ave_valuation_To_market_share(df_input, sigma_p, delta, price):\n",
    "    ''' A function predict the market share of each product \n",
    "    using product social average valuation, delta, \n",
    "    and parameters on consumers' tastes randomness on x, an observable product character.\n",
    "    \n",
    "    Input:\n",
    "    --deltas is a series of product characterisctic: num_prod by 1. \n",
    "    --sigma_p is a scalar, variance of random taste on price \n",
    "    --price, str, price col name in df_input '''\n",
    "        \n",
    "    shares = np.zeros(num_m*num_prod)\n",
    "    \n",
    "    # could write a simulation though, but since it's just 1 dim, use build-in integral function from scipyß\n",
    "    for i in range(num_m*num_prod):\n",
    "        shares[i] = integrate.quad(lambda v: \n",
    "                                  one_consumer_prob_on_each_prod(df_input, v_ip = v, delta = delta, sigma_p = sigma_p, price = price)[i] * stats.norm.pdf(v)\n",
    "                                  ,stats.norm.ppf(0.01),\n",
    "                                  stats.norm.ppf(0.99))[0]\n",
    "    \n",
    "    return shares"
   ]
  },
  {
   "cell_type": "code",
   "execution_count": null,
   "metadata": {},
   "outputs": [],
   "source": []
  },
  {
   "cell_type": "code",
   "execution_count": null,
   "metadata": {},
   "outputs": [],
   "source": []
  },
  {
   "cell_type": "code",
   "execution_count": null,
   "metadata": {},
   "outputs": [],
   "source": []
  },
  {
   "cell_type": "code",
   "execution_count": null,
   "metadata": {},
   "outputs": [],
   "source": []
  },
  {
   "cell_type": "code",
   "execution_count": null,
   "metadata": {},
   "outputs": [],
   "source": []
  },
  {
   "cell_type": "code",
   "execution_count": null,
   "metadata": {},
   "outputs": [],
   "source": []
  }
 ],
 "metadata": {
  "kernelspec": {
   "display_name": "Python 3",
   "language": "python",
   "name": "python3"
  },
  "language_info": {
   "codemirror_mode": {
    "name": "ipython",
    "version": 3
   },
   "file_extension": ".py",
   "mimetype": "text/x-python",
   "name": "python",
   "nbconvert_exporter": "python",
   "pygments_lexer": "ipython3",
   "version": "3.7.3"
  }
 },
 "nbformat": 4,
 "nbformat_minor": 2
}
