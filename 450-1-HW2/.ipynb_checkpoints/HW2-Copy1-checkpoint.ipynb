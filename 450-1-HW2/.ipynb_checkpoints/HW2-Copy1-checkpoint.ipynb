{
 "cells": [
  {
   "cell_type": "code",
   "execution_count": 639,
   "metadata": {},
   "outputs": [
    {
     "data": {
      "text/plain": [
       "<module 'myfunctions' from '/Users/jingyuanwang/GitHub/NU450_HW/myfunctions.py'>"
      ]
     },
     "execution_count": 639,
     "metadata": {},
     "output_type": "execute_result"
    }
   ],
   "source": [
    "import numpy as np\n",
    "import pandas as pd\n",
    "import os,sys,inspect\n",
    "import scipy.stats as stats\n",
    "import scipy.optimize as opt\n",
    "import scipy.integrate as integrate\n",
    "from scipy.io import loadmat\n",
    "import econtools \n",
    "import econtools.metrics as mt\n",
    "import statsmodels.discrete.discrete_model as sm\n",
    "import matplotlib.pyplot as plt\n",
    "import itertools as it\n",
    "import copy\n",
    "\n",
    "# mine\n",
    "# (1)\n",
    "import demand_discrete_choice as dc1\n",
    "import demand_discrete_choice.DiscreteChoice as dc\n",
    "\n",
    "# (2)\n",
    "currentdir = os.path.dirname(os.path.abspath(inspect.getfile(inspect.currentframe())))\n",
    "parentdir = os.path.dirname(currentdir)\n",
    "sys.path.insert(0,parentdir) \n",
    "import myfunctions as mf\n",
    "\n",
    "import importlib\n",
    "importlib.reload(dc)\n",
    "importlib.reload(mf)"
   ]
  },
  {
   "cell_type": "code",
   "execution_count": 640,
   "metadata": {},
   "outputs": [],
   "source": [
    "#help(dc)"
   ]
  },
  {
   "cell_type": "code",
   "execution_count": 641,
   "metadata": {},
   "outputs": [],
   "source": [
    "# ------------------------------------------------------------------------\n",
    "# NOTE\n",
    "# ------------------------------------------------------------------------\n",
    "# Purpose: HW2 \n",
    "# \n",
    "# Import data and stats\n",
    "# \n",
    "#\n",
    "# ------------------------------------------------------------------------"
   ]
  },
  {
   "cell_type": "markdown",
   "metadata": {},
   "source": [
    "# Initialize file path"
   ]
  },
  {
   "cell_type": "code",
   "execution_count": 642,
   "metadata": {},
   "outputs": [],
   "source": [
    "rootpath = '/Users/jingyuanwang/Dropbox/Course/ECON/IO/NU450/NU450_HW/450-1-HW2'\n",
    "datapath = rootpath + '/' + 'data'\n",
    "resultpath = rootpath + '/' + 'results'"
   ]
  },
  {
   "cell_type": "markdown",
   "metadata": {},
   "source": [
    "# Parameters\n",
    "Everything should be input in the following cell. \n",
    "All other cells are just operation and calculation."
   ]
  },
  {
   "cell_type": "code",
   "execution_count": 643,
   "metadata": {},
   "outputs": [],
   "source": [
    "# model parameters (true value)\n",
    "true_parameters = {'beta': np.array([5,1,1]),\n",
    "                   'alpha_0': 1,\n",
    "                   'alpha_sigma':1,\n",
    "                   'gamma': np.array([2,1,1])}\n",
    "\n",
    "# import file names\n",
    "matfiles = ['10markets3products', '100markets3products','100markets5products']\n",
    "names = ['m10_prod3', 'm100_prod3', 'm100_prod5']"
   ]
  },
  {
   "cell_type": "markdown",
   "metadata": {},
   "source": [
    "# Import Data"
   ]
  },
  {
   "cell_type": "code",
   "execution_count": 644,
   "metadata": {},
   "outputs": [],
   "source": [
    "# 1 import\n",
    "inputfiles = dict(zip(names, matfiles))\n",
    "data = {}\n",
    "for name, filename in inputfiles.items():\n",
    "    file = datapath + '/Simulation Data/'+ filename\n",
    "    data[name] = loadmat(file)\n"
   ]
  },
  {
   "cell_type": "code",
   "execution_count": 645,
   "metadata": {},
   "outputs": [],
   "source": [
    "# 2. clean and save to a class\n",
    "num_of_market = 100\n",
    "num_of_prod = 3\n",
    "sample = 'm{}_prod{}'.format(num_of_market,num_of_prod)\n",
    "\n",
    "\n",
    "df_product = (pd.DataFrame(np.concatenate( \n",
    "                          (data[sample]['x1'],\n",
    "                           data[sample]['xi_all'],\n",
    "                           data[sample]['w'], \n",
    "                           data[sample]['Z'],\n",
    "                           data[sample]['eta']), axis = 1 ))\n",
    "              .rename(columns = {0:'x1',1:'x2',2:'x3',3:'xi', 4:'w', 5:'z',6:'eta'}) )\n",
    "df_product['price'] = np.reshape(data[sample]['P_opt'], (num_of_market*num_of_prod,1))\n",
    "df_product['shares'] = np.reshape(data[sample]['shares'], (num_of_market*num_of_prod,1))\n",
    "\n",
    "df_product['product_id'] = np.repeat(np.arange(num_of_prod)[:,np.newaxis], num_of_market, axis = 0)\n",
    "\n",
    "df_product['market_id'] = (np.repeat(np.arange(num_of_market)[:, np.newaxis], \n",
    "                                      num_of_prod, axis=1)\n",
    "                                .reshape((num_of_prod*num_of_market,1), order = 'F') )\n",
    "product_ids = {'market_id':'market_id',\n",
    "               'product_id':'product_id'}\n",
    "\n",
    "# consumer\n",
    "df_consumer = pd.DataFrame(data[sample]['alphas'].T, columns=[idx for idx in range(num_of_market) ])\n",
    "df_consumer = df_consumer.stack().reset_index().rename(columns = {'level_0':'consumer_id', \n",
    "                                                                  'level_1':'market_id',\n",
    "                                                                  0:'alpha'})\n",
    "\n",
    "\n",
    "consumer_ids = {'market_id':'market_id',\n",
    "               'consumer_id':'consumer_id'}\n"
   ]
  },
  {
   "cell_type": "code",
   "execution_count": 646,
   "metadata": {},
   "outputs": [],
   "source": [
    "# 3. fit it into a class: discrete choice\n",
    "\n",
    "#demand_m10_prod3 = dc.DiscreteChoice(df_consumer, consumer_ids, df_product, product_ids, true_parameters=true_parameters)\n",
    "demand_m100_prod3 = dc.DiscreteChoice(df_consumer, consumer_ids, \n",
    "                                      df_product, product_ids, include_outside_option = True,\n",
    "                                      true_parameters=true_parameters)\n",
    "#demand_m100_prod5 = dc.DiscreteChoice(df_consumer, consumer_ids, df_product, product_ids, true_parameters=true_parameters)\n"
   ]
  },
  {
   "cell_type": "markdown",
   "metadata": {},
   "source": [
    "# Q1. Simulate consumer choice and welfare"
   ]
  },
  {
   "cell_type": "markdown",
   "metadata": {},
   "source": [
    "## simulate"
   ]
  },
  {
   "cell_type": "code",
   "execution_count": 245,
   "metadata": {},
   "outputs": [
    {
     "name": "stdout",
     "output_type": "stream",
     "text": [
      "Total welfare = 891167.4346184715\n"
     ]
    }
   ],
   "source": [
    "product_attribute_observed = ['x1','x2','x3']\n",
    "product_attribute_unobs = 'xi'\n",
    "eps = 'eps_ijm'\n",
    "price = 'price'\n",
    "taste = demand_m100_prod3.true_par['beta']\n",
    "price_sensitivity = 'alpha'\n",
    "\n",
    "demand_m100_prod3.simulate_consumer_choice(product_attribute_observed, product_attribute_unobs, price,\n",
    "                                    taste, price_sensitivity, eps)\n"
   ]
  },
  {
   "cell_type": "code",
   "execution_count": 246,
   "metadata": {},
   "outputs": [
    {
     "name": "stdout",
     "output_type": "stream",
     "text": [
      "Total Profits of each firm (product) = \n",
      "            total_profit\n",
      "product_id              \n",
      "0               0.000000\n",
      "1           72764.366183\n",
      "2           11343.799952\n",
      "3           12575.346968\n"
     ]
    }
   ],
   "source": [
    "cost_attribute_observed = ['w', 'z']\n",
    "cost_input_coeff = demand_m100_prod3.true_par['gamma']\n",
    "error_term = 'eta'\n",
    "\n",
    "demand_m100_prod3.simulate_firm_profit(cost_attribute_observed, price, cost_input_coeff, error_term)"
   ]
  },
  {
   "cell_type": "markdown",
   "metadata": {},
   "source": [
    "## Plot"
   ]
  },
  {
   "cell_type": "code",
   "execution_count": 248,
   "metadata": {},
   "outputs": [],
   "source": [
    "path = resultpath + '/' + 'Q1'\n",
    "\n",
    "# demand system:\n",
    "demand_sys = copy.deepcopy(demand_m100_prod3)\n",
    "num_m = 100\n",
    "num_prod = 3"
   ]
  },
  {
   "cell_type": "markdown",
   "metadata": {},
   "source": [
    "1. price:"
   ]
  },
  {
   "cell_type": "code",
   "execution_count": 249,
   "metadata": {},
   "outputs": [
    {
     "data": {
      "image/png": "[encoded data removed]",
      "text/plain": [
       "<Figure size 432x288 with 1 Axes>"
      ]
     },
     "metadata": {
      "needs_background": "light"
     },
     "output_type": "display_data"
    }
   ],
   "source": [
    "mf.hist_and_kdensity_bygroup(demand_sys.products[demand_sys.products['product_id']!= 0], 'price', \n",
    "                        var_label = 'distribution of prices (across market)', \n",
    "                        groupname = 'product_id', group_label = 'product',\n",
    "                            save = True, figpath= path, figname = 'dist_price_m{}_prod{}'.format(num_m,num_prod))"
   ]
  },
  {
   "cell_type": "markdown",
   "metadata": {},
   "source": [
    "2. firms' profits"
   ]
  },
  {
   "cell_type": "code",
   "execution_count": 250,
   "metadata": {},
   "outputs": [
    {
     "name": "stdout",
     "output_type": "stream",
     "text": [
      "--- Firm Sales ---\n"
     ]
    },
    {
     "data": {
      "image/png": "[encoded data removed]",
      "text/plain": [
       "<Figure size 432x288 with 1 Axes>"
      ]
     },
     "metadata": {
      "needs_background": "light"
     },
     "output_type": "display_data"
    },
    {
     "name": "stdout",
     "output_type": "stream",
     "text": [
      "--- Firm Profits ---\n"
     ]
    },
    {
     "data": {
      "image/png": "[encoded data removed]",
      "text/plain": [
       "<Figure size 432x288 with 1 Axes>"
      ]
     },
     "metadata": {
      "needs_background": "light"
     },
     "output_type": "display_data"
    }
   ],
   "source": [
    "print('--- Firm Sales ---')\n",
    "mf.hist_and_kdensity_bygroup(demand_sys.products[demand_sys.products['product_id']!= 0], \n",
    "                             'sales', \n",
    "                        var_label = 'distribution of sales (across market)', \n",
    "                        groupname = 'product_id', group_label = 'product')\n",
    "print('--- Firm Profits ---')\n",
    "mf.hist_and_kdensity_bygroup(demand_sys.products[demand_sys.products['product_id']!= 0], \n",
    "                             'profit_jm', \n",
    "                        var_label = 'distribution of profits (across market)', \n",
    "                        groupname = 'product_id', group_label = 'product',  \n",
    "                             save = True, figpath= path, figname = 'dist_profit_m{}_prod{}'.format(num_m,num_prod))\n"
   ]
  },
  {
   "cell_type": "markdown",
   "metadata": {},
   "source": [
    "3. utility and welfare"
   ]
  },
  {
   "cell_type": "code",
   "execution_count": 251,
   "metadata": {},
   "outputs": [
    {
     "name": "stdout",
     "output_type": "stream",
     "text": [
      "------ Welfare ------\n",
      "Welfare distribution for all markets:\n"
     ]
    },
    {
     "data": {
      "image/png": "[encoded data removed]",
      "text/plain": [
       "<Figure size 432x288 with 1 Axes>"
      ]
     },
     "metadata": {
      "needs_background": "light"
     },
     "output_type": "display_data"
    }
   ],
   "source": [
    "print('------ Welfare ------')\n",
    "print('Welfare distribution for all markets:')\n",
    "mf.hist_and_kdensity(demand_sys.consumers['utility'], var_label = 'distribution of consumer utility',\n",
    "                     save = True, figpath= path, figname = 'dist_welfare_m{}_prod{}'.format(num_m,num_prod))"
   ]
  },
  {
   "cell_type": "code",
   "execution_count": 252,
   "metadata": {},
   "outputs": [
    {
     "name": "stdout",
     "output_type": "stream",
     "text": [
      "Welfare distribution in market 58:\n"
     ]
    },
    {
     "data": {
      "image/png": "[encoded data removed]",
      "text/plain": [
       "<Figure size 432x288 with 1 Axes>"
      ]
     },
     "metadata": {
      "needs_background": "light"
     },
     "output_type": "display_data"
    }
   ],
   "source": [
    "# one specific market\n",
    "market = 58\n",
    "print('Welfare distribution in market {}:'.format(market))\n",
    "mf.hist_and_kdensity(demand_sys.consumers.loc[demand_sys.consumers['market_id']==market, 'utility'],\n",
    "                      var_label = 'distribution of consumer utility in market {}'.format(market))"
   ]
  },
  {
   "cell_type": "markdown",
   "metadata": {},
   "source": [
    "4. check whether the simulated choices match the given shares variable:"
   ]
  },
  {
   "cell_type": "code",
   "execution_count": 253,
   "metadata": {},
   "outputs": [],
   "source": [
    "def plot_fit(yvar, xvar, ylabel = None, xlabel = None):\n",
    "\n",
    "        # Figure parameters\n",
    "        area = np.pi*3\n",
    "        # Plot\n",
    "        plt.figure()\n",
    "        plt.scatter(xvar, yvar, s=area, alpha=0.5)\n",
    "        plt.title('Scatter plot')\n",
    "        if xlabel != None:\n",
    "            plt.xlabel(xlabel)\n",
    "        if ylabel != None:\n",
    "            plt.ylabel(ylabel)\n",
    "        plt.show()"
   ]
  },
  {
   "cell_type": "code",
   "execution_count": 254,
   "metadata": {},
   "outputs": [],
   "source": [
    "df = demand_sys.products.copy()"
   ]
  },
  {
   "cell_type": "code",
   "execution_count": 256,
   "metadata": {},
   "outputs": [
    {
     "data": {
      "image/png": "[encoded data removed]",
      "text/plain": [
       "<Figure size 432x288 with 1 Axes>"
      ]
     },
     "metadata": {
      "needs_background": "light"
     },
     "output_type": "display_data"
    }
   ],
   "source": [
    "# check whether the given share and the share I got roughtly match\n",
    "#df.sort_values(['market_id','product_id']).head(20)\n",
    "\n",
    "plot_fit(df['shares'], df['sales']/500, ylabel = 'shares', xlabel = 'sales')"
   ]
  },
  {
   "cell_type": "code",
   "execution_count": 268,
   "metadata": {},
   "outputs": [
    {
     "data": {
      "text/plain": [
       "DescribeResult(nobs=100, minmax=(499, 500), mean=499.98, variance=0.0197979797979798, skewness=-6.857142857143243, kurtosis=45.02040816326886)"
      ]
     },
     "execution_count": 268,
     "metadata": {},
     "output_type": "execute_result"
    }
   ],
   "source": [
    "# check whether all consumers buy\n",
    "df = df[ df['product_id']!=0 ]\n",
    "stats.describe( df.groupby('market_id').agg({'sales':np.sum})['sales'] )"
   ]
  },
  {
   "cell_type": "markdown",
   "metadata": {},
   "source": [
    "emm... >_< Not match at all ... and most consumer buys"
   ]
  },
  {
   "cell_type": "markdown",
   "metadata": {},
   "source": [
    "# Q2. Estimation: Demand side instrument"
   ]
  },
  {
   "cell_type": "code",
   "execution_count": 269,
   "metadata": {},
   "outputs": [],
   "source": [
    "demand_sys = copy.deepcopy(demand_m100_prod3) \n",
    "num_m = 100\n",
    "num_prod = 3"
   ]
  },
  {
   "cell_type": "markdown",
   "metadata": {},
   "source": [
    "## 1. check E[xi|X] and E[xi|p]"
   ]
  },
  {
   "cell_type": "code",
   "execution_count": 278,
   "metadata": {},
   "outputs": [],
   "source": [
    "demand_sys.products.head()\n",
    "df = demand_sys.products[demand_sys.products['product_id']!=0]"
   ]
  },
  {
   "cell_type": "code",
   "execution_count": 279,
   "metadata": {},
   "outputs": [],
   "source": [
    "# generate p_bar\n",
    "p_sum = demand_sys.products.groupby('product_id').agg({'price': np.sum }).rename(columns = {'price': 'price_others'} )\n",
    "demand_sys.products = pd.merge(demand_sys.products, \n",
    "                               p_sum, \n",
    "                               left_on = 'product_id', right_on = 'product_id' )"
   ]
  },
  {
   "cell_type": "code",
   "execution_count": 280,
   "metadata": {},
   "outputs": [],
   "source": [
    "demand_sys.products['price_others'] = (demand_sys.products['price_others'] - demand_sys.products['price']) / (num_m-1)"
   ]
  },
  {
   "cell_type": "code",
   "execution_count": 281,
   "metadata": {},
   "outputs": [],
   "source": [
    "xi = demand_sys.products['xi']\n",
    "x  = demand_sys.products[['x1', 'x2', 'x3']]\n",
    "p  = demand_sys.products['price']\n",
    "p_ave = demand_sys.products['price_others']"
   ]
  },
  {
   "cell_type": "code",
   "execution_count": 282,
   "metadata": {},
   "outputs": [
    {
     "name": "stdout",
     "output_type": "stream",
     "text": [
      "E[xi * p] = 44.469947561951926\n",
      "E[xi * x] = [13.03831111  6.22257672 10.65945097]\n",
      "E[xi * p_{-m}] = 33.46349524834291\n"
     ]
    }
   ],
   "source": [
    "print('E[xi * p] = {}'.format(xi@p) )\n",
    "print('E[xi * x] = {}'.format((xi.values[np.newaxis,:]@x.values)[0,:]) )\n",
    "print('E[xi * p_{{-m}}] = {}'.format(xi@p_ave) )"
   ]
  },
  {
   "cell_type": "code",
   "execution_count": 288,
   "metadata": {},
   "outputs": [
    {
     "data": {
      "text/plain": [
       "array([[1.        , 0.00786875],\n",
       "       [0.00786875, 1.        ]])"
      ]
     },
     "execution_count": 288,
     "metadata": {},
     "output_type": "execute_result"
    }
   ],
   "source": [
    "np.corrcoef(demand_sys.products[['price_others', 'xi']].values.T )"
   ]
  },
  {
   "cell_type": "code",
   "execution_count": 289,
   "metadata": {},
   "outputs": [
    {
     "data": {
      "text/plain": [
       "array([[1.        , 0.01217211],\n",
       "       [0.01217211, 1.        ]])"
      ]
     },
     "execution_count": 289,
     "metadata": {},
     "output_type": "execute_result"
    }
   ],
   "source": [
    "np.corrcoef(df[['price', 'xi']].values.T )"
   ]
  },
  {
   "cell_type": "code",
   "execution_count": 286,
   "metadata": {},
   "outputs": [
    {
     "name": "stderr",
     "output_type": "stream",
     "text": [
      "/Users/jingyuanwang/anaconda3/lib/python3.7/site-packages/numpy/lib/function_base.py:2530: RuntimeWarning: invalid value encountered in true_divide\n",
      "  c /= stddev[:, None]\n",
      "/Users/jingyuanwang/anaconda3/lib/python3.7/site-packages/numpy/lib/function_base.py:2531: RuntimeWarning: invalid value encountered in true_divide\n",
      "  c /= stddev[None, :]\n"
     ]
    },
    {
     "data": {
      "text/plain": [
       "array([[        nan,         nan,         nan,         nan],\n",
       "       [        nan,  1.        , -0.03054624, -0.00672525],\n",
       "       [        nan, -0.03054624,  1.        ,  0.03492287],\n",
       "       [        nan, -0.00672525,  0.03492287,  1.        ]])"
      ]
     },
     "execution_count": 286,
     "metadata": {},
     "output_type": "execute_result"
    }
   ],
   "source": [
    "np.corrcoef(df[['x1','x2','x3', 'xi']].values.T )"
   ]
  },
  {
   "cell_type": "markdown",
   "metadata": {},
   "source": [
    "## 2. Estimate BLP "
   ]
  },
  {
   "cell_type": "code",
   "execution_count": 647,
   "metadata": {},
   "outputs": [],
   "source": [
    "demand_sys = copy.deepcopy(demand_m100_prod3) \n",
    "num_m = 100\n",
    "num_prod = 3"
   ]
  },
  {
   "cell_type": "code",
   "execution_count": 648,
   "metadata": {},
   "outputs": [],
   "source": [
    "#df = demand_sys.products.copy()"
   ]
  },
  {
   "cell_type": "code",
   "execution_count": 649,
   "metadata": {},
   "outputs": [],
   "source": [
    "price = 'price'"
   ]
  },
  {
   "cell_type": "code",
   "execution_count": 650,
   "metadata": {},
   "outputs": [],
   "source": [
    "sigma_p = 1"
   ]
  },
  {
   "cell_type": "code",
   "execution_count": 651,
   "metadata": {},
   "outputs": [
    {
     "data": {
      "text/plain": [
       "{'beta': array([5, 1, 1]),\n",
       " 'alpha_0': 1,\n",
       " 'alpha_sigma': 1,\n",
       " 'gamma': array([2, 1, 1])}"
      ]
     },
     "execution_count": 651,
     "metadata": {},
     "output_type": "execute_result"
    }
   ],
   "source": [
    "true_parameters"
   ]
  },
  {
   "cell_type": "code",
   "execution_count": 652,
   "metadata": {},
   "outputs": [],
   "source": [
    "delta = np.zeros(len(demand_sys.products))\n",
    "delta_true = (demand_sys.products['xi'] \n",
    "              + demand_sys.products[product_attribute_observed].values@np.array([5,1,1])\n",
    "              - demand_sys.products[price]*1)\n",
    "share_true = df['shares']"
   ]
  },
  {
   "cell_type": "code",
   "execution_count": 653,
   "metadata": {},
   "outputs": [],
   "source": [
    "#delta_try = BACK_OUT_products_social_ave_valuation_FROM_market_share(1, delta_true)"
   ]
  },
  {
   "cell_type": "code",
   "execution_count": 654,
   "metadata": {},
   "outputs": [
    {
     "data": {
      "text/plain": [
       "0    0.000000\n",
       "1   -1.451864\n",
       "2    4.213719\n",
       "3    4.251359\n",
       "4    0.000000\n",
       "dtype: float64"
      ]
     },
     "execution_count": 654,
     "metadata": {},
     "output_type": "execute_result"
    }
   ],
   "source": [
    "delta_true.head()"
   ]
  },
  {
   "cell_type": "code",
   "execution_count": 479,
   "metadata": {},
   "outputs": [
    {
     "name": "stdout",
     "output_type": "stream",
     "text": [
      "complete simulating 0th element of the share\n",
      "complete simulating 20th element of the share\n",
      "complete simulating 40th element of the share\n",
      "complete simulating 60th element of the share\n",
      "complete simulating 80th element of the share\n",
      "complete simulating 100th element of the share\n",
      "complete simulating 120th element of the share\n",
      "complete simulating 140th element of the share\n",
      "complete simulating 160th element of the share\n",
      "complete simulating 180th element of the share\n",
      "complete simulating 200th element of the share\n",
      "complete simulating 220th element of the share\n",
      "complete simulating 240th element of the share\n",
      "complete simulating 260th element of the share\n",
      "complete simulating 280th element of the share\n",
      "complete simulating 300th element of the share\n",
      "complete simulating 320th element of the share\n",
      "complete simulating 340th element of the share\n",
      "complete simulating 360th element of the share\n",
      "complete simulating 380th element of the share\n"
     ]
    }
   ],
   "source": [
    "df['s_simul'] = demand_sys.products_social_ave_valuation_TO_market_share_Slowbutaccurate(delta_true,1,price, print_progress = True)\n"
   ]
  },
  {
   "cell_type": "code",
   "execution_count": 630,
   "metadata": {},
   "outputs": [
    {
     "name": "stdout",
     "output_type": "stream",
     "text": [
      "- n = 5000, var = 0.0023219373332246536\n"
     ]
    }
   ],
   "source": [
    "df['s_simul_2'] = demand_sys.products_social_ave_valuation_TO_market_share_simulated_integral(delta_true,\n",
    "                                                                                1,\n",
    "                                                                                price,\n",
    "                                                                                n_init = 5000,\n",
    "                                                                                tol = 0.1,\n",
    "                                                                                print_progress = True)\n",
    "\n"
   ]
  },
  {
   "cell_type": "code",
   "execution_count": 655,
   "metadata": {},
   "outputs": [],
   "source": [
    "# contraction mapping\n",
    "def BACK_OUT_products_social_ave_valuation_FROM_market_share(sigma_p, delta_init, maxiter=5, tol = 1e-4):\n",
    "    \n",
    "    delta = delta_init\n",
    "    \n",
    "    error = 99\n",
    "    iteration = 0\n",
    "    while error > tol and iteration < maxiter:\n",
    "        s = demand_sys.products_social_ave_valuation_TO_market_share_simulated_integral(delta, sigma_p, price)\n",
    "        delta_new = delta + np.log(share_true) - np.log(s)\n",
    "        \n",
    "        # update\n",
    "        error = sum(abs(delta_new - delta))\n",
    "        delta = delta_new\n",
    "        iteration = iteration + 1\n",
    "    \n",
    "    if error <= tol:\n",
    "        print('converges in {} iterations, with tolerance = {}'.format(iteration, error))\n",
    "    else:\n",
    "        print('does not converge in {} iterations, current error = {}'.format(iteration, error))\n",
    "    return delta"
   ]
  },
  {
   "cell_type": "code",
   "execution_count": 658,
   "metadata": {},
   "outputs": [
    {
     "ename": "NameError",
     "evalue": "name 'ln' is not defined",
     "output_type": "error",
     "traceback": [
      "\u001b[0;31m---------------------------------------------------------------------------\u001b[0m",
      "\u001b[0;31mNameError\u001b[0m                                 Traceback (most recent call last)",
      "\u001b[0;32m<ipython-input-658-f9861e66b9f1>\u001b[0m in \u001b[0;36m<module>\u001b[0;34m\u001b[0m\n\u001b[0;32m----> 1\u001b[0;31m \u001b[0mdelta_update\u001b[0m \u001b[0;34m=\u001b[0m \u001b[0mBACK_OUT_products_social_ave_valuation_FROM_market_share\u001b[0m\u001b[0;34m(\u001b[0m\u001b[0msigma_p\u001b[0m \u001b[0;34m=\u001b[0m \u001b[0;36m1\u001b[0m\u001b[0;34m,\u001b[0m\u001b[0mdelta_init\u001b[0m \u001b[0;34m=\u001b[0m \u001b[0mdelta\u001b[0m\u001b[0;34m)\u001b[0m\u001b[0;34m\u001b[0m\u001b[0;34m\u001b[0m\u001b[0m\n\u001b[0m",
      "\u001b[0;32m<ipython-input-655-f1a02b709f9f>\u001b[0m in \u001b[0;36mBACK_OUT_products_social_ave_valuation_FROM_market_share\u001b[0;34m(sigma_p, delta_init, maxiter, tol)\u001b[0m\n\u001b[1;32m      8\u001b[0m     \u001b[0;32mwhile\u001b[0m \u001b[0merror\u001b[0m \u001b[0;34m>\u001b[0m \u001b[0mtol\u001b[0m \u001b[0;32mand\u001b[0m \u001b[0miteration\u001b[0m \u001b[0;34m<\u001b[0m \u001b[0mmaxiter\u001b[0m\u001b[0;34m:\u001b[0m\u001b[0;34m\u001b[0m\u001b[0;34m\u001b[0m\u001b[0m\n\u001b[1;32m      9\u001b[0m         \u001b[0ms\u001b[0m \u001b[0;34m=\u001b[0m \u001b[0mdemand_sys\u001b[0m\u001b[0;34m.\u001b[0m\u001b[0mproducts_social_ave_valuation_TO_market_share_simulated_integral\u001b[0m\u001b[0;34m(\u001b[0m\u001b[0mdelta\u001b[0m\u001b[0;34m,\u001b[0m \u001b[0msigma_p\u001b[0m\u001b[0;34m,\u001b[0m \u001b[0mprice\u001b[0m\u001b[0;34m)\u001b[0m\u001b[0;34m\u001b[0m\u001b[0;34m\u001b[0m\u001b[0m\n\u001b[0;32m---> 10\u001b[0;31m         \u001b[0mdelta_new\u001b[0m \u001b[0;34m=\u001b[0m \u001b[0mdelta\u001b[0m \u001b[0;34m+\u001b[0m \u001b[0mln\u001b[0m\u001b[0;34m(\u001b[0m\u001b[0mshare_true\u001b[0m\u001b[0;34m)\u001b[0m \u001b[0;34m-\u001b[0m \u001b[0mln\u001b[0m\u001b[0;34m(\u001b[0m\u001b[0ms\u001b[0m\u001b[0;34m)\u001b[0m\u001b[0;34m\u001b[0m\u001b[0;34m\u001b[0m\u001b[0m\n\u001b[0m\u001b[1;32m     11\u001b[0m \u001b[0;34m\u001b[0m\u001b[0m\n\u001b[1;32m     12\u001b[0m         \u001b[0;31m# update\u001b[0m\u001b[0;34m\u001b[0m\u001b[0;34m\u001b[0m\u001b[0;34m\u001b[0m\u001b[0m\n",
      "\u001b[0;31mNameError\u001b[0m: name 'ln' is not defined"
     ]
    }
   ],
   "source": [
    "delta_update = BACK_OUT_products_social_ave_valuation_FROM_market_share(sigma_p = 1,delta_init = delta)"
   ]
  },
  {
   "cell_type": "code",
   "execution_count": 661,
   "metadata": {},
   "outputs": [
    {
     "data": {
      "text/plain": [
       "0     -1.438052\n",
       "1     -8.781283\n",
       "2     -0.801576\n",
       "3     -1.158887\n",
       "4     -2.566751\n",
       "5     -2.040800\n",
       "6     -0.614329\n",
       "7     -1.377189\n",
       "8     -3.796634\n",
       "9     -3.721147\n",
       "10    -4.358544\n",
       "11    -0.061290\n",
       "12    -1.201632\n",
       "13    -1.901869\n",
       "14    -0.929875\n",
       "15    -1.861724\n",
       "16    -1.520477\n",
       "17    -2.693555\n",
       "18    -1.444159\n",
       "19    -0.738546\n",
       "20    -0.444292\n",
       "21    -1.375970\n",
       "22    -2.408728\n",
       "23    -4.122889\n",
       "24    -0.696186\n",
       "25    -0.714302\n",
       "26    -4.478308\n",
       "27    -7.369035\n",
       "28    -2.281145\n",
       "29    -7.253845\n",
       "         ...   \n",
       "370   -0.396712\n",
       "371   -3.790361\n",
       "372   -1.501454\n",
       "373   -6.517479\n",
       "374   -0.792442\n",
       "375   -1.130168\n",
       "376   -0.920860\n",
       "377   -5.608405\n",
       "378   -2.172680\n",
       "379   -0.725083\n",
       "380   -1.005371\n",
       "381   -2.239337\n",
       "382   -1.018936\n",
       "383   -1.792261\n",
       "384   -2.925684\n",
       "385   -4.143957\n",
       "386   -0.072954\n",
       "387   -7.049151\n",
       "388   -0.528268\n",
       "389   -2.760451\n",
       "390   -1.288225\n",
       "391   -2.640138\n",
       "392   -2.041110\n",
       "393   -5.265148\n",
       "394   -4.664650\n",
       "395   -0.156041\n",
       "396   -1.872878\n",
       "397   -2.338145\n",
       "398   -3.353675\n",
       "399   -0.335673\n",
       "Name: s_simul, Length: 400, dtype: float64"
      ]
     },
     "execution_count": 661,
     "metadata": {},
     "output_type": "execute_result"
    }
   ],
   "source": []
  },
  {
   "cell_type": "code",
   "execution_count": null,
   "metadata": {},
   "outputs": [],
   "source": []
  },
  {
   "cell_type": "code",
   "execution_count": 678,
   "metadata": {},
   "outputs": [],
   "source": [
    "W = np.eye(3)\n",
    "beta = np.array([5,1,1])\n",
    "alpha = 1"
   ]
  },
  {
   "cell_type": "code",
   "execution_count": 717,
   "metadata": {},
   "outputs": [
    {
     "data": {
      "text/plain": [
       "3.9638858436478484e-09"
      ]
     },
     "execution_count": 717,
     "metadata": {},
     "output_type": "execute_result"
    }
   ],
   "source": [
    "gmm_obj(results.x,delta_true, W)"
   ]
  },
  {
   "cell_type": "code",
   "execution_count": null,
   "metadata": {},
   "outputs": [],
   "source": [
    "# contraction mapping for innitial value"
   ]
  },
  {
   "cell_type": "code",
   "execution_count": null,
   "metadata": {},
   "outputs": [],
   "source": [
    "constraint = lambda parameter: share_true - demand_sys.products_social_ave_valuation_TO_market_share(parameter[0], \n",
    "                                                                                             parameter[1:], \n",
    "                                                                                             price)\n",
    "results = opt.minimize(outter_obj,\n",
    "                       np.ones(300+1),\n",
    "                       constraints={'type': 'eq', 'fun': constraint} )"
   ]
  },
  {
   "cell_type": "code",
   "execution_count": 728,
   "metadata": {},
   "outputs": [],
   "source": [
    "def outter_obj(parameters):\n",
    "    sigma_k = parameters[0]\n",
    "    delta = parameters[1:]\n",
    "    results = opt.minimize(gmm_obj,\n",
    "                       np.ones(4),\n",
    "                       args = (delta,W) )\n",
    "    return results.fun"
   ]
  },
  {
   "cell_type": "code",
   "execution_count": 729,
   "metadata": {},
   "outputs": [],
   "source": [
    "def gmm_obj(parameter, delta, W):\n",
    "    alpha = parameter[0]\n",
    "    beta = parameter[1:]\n",
    "    xi = delta - df[product_attribute_observed].values@beta + df[price].values*alpha\n",
    "    \n",
    "    G_sum = xi[np.newaxis,:]@df[product_attribute_observed].values\n",
    "    \n",
    "    obj = G_sum@W@G_sum.T\n",
    "    return obj[0,0]"
   ]
  },
  {
   "cell_type": "code",
   "execution_count": null,
   "metadata": {},
   "outputs": [],
   "source": [
    "def one_stage_obj(parameters):\n",
    "    sigma_k = parameters[0]\n",
    "    alpha   = parameters[1]\n",
    "    beta    = parameters[2:2+k]\n",
    "    delta   = parameters[2+k:]\n",
    "    \n",
    "    xi = delta - df[product_attribute_observed].values@beta + df[price].values*alpha\n",
    "    \n",
    "    \n",
    "    G_sum = xi[np.newaxis,:]@df[product_attribute_observed + exogenous_var ].values\n",
    "    \n",
    "    obj = G_sum@W@G_sum.T\n",
    "    \n",
    "    return obj[0,0]"
   ]
  },
  {
   "cell_type": "markdown",
   "metadata": {},
   "source": [
    "# Appendix"
   ]
  },
  {
   "cell_type": "markdown",
   "metadata": {},
   "source": [
    "## later: tips for simulated integral"
   ]
  },
  {
   "cell_type": "code",
   "execution_count": 371,
   "metadata": {},
   "outputs": [
    {
     "data": {
      "text/plain": [
       "[<matplotlib.lines.Line2D at 0x1a25c0fbe0>]"
      ]
     },
     "execution_count": 371,
     "metadata": {},
     "output_type": "execute_result"
    },
    {
     "data": {
      "image/png": "[encoded data removed]",
      "text/plain": [
       "<Figure size 432x288 with 1 Axes>"
      ]
     },
     "metadata": {
      "needs_background": "light"
     },
     "output_type": "display_data"
    }
   ],
   "source": [
    "x = np.linspace(stats.norm.ppf(0.01),\n",
    "                stats.norm.ppf(0.99), 100)\n",
    "plt.plot(x, stats.norm.pdf(x),\n",
    "        'r-', lw=5, alpha=0.6, label='norm pdf')"
   ]
  },
  {
   "cell_type": "code",
   "execution_count": null,
   "metadata": {},
   "outputs": [],
   "source": []
  },
  {
   "cell_type": "code",
   "execution_count": 98,
   "metadata": {},
   "outputs": [],
   "source": [
    "def random_draw(n, seed):\n",
    "    '''draw n v_ips randomly from N(0,1)\n",
    "    \n",
    "    Input:\n",
    "    --n, int, length of the output vector.\n",
    "    --seed, random seeed'''\n",
    "    np.random.seed(seed=seed)\n",
    "    \n",
    "    #v = np.random.normal(loc=0.0, scale=1.0, size=n)\n",
    "    v = np.random.lognormal(mean=0.0, sigma=1.0, size=n)\n",
    "    \n",
    "    return v"
   ]
  },
  {
   "cell_type": "code",
   "execution_count": 103,
   "metadata": {},
   "outputs": [],
   "source": [
    "def simulated_integral_one_sample(n, seed):\n",
    "    \n",
    "    v_sample = random_draw(n, seed)\n",
    "    agg_prob = np.zeros(len(df_input))\n",
    "    for i in range(n):\n",
    "        v_ip = v_sample[i]\n",
    "        prob_on_each_prod_market = one_consumer_prob_on_each_prod(df_input, v_ip , delta_true, 1, price)\n",
    "        \n",
    "        agg_prob = prob_on_each_prod_market + agg_prob\n",
    "    \n",
    "    agg_prob = agg_prob/n\n",
    "    return agg_prob"
   ]
  },
  {
   "cell_type": "code",
   "execution_count": 104,
   "metadata": {},
   "outputs": [],
   "source": [
    "def simulated_integral(n_init = 1000, seed_init = 13344, tol = 1e-20):\n",
    "\n",
    "    var = 99\n",
    "    n = n_init \n",
    "    \n",
    "    if var > tol:\n",
    "        prob = pd.DataFrame()\n",
    "        for sample_id in range(8):\n",
    "            seed = seed_init + sample_id\n",
    "            prob['sample{}'.format(sample_id)] = simulated_integral_one_sample(n, seed)\n",
    "        \n",
    "        var = np.var(prob, axis = 1).sum()\n",
    "        n = n * 2\n",
    "    \n",
    "    prob_hat = np.mean(prob,axis = 1)\n",
    "    return prob_hat"
   ]
  },
  {
   "cell_type": "code",
   "execution_count": 105,
   "metadata": {},
   "outputs": [],
   "source": [
    "agg_prob = simulated_integral(1000, 13344)"
   ]
  },
  {
   "cell_type": "code",
   "execution_count": 109,
   "metadata": {},
   "outputs": [
    {
     "data": {
      "text/plain": [
       "DescribeResult(nobs=300, minmax=(1.774195918184991e-05, 0.4996705002121732), mean=0.18692415771840581, variance=0.03523574727514234, skewness=0.49429828523830116, kurtosis=-1.3929494807396878)"
      ]
     },
     "execution_count": 109,
     "metadata": {},
     "output_type": "execute_result"
    }
   ],
   "source": [
    "stats.describe(agg_prob)"
   ]
  },
  {
   "cell_type": "code",
   "execution_count": 110,
   "metadata": {},
   "outputs": [
    {
     "data": {
      "text/plain": [
       "DescribeResult(nobs=300, minmax=(1.093797027801017e-05, 0.824439901073805), mean=0.22447833125575534, variance=0.05123047549014478, skewness=0.8837132920504875, kurtosis=-0.4524908183419627)"
      ]
     },
     "execution_count": 110,
     "metadata": {},
     "output_type": "execute_result"
    }
   ],
   "source": [
    "stats.describe(df_input['shares'])"
   ]
  },
  {
   "cell_type": "code",
   "execution_count": null,
   "metadata": {},
   "outputs": [],
   "source": []
  },
  {
   "cell_type": "code",
   "execution_count": 74,
   "metadata": {},
   "outputs": [
    {
     "data": {
      "text/plain": [
       "0.00042158064296521944"
      ]
     },
     "execution_count": 74,
     "metadata": {},
     "output_type": "execute_result"
    }
   ],
   "source": []
  },
  {
   "cell_type": "markdown",
   "metadata": {},
   "source": [
    "## already moved into .py file"
   ]
  },
  {
   "cell_type": "code",
   "execution_count": 41,
   "metadata": {},
   "outputs": [],
   "source": [
    "df_input = demand_sys.products\n",
    "v_ip = 1\n",
    "sigma_p = 1"
   ]
  },
  {
   "cell_type": "code",
   "execution_count": 46,
   "metadata": {},
   "outputs": [],
   "source": [
    "a = one_consumer_prob_on_each_prod(df_input, v[1] , delta_true, sigma_p, price)"
   ]
  },
  {
   "cell_type": "code",
   "execution_count": null,
   "metadata": {},
   "outputs": [],
   "source": []
  },
  {
   "cell_type": "code",
   "execution_count": 43,
   "metadata": {},
   "outputs": [],
   "source": [
    "def one_consumer_utility_driven_by_random_coeff(df_input, v_ip , sigma_p, price):\n",
    "    '''v_ip is 1-dim '''\n",
    "    df = df_input.copy()\n",
    "    \n",
    "    mu_ij = -df[price] * sigma_p * v_ip\n",
    "     \n",
    "    # return a vector, length = i*j-by-1, same order as self.products\n",
    "    return mu_ij"
   ]
  },
  {
   "cell_type": "code",
   "execution_count": 254,
   "metadata": {},
   "outputs": [],
   "source": [
    "def one_consumer_prob_on_each_prod(df_input, v_ip , delta, sigma_p, price):\n",
    "    '''v_ip is 1-dim '''\n",
    "    df = df_input.copy()\n",
    "    \n",
    "    # 1.calculate the random part:\n",
    "    mu = one_consumer_utility_driven_by_random_coeff(df, v_ip, sigma_p, price)\n",
    "    \n",
    "    # 2.the score for each product\n",
    "    df['score'] = delta + mu\n",
    "    # later on we will do \\[prob = exp(score)/sum( exp(score)  of all product offered) \\] for each person\n",
    "    # to avoid exp(something large) = inf:\n",
    "    #     for each person, \n",
    "    #         devide the denominator and numerator by exp(max product score for this person)\n",
    "    #         equivalent to \n",
    "    #         score for each product - max score \n",
    "    maxscore = df.groupby('market_id').agg({'score':np.max}).rename(columns = {'score':'max_score'})\n",
    "    df = pd.merge(df,maxscore, how = 'left', left_on = 'market_id', right_on = 'market_id')\n",
    "    df['score'] = df['score'] - df['max_score']\n",
    "    df.drop(columns = 'max_score')\n",
    "    \n",
    "    \n",
    "    # 3. calculate a probability of chosing each product for each consumer, based on the score\n",
    "    df['expscore'] = np.exp(df['score'])\n",
    "    total_expscore = df.groupby('market_id').agg({'expscore': np.sum}).rename(columns = {'expscore':'total_expscore'})\n",
    "    # notice here we ignore outside option for a sec\n",
    "    df = pd.merge(df, total_expscore, how = 'left', left_on = 'market_id', right_on = 'market_id')\n",
    "    df['prob'] = np.exp(df['score'])/ (df['total_expscore'] + np.exp(0 - df['max_score']) ) # re-consider the outside option\n",
    "        \n",
    "    # 4. return \n",
    "    probability = df['prob']\n",
    "    \n",
    "    return probability\n",
    "    "
   ]
  },
  {
   "cell_type": "code",
   "execution_count": 45,
   "metadata": {},
   "outputs": [],
   "source": [
    "# a function: given delta, get s\n",
    "def products_social_ave_valuation_To_market_share(df_input, sigma_p, delta, price):\n",
    "    ''' A function predict the market share of each product \n",
    "    using product social average valuation, delta, \n",
    "    and parameters on consumers' tastes randomness on x, an observable product character.\n",
    "    \n",
    "    Input:\n",
    "    --deltas is a series of product characterisctic: num_prod by 1. \n",
    "    --sigma_p is a scalar, variance of random taste on price \n",
    "    --price, str, price col name in df_input '''\n",
    "        \n",
    "    shares = np.zeros(num_m*num_prod)\n",
    "    \n",
    "    # could write a simulation though, but since it's just 1 dim, use build-in integral function from scipyß\n",
    "    for i in range(num_m*num_prod):\n",
    "        shares[i] = integrate.quad(lambda v: \n",
    "                                  one_consumer_prob_on_each_prod(df_input, v_ip = v, delta = delta, sigma_p = sigma_p, price = price)[i] * stats.norm.pdf(v)\n",
    "                                  ,stats.norm.ppf(0.01),\n",
    "                                  stats.norm.ppf(0.99))[0]\n",
    "    \n",
    "    return shares"
   ]
  },
  {
   "cell_type": "code",
   "execution_count": null,
   "metadata": {},
   "outputs": [],
   "source": []
  },
  {
   "cell_type": "code",
   "execution_count": null,
   "metadata": {},
   "outputs": [],
   "source": []
  },
  {
   "cell_type": "code",
   "execution_count": null,
   "metadata": {},
   "outputs": [],
   "source": []
  },
  {
   "cell_type": "code",
   "execution_count": null,
   "metadata": {},
   "outputs": [],
   "source": []
  },
  {
   "cell_type": "code",
   "execution_count": null,
   "metadata": {},
   "outputs": [],
   "source": []
  },
  {
   "cell_type": "code",
   "execution_count": null,
   "metadata": {},
   "outputs": [],
   "source": []
  }
 ],
 "metadata": {
  "kernelspec": {
   "display_name": "Python 3",
   "language": "python",
   "name": "python3"
  },
  "language_info": {
   "codemirror_mode": {
    "name": "ipython",
    "version": 3
   },
   "file_extension": ".py",
   "mimetype": "text/x-python",
   "name": "python",
   "nbconvert_exporter": "python",
   "pygments_lexer": "ipython3",
   "version": "3.7.3"
  }
 },
 "nbformat": 4,
 "nbformat_minor": 2
}
